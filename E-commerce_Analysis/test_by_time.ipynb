{
 "cells": [
  {
   "cell_type": "markdown",
   "metadata": {},
   "source": [
    "# 시간(hour)에 따른 변수들의 변화"
   ]
  },
  {
   "cell_type": "code",
   "execution_count": 9,
   "metadata": {},
   "outputs": [
    {
     "data": {
      "text/html": [
       "<div>\n",
       "<style scoped>\n",
       "    .dataframe tbody tr th:only-of-type {\n",
       "        vertical-align: middle;\n",
       "    }\n",
       "\n",
       "    .dataframe tbody tr th {\n",
       "        vertical-align: top;\n",
       "    }\n",
       "\n",
       "    .dataframe thead th {\n",
       "        text-align: right;\n",
       "    }\n",
       "</style>\n",
       "<table border=\"1\" class=\"dataframe\">\n",
       "  <thead>\n",
       "    <tr style=\"text-align: right;\">\n",
       "      <th></th>\n",
       "      <th>general_time_category</th>\n",
       "      <th>specific_time_category</th>\n",
       "      <th>time</th>\n",
       "      <th>week_day</th>\n",
       "      <th>month</th>\n",
       "      <th>day</th>\n",
       "      <th>hour</th>\n",
       "      <th>event_type_view</th>\n",
       "      <th>event_type_purchase</th>\n",
       "      <th>event_type_cart</th>\n",
       "      <th>event_type_total</th>\n",
       "      <th>total_sales</th>\n",
       "      <th>no_of_total_user</th>\n",
       "      <th>no_of_cart_user</th>\n",
       "      <th>no_of_purchase_user</th>\n",
       "      <th>purchase_of_electronics.audio.headphone</th>\n",
       "      <th>purchase_of_electronics.tablet</th>\n",
       "      <th>purchase_of_apparel.shoes</th>\n",
       "      <th>purchase_of_appliances.environment.vacuum</th>\n",
       "      <th>purchase_of_electronics.clocks</th>\n",
       "      <th>purchase_of_electronics.smartphone</th>\n",
       "      <th>purchase_of_computers.notebook</th>\n",
       "      <th>purchase_of_computers.desktop</th>\n",
       "      <th>purchase_of_appliances.kitchen.refrigerators</th>\n",
       "      <th>purchase_of_electronics.video.tv</th>\n",
       "      <th>purchase_of_appliances.kitchen.washer</th>\n",
       "      <th>sales_of_electronics.audio.headphone</th>\n",
       "      <th>sales_of_electronics.tablet</th>\n",
       "      <th>sales_of_apparel.shoes</th>\n",
       "      <th>sales_of_appliances.environment.vacuum</th>\n",
       "      <th>sales_of_electronics.clocks</th>\n",
       "      <th>sales_of_electronics.smartphone</th>\n",
       "      <th>sales_of_computers.notebook</th>\n",
       "      <th>sales_of_computers.desktop</th>\n",
       "      <th>sales_of_appliances.kitchen.refrigerators</th>\n",
       "      <th>sales_of_electronics.video.tv</th>\n",
       "      <th>sales_of_appliances.kitchen.washer</th>\n",
       "      <th>purchase_of_st_electronics</th>\n",
       "      <th>purchase_of_st_appliances</th>\n",
       "      <th>purchase_of_st_computers</th>\n",
       "      <th>purchase_of_st_apparel</th>\n",
       "      <th>purchase_of_st_furniture</th>\n",
       "      <th>purchase_of_st_auto</th>\n",
       "      <th>purchase_of_st_construction</th>\n",
       "      <th>purchase_of_st_kids</th>\n",
       "      <th>purchase_of_st_accessories</th>\n",
       "      <th>purchase_of_st_sport</th>\n",
       "      <th>purchase_of_st_medicine</th>\n",
       "      <th>purchase_of_st_country_yard</th>\n",
       "      <th>purchase_of_st_stationery</th>\n",
       "      <th>sales_of_st_electronics</th>\n",
       "      <th>sales_of_st_appliances</th>\n",
       "      <th>sales_of_st_computers</th>\n",
       "      <th>sales_of_st_apparel</th>\n",
       "      <th>sales_of_st_furniture</th>\n",
       "      <th>sales_of_st_auto</th>\n",
       "      <th>sales_of_st_construction</th>\n",
       "      <th>sales_of_st_kids</th>\n",
       "      <th>sales_of_st_accessories</th>\n",
       "      <th>sales_of_st_sport</th>\n",
       "      <th>sales_of_st_medicine</th>\n",
       "      <th>sales_of_st_country_yard</th>\n",
       "      <th>sales_of_st_stationery</th>\n",
       "      <th>cart_of_electronics.audio.headphone</th>\n",
       "      <th>cart_of_electronics.tablet</th>\n",
       "      <th>cart_of_apparel.shoes</th>\n",
       "      <th>cart_of_appliances.environment.vacuum</th>\n",
       "      <th>cart_of_electronics.clocks</th>\n",
       "      <th>cart_of_electronics.smartphone</th>\n",
       "      <th>cart_of_computers.notebook</th>\n",
       "      <th>cart_of_computers.desktop</th>\n",
       "      <th>cart_of_appliances.kitchen.refrigerators</th>\n",
       "      <th>cart_of_electronics.video.tv</th>\n",
       "      <th>cart_of_appliances.kitchen.washer</th>\n",
       "      <th>cart_of_st_electronics</th>\n",
       "      <th>cart_of_st_appliances</th>\n",
       "      <th>cart_of_st_computers</th>\n",
       "      <th>cart_of_st_apparel</th>\n",
       "      <th>cart_of_st_furniture</th>\n",
       "      <th>cart_of_st_auto</th>\n",
       "      <th>cart_of_st_construction</th>\n",
       "      <th>cart_of_st_kids</th>\n",
       "      <th>cart_of_st_accessories</th>\n",
       "      <th>cart_of_st_sport</th>\n",
       "      <th>cart_of_st_medicine</th>\n",
       "      <th>cart_of_st_country_yard</th>\n",
       "      <th>cart_of_st_stationery</th>\n",
       "      <th>view_of_electronics.audio.headphone</th>\n",
       "      <th>view_of_electronics.tablet</th>\n",
       "      <th>view_of_apparel.shoes</th>\n",
       "      <th>view_of_appliances.environment.vacuum</th>\n",
       "      <th>view_of_electronics.clocks</th>\n",
       "      <th>view_of_electronics.smartphone</th>\n",
       "      <th>view_of_computers.notebook</th>\n",
       "      <th>view_of_computers.desktop</th>\n",
       "      <th>view_of_appliances.kitchen.refrigerators</th>\n",
       "      <th>view_of_electronics.video.tv</th>\n",
       "      <th>view_of_appliances.kitchen.washer</th>\n",
       "      <th>view_of_st_electronics</th>\n",
       "      <th>view_of_st_appliances</th>\n",
       "      <th>view_of_st_computers</th>\n",
       "      <th>view_of_st_apparel</th>\n",
       "      <th>view_of_st_furniture</th>\n",
       "      <th>view_of_st_auto</th>\n",
       "      <th>view_of_st_construction</th>\n",
       "      <th>view_of_st_kids</th>\n",
       "      <th>view_of_st_accessories</th>\n",
       "      <th>view_of_st_sport</th>\n",
       "      <th>view_of_st_medicine</th>\n",
       "      <th>view_of_st_country_yard</th>\n",
       "      <th>view_of_st_stationery</th>\n",
       "      <th>no_of_view_to_purchase_user</th>\n",
       "      <th>no_of_view_to_cart_user</th>\n",
       "      <th>no_of_cart_to_purchase_user</th>\n",
       "    </tr>\n",
       "  </thead>\n",
       "  <tbody>\n",
       "    <tr>\n",
       "      <th>0</th>\n",
       "      <td>bedtime</td>\n",
       "      <td>morning</td>\n",
       "      <td>2019-10-01 04:00:00</td>\n",
       "      <td>1</td>\n",
       "      <td>10</td>\n",
       "      <td>1</td>\n",
       "      <td>4</td>\n",
       "      <td>1070</td>\n",
       "      <td>10</td>\n",
       "      <td>3</td>\n",
       "      <td>1083</td>\n",
       "      <td>2387.84000</td>\n",
       "      <td>383</td>\n",
       "      <td>3.00000</td>\n",
       "      <td>9.00000</td>\n",
       "      <td>3.00000</td>\n",
       "      <td>0.00000</td>\n",
       "      <td>0.00000</td>\n",
       "      <td>0.00000</td>\n",
       "      <td>0.00000</td>\n",
       "      <td>4.00000</td>\n",
       "      <td>0.00000</td>\n",
       "      <td>0.00000</td>\n",
       "      <td>0.00000</td>\n",
       "      <td>0.00000</td>\n",
       "      <td>0.00000</td>\n",
       "      <td>523.45000</td>\n",
       "      <td>0.00000</td>\n",
       "      <td>0.00000</td>\n",
       "      <td>0.00000</td>\n",
       "      <td>0.00000</td>\n",
       "      <td>1752.43000</td>\n",
       "      <td>0.00000</td>\n",
       "      <td>0.00000</td>\n",
       "      <td>0.00000</td>\n",
       "      <td>0.00000</td>\n",
       "      <td>0.00000</td>\n",
       "      <td>7.00000</td>\n",
       "      <td>1.00000</td>\n",
       "      <td>0.00000</td>\n",
       "      <td>0.00000</td>\n",
       "      <td>1.00000</td>\n",
       "      <td>0.00000</td>\n",
       "      <td>0.00000</td>\n",
       "      <td>0.00000</td>\n",
       "      <td>0.00000</td>\n",
       "      <td>0.00000</td>\n",
       "      <td>0.00000</td>\n",
       "      <td>0.00000</td>\n",
       "      <td>0.00000</td>\n",
       "      <td>2275.88000</td>\n",
       "      <td>28.03000</td>\n",
       "      <td>0.00000</td>\n",
       "      <td>0.00000</td>\n",
       "      <td>54.42000</td>\n",
       "      <td>0.00000</td>\n",
       "      <td>0.00000</td>\n",
       "      <td>0.00000</td>\n",
       "      <td>0.00000</td>\n",
       "      <td>0.00000</td>\n",
       "      <td>0.00000</td>\n",
       "      <td>0.00000</td>\n",
       "      <td>0.00000</td>\n",
       "      <td>1.00000</td>\n",
       "      <td>0.00000</td>\n",
       "      <td>0.00000</td>\n",
       "      <td>0.00000</td>\n",
       "      <td>0.00000</td>\n",
       "      <td>1.00000</td>\n",
       "      <td>0.00000</td>\n",
       "      <td>0.00000</td>\n",
       "      <td>0.00000</td>\n",
       "      <td>0.00000</td>\n",
       "      <td>0.00000</td>\n",
       "      <td>2.00000</td>\n",
       "      <td>0.00000</td>\n",
       "      <td>0.00000</td>\n",
       "      <td>0.00000</td>\n",
       "      <td>0.00000</td>\n",
       "      <td>0.00000</td>\n",
       "      <td>0.00000</td>\n",
       "      <td>0.00000</td>\n",
       "      <td>0.00000</td>\n",
       "      <td>0.00000</td>\n",
       "      <td>0.00000</td>\n",
       "      <td>0.00000</td>\n",
       "      <td>0.00000</td>\n",
       "      <td>32</td>\n",
       "      <td>6</td>\n",
       "      <td>11</td>\n",
       "      <td>15</td>\n",
       "      <td>20</td>\n",
       "      <td>301</td>\n",
       "      <td>31</td>\n",
       "      <td>23</td>\n",
       "      <td>22.00000</td>\n",
       "      <td>12</td>\n",
       "      <td>26</td>\n",
       "      <td>379</td>\n",
       "      <td>156</td>\n",
       "      <td>60</td>\n",
       "      <td>27</td>\n",
       "      <td>26</td>\n",
       "      <td>9</td>\n",
       "      <td>17</td>\n",
       "      <td>4.00000</td>\n",
       "      <td>1.00000</td>\n",
       "      <td>1.00000</td>\n",
       "      <td>0.00000</td>\n",
       "      <td>0.00000</td>\n",
       "      <td>0.00000</td>\n",
       "      <td>0.02350</td>\n",
       "      <td>0.00783</td>\n",
       "      <td>3.00000</td>\n",
       "    </tr>\n",
       "    <tr>\n",
       "      <th>1</th>\n",
       "      <td>bedtime</td>\n",
       "      <td>morning</td>\n",
       "      <td>2019-10-01 05:00:00</td>\n",
       "      <td>1</td>\n",
       "      <td>10</td>\n",
       "      <td>1</td>\n",
       "      <td>5</td>\n",
       "      <td>121</td>\n",
       "      <td>0</td>\n",
       "      <td>0</td>\n",
       "      <td>121</td>\n",
       "      <td>0.00000</td>\n",
       "      <td>102</td>\n",
       "      <td>0.00000</td>\n",
       "      <td>0.00000</td>\n",
       "      <td>0.00000</td>\n",
       "      <td>0.00000</td>\n",
       "      <td>0.00000</td>\n",
       "      <td>0.00000</td>\n",
       "      <td>0.00000</td>\n",
       "      <td>0.00000</td>\n",
       "      <td>0.00000</td>\n",
       "      <td>0.00000</td>\n",
       "      <td>0.00000</td>\n",
       "      <td>0.00000</td>\n",
       "      <td>0.00000</td>\n",
       "      <td>0.00000</td>\n",
       "      <td>0.00000</td>\n",
       "      <td>0.00000</td>\n",
       "      <td>0.00000</td>\n",
       "      <td>0.00000</td>\n",
       "      <td>0.00000</td>\n",
       "      <td>0.00000</td>\n",
       "      <td>0.00000</td>\n",
       "      <td>0.00000</td>\n",
       "      <td>0.00000</td>\n",
       "      <td>0.00000</td>\n",
       "      <td>0.00000</td>\n",
       "      <td>0.00000</td>\n",
       "      <td>0.00000</td>\n",
       "      <td>0.00000</td>\n",
       "      <td>0.00000</td>\n",
       "      <td>0.00000</td>\n",
       "      <td>0.00000</td>\n",
       "      <td>0.00000</td>\n",
       "      <td>0.00000</td>\n",
       "      <td>0.00000</td>\n",
       "      <td>0.00000</td>\n",
       "      <td>0.00000</td>\n",
       "      <td>0.00000</td>\n",
       "      <td>0.00000</td>\n",
       "      <td>0.00000</td>\n",
       "      <td>0.00000</td>\n",
       "      <td>0.00000</td>\n",
       "      <td>0.00000</td>\n",
       "      <td>0.00000</td>\n",
       "      <td>0.00000</td>\n",
       "      <td>0.00000</td>\n",
       "      <td>0.00000</td>\n",
       "      <td>0.00000</td>\n",
       "      <td>0.00000</td>\n",
       "      <td>0.00000</td>\n",
       "      <td>0.00000</td>\n",
       "      <td>0.00000</td>\n",
       "      <td>0.00000</td>\n",
       "      <td>0.00000</td>\n",
       "      <td>0.00000</td>\n",
       "      <td>0.00000</td>\n",
       "      <td>0.00000</td>\n",
       "      <td>0.00000</td>\n",
       "      <td>0.00000</td>\n",
       "      <td>0.00000</td>\n",
       "      <td>0.00000</td>\n",
       "      <td>0.00000</td>\n",
       "      <td>0.00000</td>\n",
       "      <td>0.00000</td>\n",
       "      <td>0.00000</td>\n",
       "      <td>0.00000</td>\n",
       "      <td>0.00000</td>\n",
       "      <td>0.00000</td>\n",
       "      <td>0.00000</td>\n",
       "      <td>0.00000</td>\n",
       "      <td>0.00000</td>\n",
       "      <td>0.00000</td>\n",
       "      <td>0.00000</td>\n",
       "      <td>0.00000</td>\n",
       "      <td>0.00000</td>\n",
       "      <td>3</td>\n",
       "      <td>2</td>\n",
       "      <td>1</td>\n",
       "      <td>1</td>\n",
       "      <td>9</td>\n",
       "      <td>38</td>\n",
       "      <td>7</td>\n",
       "      <td>1</td>\n",
       "      <td>0.00000</td>\n",
       "      <td>3</td>\n",
       "      <td>1</td>\n",
       "      <td>56</td>\n",
       "      <td>8</td>\n",
       "      <td>10</td>\n",
       "      <td>2</td>\n",
       "      <td>1</td>\n",
       "      <td>2</td>\n",
       "      <td>4</td>\n",
       "      <td>0.00000</td>\n",
       "      <td>0.00000</td>\n",
       "      <td>0.00000</td>\n",
       "      <td>1.00000</td>\n",
       "      <td>0.00000</td>\n",
       "      <td>0.00000</td>\n",
       "      <td>0.00000</td>\n",
       "      <td>0.00000</td>\n",
       "      <td>NaN</td>\n",
       "    </tr>\n",
       "    <tr>\n",
       "      <th>2</th>\n",
       "      <td>morning</td>\n",
       "      <td>morning</td>\n",
       "      <td>2019-10-01 06:00:00</td>\n",
       "      <td>1</td>\n",
       "      <td>10</td>\n",
       "      <td>1</td>\n",
       "      <td>6</td>\n",
       "      <td>22326</td>\n",
       "      <td>316</td>\n",
       "      <td>244</td>\n",
       "      <td>22886</td>\n",
       "      <td>85533.96000</td>\n",
       "      <td>5378</td>\n",
       "      <td>156.00000</td>\n",
       "      <td>268.00000</td>\n",
       "      <td>12.00000</td>\n",
       "      <td>1.00000</td>\n",
       "      <td>2.00000</td>\n",
       "      <td>5.00000</td>\n",
       "      <td>8.00000</td>\n",
       "      <td>152.00000</td>\n",
       "      <td>8.00000</td>\n",
       "      <td>2.00000</td>\n",
       "      <td>6.00000</td>\n",
       "      <td>5.00000</td>\n",
       "      <td>4.00000</td>\n",
       "      <td>848.63000</td>\n",
       "      <td>78.51000</td>\n",
       "      <td>173.49000</td>\n",
       "      <td>719.62000</td>\n",
       "      <td>1696.67000</td>\n",
       "      <td>61223.66000</td>\n",
       "      <td>3378.55000</td>\n",
       "      <td>1837.78000</td>\n",
       "      <td>1774.82000</td>\n",
       "      <td>1891.97000</td>\n",
       "      <td>957.78000</td>\n",
       "      <td>184.00000</td>\n",
       "      <td>28.00000</td>\n",
       "      <td>13.00000</td>\n",
       "      <td>3.00000</td>\n",
       "      <td>4.00000</td>\n",
       "      <td>2.00000</td>\n",
       "      <td>2.00000</td>\n",
       "      <td>1.00000</td>\n",
       "      <td>3.00000</td>\n",
       "      <td>0.00000</td>\n",
       "      <td>0.00000</td>\n",
       "      <td>0.00000</td>\n",
       "      <td>1.00000</td>\n",
       "      <td>65861.26000</td>\n",
       "      <td>4248.47000</td>\n",
       "      <td>5438.08000</td>\n",
       "      <td>213.11000</td>\n",
       "      <td>457.36000</td>\n",
       "      <td>271.85000</td>\n",
       "      <td>166.29000</td>\n",
       "      <td>19.92000</td>\n",
       "      <td>301.17000</td>\n",
       "      <td>0.00000</td>\n",
       "      <td>0.00000</td>\n",
       "      <td>0.00000</td>\n",
       "      <td>7.70000</td>\n",
       "      <td>10.00000</td>\n",
       "      <td>0.00000</td>\n",
       "      <td>0.00000</td>\n",
       "      <td>6.00000</td>\n",
       "      <td>5.00000</td>\n",
       "      <td>187.00000</td>\n",
       "      <td>0.00000</td>\n",
       "      <td>0.00000</td>\n",
       "      <td>0.00000</td>\n",
       "      <td>7.00000</td>\n",
       "      <td>1.00000</td>\n",
       "      <td>211.00000</td>\n",
       "      <td>9.00000</td>\n",
       "      <td>3.00000</td>\n",
       "      <td>0.00000</td>\n",
       "      <td>0.00000</td>\n",
       "      <td>0.00000</td>\n",
       "      <td>0.00000</td>\n",
       "      <td>0.00000</td>\n",
       "      <td>0.00000</td>\n",
       "      <td>0.00000</td>\n",
       "      <td>0.00000</td>\n",
       "      <td>0.00000</td>\n",
       "      <td>1.00000</td>\n",
       "      <td>459</td>\n",
       "      <td>87</td>\n",
       "      <td>297</td>\n",
       "      <td>368</td>\n",
       "      <td>766</td>\n",
       "      <td>5835</td>\n",
       "      <td>711</td>\n",
       "      <td>146</td>\n",
       "      <td>440.00000</td>\n",
       "      <td>334</td>\n",
       "      <td>291</td>\n",
       "      <td>7924</td>\n",
       "      <td>2765</td>\n",
       "      <td>1219</td>\n",
       "      <td>650</td>\n",
       "      <td>677</td>\n",
       "      <td>760</td>\n",
       "      <td>389</td>\n",
       "      <td>254.00000</td>\n",
       "      <td>165.00000</td>\n",
       "      <td>116.00000</td>\n",
       "      <td>8.00000</td>\n",
       "      <td>11.00000</td>\n",
       "      <td>22.00000</td>\n",
       "      <td>0.04983</td>\n",
       "      <td>0.02901</td>\n",
       "      <td>1.71795</td>\n",
       "    </tr>\n",
       "    <tr>\n",
       "      <th>3</th>\n",
       "      <td>morning</td>\n",
       "      <td>morning</td>\n",
       "      <td>2019-10-01 07:00:00</td>\n",
       "      <td>1</td>\n",
       "      <td>10</td>\n",
       "      <td>1</td>\n",
       "      <td>7</td>\n",
       "      <td>47951</td>\n",
       "      <td>845</td>\n",
       "      <td>613</td>\n",
       "      <td>49409</td>\n",
       "      <td>252050.18000</td>\n",
       "      <td>10514</td>\n",
       "      <td>380.00000</td>\n",
       "      <td>693.00000</td>\n",
       "      <td>34.00000</td>\n",
       "      <td>1.00000</td>\n",
       "      <td>4.00000</td>\n",
       "      <td>23.00000</td>\n",
       "      <td>17.00000</td>\n",
       "      <td>387.00000</td>\n",
       "      <td>12.00000</td>\n",
       "      <td>3.00000</td>\n",
       "      <td>12.00000</td>\n",
       "      <td>24.00000</td>\n",
       "      <td>20.00000</td>\n",
       "      <td>3450.00000</td>\n",
       "      <td>115.41000</td>\n",
       "      <td>275.93000</td>\n",
       "      <td>3341.02000</td>\n",
       "      <td>3388.66000</td>\n",
       "      <td>172785.42000</td>\n",
       "      <td>7064.13000</td>\n",
       "      <td>2209.69000</td>\n",
       "      <td>3021.53000</td>\n",
       "      <td>7138.46000</td>\n",
       "      <td>4655.36000</td>\n",
       "      <td>470.00000</td>\n",
       "      <td>96.00000</td>\n",
       "      <td>31.00000</td>\n",
       "      <td>9.00000</td>\n",
       "      <td>13.00000</td>\n",
       "      <td>9.00000</td>\n",
       "      <td>10.00000</td>\n",
       "      <td>9.00000</td>\n",
       "      <td>3.00000</td>\n",
       "      <td>0.00000</td>\n",
       "      <td>1.00000</td>\n",
       "      <td>0.00000</td>\n",
       "      <td>1.00000</td>\n",
       "      <td>187715.81000</td>\n",
       "      <td>16659.06000</td>\n",
       "      <td>12823.36000</td>\n",
       "      <td>622.54000</td>\n",
       "      <td>2944.32000</td>\n",
       "      <td>746.85000</td>\n",
       "      <td>836.65000</td>\n",
       "      <td>884.46000</td>\n",
       "      <td>247.11000</td>\n",
       "      <td>0.00000</td>\n",
       "      <td>51.43000</td>\n",
       "      <td>0.00000</td>\n",
       "      <td>5.12000</td>\n",
       "      <td>36.00000</td>\n",
       "      <td>2.00000</td>\n",
       "      <td>0.00000</td>\n",
       "      <td>11.00000</td>\n",
       "      <td>22.00000</td>\n",
       "      <td>450.00000</td>\n",
       "      <td>0.00000</td>\n",
       "      <td>0.00000</td>\n",
       "      <td>0.00000</td>\n",
       "      <td>14.00000</td>\n",
       "      <td>3.00000</td>\n",
       "      <td>528.00000</td>\n",
       "      <td>20.00000</td>\n",
       "      <td>7.00000</td>\n",
       "      <td>0.00000</td>\n",
       "      <td>2.00000</td>\n",
       "      <td>1.00000</td>\n",
       "      <td>6.00000</td>\n",
       "      <td>0.00000</td>\n",
       "      <td>0.00000</td>\n",
       "      <td>0.00000</td>\n",
       "      <td>0.00000</td>\n",
       "      <td>0.00000</td>\n",
       "      <td>0.00000</td>\n",
       "      <td>1194</td>\n",
       "      <td>282</td>\n",
       "      <td>813</td>\n",
       "      <td>935</td>\n",
       "      <td>1584</td>\n",
       "      <td>12347</td>\n",
       "      <td>1239</td>\n",
       "      <td>481</td>\n",
       "      <td>929.00000</td>\n",
       "      <td>1048</td>\n",
       "      <td>729</td>\n",
       "      <td>17409</td>\n",
       "      <td>6139</td>\n",
       "      <td>2777</td>\n",
       "      <td>1396</td>\n",
       "      <td>1336</td>\n",
       "      <td>1076</td>\n",
       "      <td>1088</td>\n",
       "      <td>608.00000</td>\n",
       "      <td>301.00000</td>\n",
       "      <td>193.00000</td>\n",
       "      <td>16.00000</td>\n",
       "      <td>18.00000</td>\n",
       "      <td>6.00000</td>\n",
       "      <td>0.06591</td>\n",
       "      <td>0.03614</td>\n",
       "      <td>1.82368</td>\n",
       "    </tr>\n",
       "    <tr>\n",
       "      <th>4</th>\n",
       "      <td>morning</td>\n",
       "      <td>morning</td>\n",
       "      <td>2019-10-01 08:00:00</td>\n",
       "      <td>1</td>\n",
       "      <td>10</td>\n",
       "      <td>1</td>\n",
       "      <td>8</td>\n",
       "      <td>53390</td>\n",
       "      <td>1021</td>\n",
       "      <td>879</td>\n",
       "      <td>55290</td>\n",
       "      <td>316664.79000</td>\n",
       "      <td>11933</td>\n",
       "      <td>515.00000</td>\n",
       "      <td>841.00000</td>\n",
       "      <td>34.00000</td>\n",
       "      <td>9.00000</td>\n",
       "      <td>3.00000</td>\n",
       "      <td>13.00000</td>\n",
       "      <td>25.00000</td>\n",
       "      <td>468.00000</td>\n",
       "      <td>29.00000</td>\n",
       "      <td>3.00000</td>\n",
       "      <td>20.00000</td>\n",
       "      <td>20.00000</td>\n",
       "      <td>31.00000</td>\n",
       "      <td>3745.15000</td>\n",
       "      <td>1255.77000</td>\n",
       "      <td>404.13000</td>\n",
       "      <td>1594.66000</td>\n",
       "      <td>7232.25000</td>\n",
       "      <td>211167.90000</td>\n",
       "      <td>15786.11000</td>\n",
       "      <td>3060.44000</td>\n",
       "      <td>6331.07000</td>\n",
       "      <td>9440.53000</td>\n",
       "      <td>8208.97000</td>\n",
       "      <td>571.00000</td>\n",
       "      <td>117.00000</td>\n",
       "      <td>50.00000</td>\n",
       "      <td>6.00000</td>\n",
       "      <td>10.00000</td>\n",
       "      <td>11.00000</td>\n",
       "      <td>10.00000</td>\n",
       "      <td>7.00000</td>\n",
       "      <td>2.00000</td>\n",
       "      <td>5.00000</td>\n",
       "      <td>2.00000</td>\n",
       "      <td>1.00000</td>\n",
       "      <td>0.00000</td>\n",
       "      <td>233871.96000</td>\n",
       "      <td>21350.98000</td>\n",
       "      <td>21519.71000</td>\n",
       "      <td>557.79000</td>\n",
       "      <td>1430.41000</td>\n",
       "      <td>1480.06000</td>\n",
       "      <td>1722.01000</td>\n",
       "      <td>1711.62000</td>\n",
       "      <td>143.03000</td>\n",
       "      <td>1016.20000</td>\n",
       "      <td>84.87000</td>\n",
       "      <td>255.48000</td>\n",
       "      <td>0.00000</td>\n",
       "      <td>51.00000</td>\n",
       "      <td>8.00000</td>\n",
       "      <td>0.00000</td>\n",
       "      <td>17.00000</td>\n",
       "      <td>14.00000</td>\n",
       "      <td>627.00000</td>\n",
       "      <td>7.00000</td>\n",
       "      <td>0.00000</td>\n",
       "      <td>0.00000</td>\n",
       "      <td>18.00000</td>\n",
       "      <td>14.00000</td>\n",
       "      <td>721.00000</td>\n",
       "      <td>43.00000</td>\n",
       "      <td>9.00000</td>\n",
       "      <td>0.00000</td>\n",
       "      <td>1.00000</td>\n",
       "      <td>5.00000</td>\n",
       "      <td>5.00000</td>\n",
       "      <td>0.00000</td>\n",
       "      <td>0.00000</td>\n",
       "      <td>0.00000</td>\n",
       "      <td>0.00000</td>\n",
       "      <td>0.00000</td>\n",
       "      <td>0.00000</td>\n",
       "      <td>1408</td>\n",
       "      <td>383</td>\n",
       "      <td>917</td>\n",
       "      <td>736</td>\n",
       "      <td>1628</td>\n",
       "      <td>13666</td>\n",
       "      <td>1545</td>\n",
       "      <td>596</td>\n",
       "      <td>986.00000</td>\n",
       "      <td>1048</td>\n",
       "      <td>876</td>\n",
       "      <td>19273</td>\n",
       "      <td>6311</td>\n",
       "      <td>3233</td>\n",
       "      <td>1623</td>\n",
       "      <td>1456</td>\n",
       "      <td>1512</td>\n",
       "      <td>1035</td>\n",
       "      <td>702.00000</td>\n",
       "      <td>348.00000</td>\n",
       "      <td>235.00000</td>\n",
       "      <td>17.00000</td>\n",
       "      <td>15.00000</td>\n",
       "      <td>2.00000</td>\n",
       "      <td>0.07048</td>\n",
       "      <td>0.04316</td>\n",
       "      <td>1.63301</td>\n",
       "    </tr>\n",
       "  </tbody>\n",
       "</table>\n",
       "</div>"
      ],
      "text/plain": [
       "  general_time_category specific_time_category                time  week_day  \\\n",
       "0               bedtime                morning 2019-10-01 04:00:00         1   \n",
       "1               bedtime                morning 2019-10-01 05:00:00         1   \n",
       "2               morning                morning 2019-10-01 06:00:00         1   \n",
       "3               morning                morning 2019-10-01 07:00:00         1   \n",
       "4               morning                morning 2019-10-01 08:00:00         1   \n",
       "\n",
       "   month  day  hour  event_type_view  event_type_purchase  event_type_cart  \\\n",
       "0     10    1     4             1070                   10                3   \n",
       "1     10    1     5              121                    0                0   \n",
       "2     10    1     6            22326                  316              244   \n",
       "3     10    1     7            47951                  845              613   \n",
       "4     10    1     8            53390                 1021              879   \n",
       "\n",
       "   event_type_total  total_sales  no_of_total_user  no_of_cart_user  \\\n",
       "0              1083   2387.84000               383          3.00000   \n",
       "1               121      0.00000               102          0.00000   \n",
       "2             22886  85533.96000              5378        156.00000   \n",
       "3             49409 252050.18000             10514        380.00000   \n",
       "4             55290 316664.79000             11933        515.00000   \n",
       "\n",
       "   no_of_purchase_user  purchase_of_electronics.audio.headphone  \\\n",
       "0              9.00000                                  3.00000   \n",
       "1              0.00000                                  0.00000   \n",
       "2            268.00000                                 12.00000   \n",
       "3            693.00000                                 34.00000   \n",
       "4            841.00000                                 34.00000   \n",
       "\n",
       "   purchase_of_electronics.tablet  purchase_of_apparel.shoes  \\\n",
       "0                         0.00000                    0.00000   \n",
       "1                         0.00000                    0.00000   \n",
       "2                         1.00000                    2.00000   \n",
       "3                         1.00000                    4.00000   \n",
       "4                         9.00000                    3.00000   \n",
       "\n",
       "   purchase_of_appliances.environment.vacuum  purchase_of_electronics.clocks  \\\n",
       "0                                    0.00000                         0.00000   \n",
       "1                                    0.00000                         0.00000   \n",
       "2                                    5.00000                         8.00000   \n",
       "3                                   23.00000                        17.00000   \n",
       "4                                   13.00000                        25.00000   \n",
       "\n",
       "   purchase_of_electronics.smartphone  purchase_of_computers.notebook  \\\n",
       "0                             4.00000                         0.00000   \n",
       "1                             0.00000                         0.00000   \n",
       "2                           152.00000                         8.00000   \n",
       "3                           387.00000                        12.00000   \n",
       "4                           468.00000                        29.00000   \n",
       "\n",
       "   purchase_of_computers.desktop  \\\n",
       "0                        0.00000   \n",
       "1                        0.00000   \n",
       "2                        2.00000   \n",
       "3                        3.00000   \n",
       "4                        3.00000   \n",
       "\n",
       "   purchase_of_appliances.kitchen.refrigerators  \\\n",
       "0                                       0.00000   \n",
       "1                                       0.00000   \n",
       "2                                       6.00000   \n",
       "3                                      12.00000   \n",
       "4                                      20.00000   \n",
       "\n",
       "   purchase_of_electronics.video.tv  purchase_of_appliances.kitchen.washer  \\\n",
       "0                           0.00000                                0.00000   \n",
       "1                           0.00000                                0.00000   \n",
       "2                           5.00000                                4.00000   \n",
       "3                          24.00000                               20.00000   \n",
       "4                          20.00000                               31.00000   \n",
       "\n",
       "   sales_of_electronics.audio.headphone  sales_of_electronics.tablet  \\\n",
       "0                             523.45000                      0.00000   \n",
       "1                               0.00000                      0.00000   \n",
       "2                             848.63000                     78.51000   \n",
       "3                            3450.00000                    115.41000   \n",
       "4                            3745.15000                   1255.77000   \n",
       "\n",
       "   sales_of_apparel.shoes  sales_of_appliances.environment.vacuum  \\\n",
       "0                 0.00000                                 0.00000   \n",
       "1                 0.00000                                 0.00000   \n",
       "2               173.49000                               719.62000   \n",
       "3               275.93000                              3341.02000   \n",
       "4               404.13000                              1594.66000   \n",
       "\n",
       "   sales_of_electronics.clocks  sales_of_electronics.smartphone  \\\n",
       "0                      0.00000                       1752.43000   \n",
       "1                      0.00000                          0.00000   \n",
       "2                   1696.67000                      61223.66000   \n",
       "3                   3388.66000                     172785.42000   \n",
       "4                   7232.25000                     211167.90000   \n",
       "\n",
       "   sales_of_computers.notebook  sales_of_computers.desktop  \\\n",
       "0                      0.00000                     0.00000   \n",
       "1                      0.00000                     0.00000   \n",
       "2                   3378.55000                  1837.78000   \n",
       "3                   7064.13000                  2209.69000   \n",
       "4                  15786.11000                  3060.44000   \n",
       "\n",
       "   sales_of_appliances.kitchen.refrigerators  sales_of_electronics.video.tv  \\\n",
       "0                                    0.00000                        0.00000   \n",
       "1                                    0.00000                        0.00000   \n",
       "2                                 1774.82000                     1891.97000   \n",
       "3                                 3021.53000                     7138.46000   \n",
       "4                                 6331.07000                     9440.53000   \n",
       "\n",
       "   sales_of_appliances.kitchen.washer  purchase_of_st_electronics  \\\n",
       "0                             0.00000                     7.00000   \n",
       "1                             0.00000                     0.00000   \n",
       "2                           957.78000                   184.00000   \n",
       "3                          4655.36000                   470.00000   \n",
       "4                          8208.97000                   571.00000   \n",
       "\n",
       "   purchase_of_st_appliances  purchase_of_st_computers  \\\n",
       "0                    1.00000                   0.00000   \n",
       "1                    0.00000                   0.00000   \n",
       "2                   28.00000                  13.00000   \n",
       "3                   96.00000                  31.00000   \n",
       "4                  117.00000                  50.00000   \n",
       "\n",
       "   purchase_of_st_apparel  purchase_of_st_furniture  purchase_of_st_auto  \\\n",
       "0                 0.00000                   1.00000              0.00000   \n",
       "1                 0.00000                   0.00000              0.00000   \n",
       "2                 3.00000                   4.00000              2.00000   \n",
       "3                 9.00000                  13.00000              9.00000   \n",
       "4                 6.00000                  10.00000             11.00000   \n",
       "\n",
       "   purchase_of_st_construction  purchase_of_st_kids  \\\n",
       "0                      0.00000              0.00000   \n",
       "1                      0.00000              0.00000   \n",
       "2                      2.00000              1.00000   \n",
       "3                     10.00000              9.00000   \n",
       "4                     10.00000              7.00000   \n",
       "\n",
       "   purchase_of_st_accessories  purchase_of_st_sport  purchase_of_st_medicine  \\\n",
       "0                     0.00000               0.00000                  0.00000   \n",
       "1                     0.00000               0.00000                  0.00000   \n",
       "2                     3.00000               0.00000                  0.00000   \n",
       "3                     3.00000               0.00000                  1.00000   \n",
       "4                     2.00000               5.00000                  2.00000   \n",
       "\n",
       "   purchase_of_st_country_yard  purchase_of_st_stationery  \\\n",
       "0                      0.00000                    0.00000   \n",
       "1                      0.00000                    0.00000   \n",
       "2                      0.00000                    1.00000   \n",
       "3                      0.00000                    1.00000   \n",
       "4                      1.00000                    0.00000   \n",
       "\n",
       "   sales_of_st_electronics  sales_of_st_appliances  sales_of_st_computers  \\\n",
       "0               2275.88000                28.03000                0.00000   \n",
       "1                  0.00000                 0.00000                0.00000   \n",
       "2              65861.26000              4248.47000             5438.08000   \n",
       "3             187715.81000             16659.06000            12823.36000   \n",
       "4             233871.96000             21350.98000            21519.71000   \n",
       "\n",
       "   sales_of_st_apparel  sales_of_st_furniture  sales_of_st_auto  \\\n",
       "0              0.00000               54.42000           0.00000   \n",
       "1              0.00000                0.00000           0.00000   \n",
       "2            213.11000              457.36000         271.85000   \n",
       "3            622.54000             2944.32000         746.85000   \n",
       "4            557.79000             1430.41000        1480.06000   \n",
       "\n",
       "   sales_of_st_construction  sales_of_st_kids  sales_of_st_accessories  \\\n",
       "0                   0.00000           0.00000                  0.00000   \n",
       "1                   0.00000           0.00000                  0.00000   \n",
       "2                 166.29000          19.92000                301.17000   \n",
       "3                 836.65000         884.46000                247.11000   \n",
       "4                1722.01000        1711.62000                143.03000   \n",
       "\n",
       "   sales_of_st_sport  sales_of_st_medicine  sales_of_st_country_yard  \\\n",
       "0            0.00000               0.00000                   0.00000   \n",
       "1            0.00000               0.00000                   0.00000   \n",
       "2            0.00000               0.00000                   0.00000   \n",
       "3            0.00000              51.43000                   0.00000   \n",
       "4         1016.20000              84.87000                 255.48000   \n",
       "\n",
       "   sales_of_st_stationery  cart_of_electronics.audio.headphone  \\\n",
       "0                 0.00000                              1.00000   \n",
       "1                 0.00000                              0.00000   \n",
       "2                 7.70000                             10.00000   \n",
       "3                 5.12000                             36.00000   \n",
       "4                 0.00000                             51.00000   \n",
       "\n",
       "   cart_of_electronics.tablet  cart_of_apparel.shoes  \\\n",
       "0                     0.00000                0.00000   \n",
       "1                     0.00000                0.00000   \n",
       "2                     0.00000                0.00000   \n",
       "3                     2.00000                0.00000   \n",
       "4                     8.00000                0.00000   \n",
       "\n",
       "   cart_of_appliances.environment.vacuum  cart_of_electronics.clocks  \\\n",
       "0                                0.00000                     0.00000   \n",
       "1                                0.00000                     0.00000   \n",
       "2                                6.00000                     5.00000   \n",
       "3                               11.00000                    22.00000   \n",
       "4                               17.00000                    14.00000   \n",
       "\n",
       "   cart_of_electronics.smartphone  cart_of_computers.notebook  \\\n",
       "0                         1.00000                     0.00000   \n",
       "1                         0.00000                     0.00000   \n",
       "2                       187.00000                     0.00000   \n",
       "3                       450.00000                     0.00000   \n",
       "4                       627.00000                     7.00000   \n",
       "\n",
       "   cart_of_computers.desktop  cart_of_appliances.kitchen.refrigerators  \\\n",
       "0                    0.00000                                   0.00000   \n",
       "1                    0.00000                                   0.00000   \n",
       "2                    0.00000                                   0.00000   \n",
       "3                    0.00000                                   0.00000   \n",
       "4                    0.00000                                   0.00000   \n",
       "\n",
       "   cart_of_electronics.video.tv  cart_of_appliances.kitchen.washer  \\\n",
       "0                       0.00000                            0.00000   \n",
       "1                       0.00000                            0.00000   \n",
       "2                       7.00000                            1.00000   \n",
       "3                      14.00000                            3.00000   \n",
       "4                      18.00000                           14.00000   \n",
       "\n",
       "   cart_of_st_electronics  cart_of_st_appliances  cart_of_st_computers  \\\n",
       "0                 2.00000                0.00000               0.00000   \n",
       "1                 0.00000                0.00000               0.00000   \n",
       "2               211.00000                9.00000               3.00000   \n",
       "3               528.00000               20.00000               7.00000   \n",
       "4               721.00000               43.00000               9.00000   \n",
       "\n",
       "   cart_of_st_apparel  cart_of_st_furniture  cart_of_st_auto  \\\n",
       "0             0.00000               0.00000          0.00000   \n",
       "1             0.00000               0.00000          0.00000   \n",
       "2             0.00000               0.00000          0.00000   \n",
       "3             0.00000               2.00000          1.00000   \n",
       "4             0.00000               1.00000          5.00000   \n",
       "\n",
       "   cart_of_st_construction  cart_of_st_kids  cart_of_st_accessories  \\\n",
       "0                  0.00000          0.00000                 0.00000   \n",
       "1                  0.00000          0.00000                 0.00000   \n",
       "2                  0.00000          0.00000                 0.00000   \n",
       "3                  6.00000          0.00000                 0.00000   \n",
       "4                  5.00000          0.00000                 0.00000   \n",
       "\n",
       "   cart_of_st_sport  cart_of_st_medicine  cart_of_st_country_yard  \\\n",
       "0           0.00000              0.00000                  0.00000   \n",
       "1           0.00000              0.00000                  0.00000   \n",
       "2           0.00000              0.00000                  0.00000   \n",
       "3           0.00000              0.00000                  0.00000   \n",
       "4           0.00000              0.00000                  0.00000   \n",
       "\n",
       "   cart_of_st_stationery  view_of_electronics.audio.headphone  \\\n",
       "0                0.00000                                   32   \n",
       "1                0.00000                                    3   \n",
       "2                1.00000                                  459   \n",
       "3                0.00000                                 1194   \n",
       "4                0.00000                                 1408   \n",
       "\n",
       "   view_of_electronics.tablet  view_of_apparel.shoes  \\\n",
       "0                           6                     11   \n",
       "1                           2                      1   \n",
       "2                          87                    297   \n",
       "3                         282                    813   \n",
       "4                         383                    917   \n",
       "\n",
       "   view_of_appliances.environment.vacuum  view_of_electronics.clocks  \\\n",
       "0                                     15                          20   \n",
       "1                                      1                           9   \n",
       "2                                    368                         766   \n",
       "3                                    935                        1584   \n",
       "4                                    736                        1628   \n",
       "\n",
       "   view_of_electronics.smartphone  view_of_computers.notebook  \\\n",
       "0                             301                          31   \n",
       "1                              38                           7   \n",
       "2                            5835                         711   \n",
       "3                           12347                        1239   \n",
       "4                           13666                        1545   \n",
       "\n",
       "   view_of_computers.desktop  view_of_appliances.kitchen.refrigerators  \\\n",
       "0                         23                                  22.00000   \n",
       "1                          1                                   0.00000   \n",
       "2                        146                                 440.00000   \n",
       "3                        481                                 929.00000   \n",
       "4                        596                                 986.00000   \n",
       "\n",
       "   view_of_electronics.video.tv  view_of_appliances.kitchen.washer  \\\n",
       "0                            12                                 26   \n",
       "1                             3                                  1   \n",
       "2                           334                                291   \n",
       "3                          1048                                729   \n",
       "4                          1048                                876   \n",
       "\n",
       "   view_of_st_electronics  view_of_st_appliances  view_of_st_computers  \\\n",
       "0                     379                    156                    60   \n",
       "1                      56                      8                    10   \n",
       "2                    7924                   2765                  1219   \n",
       "3                   17409                   6139                  2777   \n",
       "4                   19273                   6311                  3233   \n",
       "\n",
       "   view_of_st_apparel  view_of_st_furniture  view_of_st_auto  \\\n",
       "0                  27                    26                9   \n",
       "1                   2                     1                2   \n",
       "2                 650                   677              760   \n",
       "3                1396                  1336             1076   \n",
       "4                1623                  1456             1512   \n",
       "\n",
       "   view_of_st_construction  view_of_st_kids  view_of_st_accessories  \\\n",
       "0                       17          4.00000                 1.00000   \n",
       "1                        4          0.00000                 0.00000   \n",
       "2                      389        254.00000               165.00000   \n",
       "3                     1088        608.00000               301.00000   \n",
       "4                     1035        702.00000               348.00000   \n",
       "\n",
       "   view_of_st_sport  view_of_st_medicine  view_of_st_country_yard  \\\n",
       "0           1.00000              0.00000                  0.00000   \n",
       "1           0.00000              1.00000                  0.00000   \n",
       "2         116.00000              8.00000                 11.00000   \n",
       "3         193.00000             16.00000                 18.00000   \n",
       "4         235.00000             17.00000                 15.00000   \n",
       "\n",
       "   view_of_st_stationery  no_of_view_to_purchase_user  \\\n",
       "0                0.00000                      0.02350   \n",
       "1                0.00000                      0.00000   \n",
       "2               22.00000                      0.04983   \n",
       "3                6.00000                      0.06591   \n",
       "4                2.00000                      0.07048   \n",
       "\n",
       "   no_of_view_to_cart_user  no_of_cart_to_purchase_user  \n",
       "0                  0.00783                      3.00000  \n",
       "1                  0.00000                          NaN  \n",
       "2                  0.02901                      1.71795  \n",
       "3                  0.03614                      1.82368  \n",
       "4                  0.04316                      1.63301  "
      ]
     },
     "execution_count": 9,
     "metadata": {},
     "output_type": "execute_result"
    }
   ],
   "source": [
    "# 필요모듈 불러오기\n",
    "import pandas as pd\n",
    "import numpy as np\n",
    "import seaborn as sns\n",
    "import scipy.stats as stats\n",
    "import statsmodels.api as sm\n",
    "import matplotlib.pyplot as plt\n",
    "from my_function import scatter_plot_by_hour\n",
    "from my_function import reg_scatter\n",
    "from my_function import reg_summary\n",
    "from my_function import residual_qqplot\n",
    "from my_function import residual_scatter\n",
    "from my_function import to_hour_category\n",
    "from my_function import ANOVA\n",
    "from my_function import two_sample_test\n",
    "import plotly.graph_objects as go\n",
    "import plotly.express as px\n",
    "import warnings\n",
    "warnings.filterwarnings('ignore')\n",
    "# 변수 전체출력\n",
    "pd.options.display.max_columns = None\n",
    "pd.options.display.float_format = '{:.5f}'.format\n",
    "\n",
    "# 시간의 정보를 시간대(아침, 점심, 저녁, 새벽)으로 나누는 함수\n",
    "# 임의로 만든 기준 (두바이의 생활데이터를 기반으로)\n",
    "# 4시부터 12시 \"morning_time\"\n",
    "# 12시부터 19시 \"afternoon\"\n",
    "# 19시부터 23시 \"evening\"\n",
    "# 나머지 시간대 \"bedtime\"\n",
    "\n",
    "# 일반적인 기준\n",
    "# 6시부터 12시 \"morning_time\"\n",
    "# 12시부터 18시 \"afternoon\"\n",
    "# 18시부터 21시 \"evening\"\n",
    "# 나머지 시간대 \"bedtime\"\n",
    "\n",
    "# 데이터 불러오기\n",
    "df = pd.read_pickle(\"../../data/groupby_time_data.pkl\")\n",
    "\n",
    "# 카테고리의 모음\n",
    "temp_df = df.groupby([\"month\"]).mean().iloc[:,11:22].T.reset_index()\n",
    "temp_df[\"index\"] = temp_df[\"index\"].apply(lambda x : x.split(\"_\")[-1])\n",
    "list_of_category_code = temp_df[\"index\"].to_list() \n",
    "\n",
    "# 1차 카테고리의 모음\n",
    "temp_df = df.groupby([\"month\"]).mean().iloc[:,33:46].T.reset_index()\n",
    "temp_df[\"index\"] = temp_df[\"index\"].apply(lambda x : x.split(\"_\")[-1])\n",
    "list_of_category_code_0 = temp_df[\"index\"].to_list() \n",
    "\n",
    "df.head()"
   ]
  },
  {
   "cell_type": "code",
   "execution_count": 10,
   "metadata": {},
   "outputs": [
    {
     "data": {
      "application/vnd.plotly.v1+json": {
       "config": {
        "plotlyServerURL": "https://plotly.com"
       },
       "data": [
        {
         "mode": "lines+markers",
         "name": "sales",
         "type": "scatter",
         "x": [
          "10월 1일",
          "10월 2일",
          "10월 3일",
          "10월 4일",
          "10월 5일",
          "10월 6일",
          "10월 7일",
          "10월 8일",
          "10월 9일",
          "10월 10일",
          "10월 11일",
          "10월 12일",
          "10월 13일",
          "10월 14일",
          "10월 15일",
          "10월 16일",
          "10월 17일",
          "10월 18일",
          "10월 19일",
          "10월 20일",
          "10월 21일",
          "10월 22일",
          "10월 23일",
          "10월 24일",
          "10월 25일",
          "10월 26일",
          "10월 27일",
          "10월 28일",
          "10월 29일",
          "10월 30일",
          "10월 31일",
          "11월 1일",
          "11월 2일",
          "11월 3일",
          "11월 4일",
          "11월 5일",
          "11월 6일",
          "11월 7일",
          "11월 8일",
          "11월 9일",
          "11월 10일",
          "11월 11일",
          "11월 12일",
          "11월 13일",
          "11월 14일",
          "11월 16일",
          "11월 17일",
          "11월 18일",
          "11월 19일",
          "11월 20일",
          "11월 21일",
          "11월 22일",
          "11월 23일",
          "11월 24일",
          "11월 25일",
          "11월 26일",
          "11월 27일",
          "11월 28일",
          "11월 29일",
          "11월 30일"
         ],
         "y": [
          303379.4585,
          260235.10166666668,
          255916.04708333334,
          359376.6570833333,
          305210.27958333335,
          283231.1279166667,
          265040.52541666664,
          283990.83541666664,
          284375.09500000003,
          275034.7966666667,
          323392.7454166667,
          305062.45166666666,
          347885.32708333334,
          392949.9354166666,
          359592.92208333337,
          406926.76625000004,
          374403.70083333337,
          342872.53750000003,
          314391.12916666665,
          312132.87,
          328705.12833333336,
          328949.4716666667,
          317604.28958333336,
          311310.7375,
          303612.10583333333,
          285760.35000000003,
          300351.60541666666,
          277630.02958333335,
          266881.4745833333,
          276649.35708333337,
          269189.89958333335,
          286102.66041666665,
          268538.2975,
          273416.5341666667,
          338659.46625,
          303768.73666666663,
          305758.46749999997,
          296099.9275,
          320656.105,
          273643.75958333333,
          280191.40750000003,
          302500.64,
          282767.51208333333,
          283887.4629166667,
          300855.59875,
          976790.41125,
          2389454.0508333333,
          350123.61125,
          304527.25875,
          293882.29791666666,
          289519.65750000003,
          293010.5354166667,
          263278.97375,
          269501.84249999997,
          295866.88416666666,
          284351.955,
          300383.59041666664,
          294167.7470833333,
          403465.27,
          332125.7216666667
         ]
        },
        {
         "mode": "lines+markers",
         "name": "electronics.audio.headphone",
         "type": "scatter",
         "x": [
          "10월 1일",
          "10월 2일",
          "10월 3일",
          "10월 4일",
          "10월 5일",
          "10월 6일",
          "10월 7일",
          "10월 8일",
          "10월 9일",
          "10월 10일",
          "10월 11일",
          "10월 12일",
          "10월 13일",
          "10월 14일",
          "10월 15일",
          "10월 16일",
          "10월 17일",
          "10월 18일",
          "10월 19일",
          "10월 20일",
          "10월 21일",
          "10월 22일",
          "10월 23일",
          "10월 24일",
          "10월 25일",
          "10월 26일",
          "10월 27일",
          "10월 28일",
          "10월 29일",
          "10월 30일",
          "10월 31일",
          "11월 1일",
          "11월 2일",
          "11월 3일",
          "11월 4일",
          "11월 5일",
          "11월 6일",
          "11월 7일",
          "11월 8일",
          "11월 9일",
          "11월 10일",
          "11월 11일",
          "11월 12일",
          "11월 13일",
          "11월 14일",
          "11월 16일",
          "11월 17일",
          "11월 18일",
          "11월 19일",
          "11월 20일",
          "11월 21일",
          "11월 22일",
          "11월 23일",
          "11월 24일",
          "11월 25일",
          "11월 26일",
          "11월 27일",
          "11월 28일",
          "11월 29일",
          "11월 30일"
         ],
         "y": [
          5179.4974999999995,
          4425.4425,
          4221.260416666667,
          6006.080416666667,
          4717.791666666667,
          4236.702083333334,
          4313.87625,
          3950.7954166666664,
          4167.181666666666,
          3979.9970833333336,
          5068.218333333333,
          4505.88875,
          4891.849583333334,
          6023.359583333334,
          4932.800833333334,
          6822.609166666666,
          6335.748333333333,
          5525.375416666667,
          4628.484166666666,
          4499.182083333333,
          5344.391666666666,
          5536.297916666666,
          4648.955416666667,
          4653.041666666667,
          4648.05375,
          4209.745833333333,
          4527.269583333334,
          4522.10875,
          3695.67,
          3959.327916666667,
          3973.2608333333333,
          4585.37625,
          4192.580416666667,
          4518.940833333333,
          7025.4608333333335,
          5681.139583333334,
          5409.961666666667,
          5102.020833333333,
          5612.940416666667,
          4330.670833333334,
          4914.770416666667,
          5132.0633333333335,
          4296.455416666667,
          4974.537083333334,
          4917.1225,
          23704.894166666665,
          56788.714166666665,
          9152.750416666668,
          6602.343333333333,
          5747.82125,
          5962.927083333333,
          5746.528333333333,
          5122.08625,
          5112.287916666667,
          5631.400416666666,
          6188.044166666667,
          6096.927083333333,
          6521.852083333334,
          9568.55,
          7284.618750000001
         ]
        },
        {
         "mode": "lines+markers",
         "name": "electronics.tablet",
         "type": "scatter",
         "x": [
          "10월 1일",
          "10월 2일",
          "10월 3일",
          "10월 4일",
          "10월 5일",
          "10월 6일",
          "10월 7일",
          "10월 8일",
          "10월 9일",
          "10월 10일",
          "10월 11일",
          "10월 12일",
          "10월 13일",
          "10월 14일",
          "10월 15일",
          "10월 16일",
          "10월 17일",
          "10월 18일",
          "10월 19일",
          "10월 20일",
          "10월 21일",
          "10월 22일",
          "10월 23일",
          "10월 24일",
          "10월 25일",
          "10월 26일",
          "10월 27일",
          "10월 28일",
          "10월 29일",
          "10월 30일",
          "10월 31일",
          "11월 1일",
          "11월 2일",
          "11월 3일",
          "11월 4일",
          "11월 5일",
          "11월 6일",
          "11월 7일",
          "11월 8일",
          "11월 9일",
          "11월 10일",
          "11월 11일",
          "11월 12일",
          "11월 13일",
          "11월 14일",
          "11월 16일",
          "11월 17일",
          "11월 18일",
          "11월 19일",
          "11월 20일",
          "11월 21일",
          "11월 22일",
          "11월 23일",
          "11월 24일",
          "11월 25일",
          "11월 26일",
          "11월 27일",
          "11월 28일",
          "11월 29일",
          "11월 30일"
         ],
         "y": [
          1481.711,
          1091.4154166666667,
          1350.3033333333333,
          2236.3541666666665,
          2122.497083333333,
          2212.7454166666666,
          1391.5816666666667,
          2172.6375000000003,
          3269.0629166666663,
          3032.736666666666,
          3514.7066666666665,
          2598.9429166666664,
          2987.13625,
          3189.48875,
          2821.48375,
          2340.29875,
          1909.1187499999999,
          1976.32,
          2300.0662500000003,
          1793.8008333333335,
          1892.9558333333334,
          2608.412083333333,
          1838.9120833333334,
          2266.009583333333,
          2836.6375000000003,
          1932.8158333333333,
          2176.5004166666663,
          1446.3616666666667,
          1876.7533333333333,
          1672.8620833333334,
          971.7041666666668,
          1218.3891666666666,
          1432.7325,
          1467.7958333333333,
          1725.2379166666667,
          1732.9929166666668,
          1521.14,
          1249.2437499999999,
          1679.0516666666665,
          1422.9483333333335,
          1314.3958333333333,
          1809.1354166666667,
          1399.2454166666666,
          1023.4804166666667,
          1666.6362500000002,
          5471.559166666667,
          17730.90625,
          1869.60125,
          1923.1899999999998,
          1367.6691666666666,
          1158.5641666666668,
          1226.0391666666667,
          1070.4883333333335,
          1281.4775,
          1080.7795833333332,
          1612.4629166666666,
          1724.6475,
          1592.4475,
          1924.495,
          1648.01875
         ]
        },
        {
         "mode": "lines+markers",
         "name": "apparel.shoes",
         "type": "scatter",
         "x": [
          "10월 1일",
          "10월 2일",
          "10월 3일",
          "10월 4일",
          "10월 5일",
          "10월 6일",
          "10월 7일",
          "10월 8일",
          "10월 9일",
          "10월 10일",
          "10월 11일",
          "10월 12일",
          "10월 13일",
          "10월 14일",
          "10월 15일",
          "10월 16일",
          "10월 17일",
          "10월 18일",
          "10월 19일",
          "10월 20일",
          "10월 21일",
          "10월 22일",
          "10월 23일",
          "10월 24일",
          "10월 25일",
          "10월 26일",
          "10월 27일",
          "10월 28일",
          "10월 29일",
          "10월 30일",
          "10월 31일",
          "11월 1일",
          "11월 2일",
          "11월 3일",
          "11월 4일",
          "11월 5일",
          "11월 6일",
          "11월 7일",
          "11월 8일",
          "11월 9일",
          "11월 10일",
          "11월 11일",
          "11월 12일",
          "11월 13일",
          "11월 14일",
          "11월 16일",
          "11월 17일",
          "11월 18일",
          "11월 19일",
          "11월 20일",
          "11월 21일",
          "11월 22일",
          "11월 23일",
          "11월 24일",
          "11월 25일",
          "11월 26일",
          "11월 27일",
          "11월 28일",
          "11월 29일",
          "11월 30일"
         ],
         "y": [
          352.7885,
          343.5704166666667,
          295.96416666666664,
          234.6341666666667,
          266.2129166666667,
          149.1775,
          261.49208333333337,
          272.57041666666663,
          272.03333333333336,
          264.83958333333334,
          528.5645833333334,
          433.0954166666667,
          546.9920833333333,
          310.86041666666665,
          389.05916666666667,
          485.7266666666667,
          545.57,
          1188.6625000000001,
          933.445,
          874.5070833333333,
          903.1358333333333,
          806.1550000000001,
          698.7641666666667,
          850.9891666666667,
          402.07916666666665,
          514.5604166666667,
          413.705,
          481.23625,
          481.45208333333335,
          363.74375000000003,
          457.55958333333336,
          315.0783333333333,
          584.81875,
          628.6850000000001,
          806.6416666666668,
          926.64,
          889.1391666666667,
          1133.6875,
          915.8233333333334,
          1123.9437500000001,
          976.8841666666667,
          1078.4895833333333,
          913.5583333333333,
          804.2683333333333,
          1130.6575,
          3693.8783333333336,
          7979.736666666667,
          1188.095,
          1033.6183333333333,
          1141.4758333333332,
          1160.5516666666665,
          1213.3754166666668,
          939.9333333333334,
          905.2916666666666,
          1043.4624999999999,
          1103.6320833333332,
          1055.4195833333333,
          879.0645833333333,
          919.9316666666667,
          862.7075
         ]
        },
        {
         "mode": "lines+markers",
         "name": "appliances.environment.vacuum",
         "type": "scatter",
         "x": [
          "10월 1일",
          "10월 2일",
          "10월 3일",
          "10월 4일",
          "10월 5일",
          "10월 6일",
          "10월 7일",
          "10월 8일",
          "10월 9일",
          "10월 10일",
          "10월 11일",
          "10월 12일",
          "10월 13일",
          "10월 14일",
          "10월 15일",
          "10월 16일",
          "10월 17일",
          "10월 18일",
          "10월 19일",
          "10월 20일",
          "10월 21일",
          "10월 22일",
          "10월 23일",
          "10월 24일",
          "10월 25일",
          "10월 26일",
          "10월 27일",
          "10월 28일",
          "10월 29일",
          "10월 30일",
          "10월 31일",
          "11월 1일",
          "11월 2일",
          "11월 3일",
          "11월 4일",
          "11월 5일",
          "11월 6일",
          "11월 7일",
          "11월 8일",
          "11월 9일",
          "11월 10일",
          "11월 11일",
          "11월 12일",
          "11월 13일",
          "11월 14일",
          "11월 16일",
          "11월 17일",
          "11월 18일",
          "11월 19일",
          "11월 20일",
          "11월 21일",
          "11월 22일",
          "11월 23일",
          "11월 24일",
          "11월 25일",
          "11월 26일",
          "11월 27일",
          "11월 28일",
          "11월 29일",
          "11월 30일"
         ],
         "y": [
          1944.5649999999998,
          1761.8408333333334,
          1656.2700000000002,
          2822.0808333333334,
          2409.2991666666667,
          2449.827083333333,
          1746.9712499999998,
          1618.1841666666667,
          1806.8595833333331,
          1407.3149999999998,
          2369.03375,
          2581.1770833333335,
          3268.45875,
          3219.862916666667,
          2699.037083333333,
          2717.474583333333,
          2976.4599999999996,
          2455.8191666666667,
          2483.54,
          2921.3241666666668,
          2499.340833333333,
          2172.8320833333332,
          2624.705,
          2886.76,
          2477.7083333333335,
          2514.9591666666665,
          2962.2708333333335,
          1631.51625,
          1622.0029166666666,
          1728.4895833333333,
          1371.1762499999998,
          1846.0708333333332,
          2044.4825,
          2076.0041666666666,
          2176.153333333333,
          1804.3725000000002,
          1690.945,
          1822.5225,
          2265.395,
          1856.0616666666667,
          1877.8658333333333,
          1918.03,
          1673.6708333333333,
          1808.2816666666668,
          2197.0750000000003,
          13121.563750000001,
          45355.260416666664,
          2361.0779166666666,
          2206.16375,
          1975.2933333333333,
          1382.45875,
          1848.6000000000001,
          2058.2975,
          2110.76625,
          2074.150416666667,
          2092.4529166666666,
          2004.8970833333333,
          2286.0675,
          3847.2691666666665,
          3233.9858333333336
         ]
        },
        {
         "mode": "lines+markers",
         "name": "electronics.clocks",
         "type": "scatter",
         "x": [
          "10월 1일",
          "10월 2일",
          "10월 3일",
          "10월 4일",
          "10월 5일",
          "10월 6일",
          "10월 7일",
          "10월 8일",
          "10월 9일",
          "10월 10일",
          "10월 11일",
          "10월 12일",
          "10월 13일",
          "10월 14일",
          "10월 15일",
          "10월 16일",
          "10월 17일",
          "10월 18일",
          "10월 19일",
          "10월 20일",
          "10월 21일",
          "10월 22일",
          "10월 23일",
          "10월 24일",
          "10월 25일",
          "10월 26일",
          "10월 27일",
          "10월 28일",
          "10월 29일",
          "10월 30일",
          "10월 31일",
          "11월 1일",
          "11월 2일",
          "11월 3일",
          "11월 4일",
          "11월 5일",
          "11월 6일",
          "11월 7일",
          "11월 8일",
          "11월 9일",
          "11월 10일",
          "11월 11일",
          "11월 12일",
          "11월 13일",
          "11월 14일",
          "11월 16일",
          "11월 17일",
          "11월 18일",
          "11월 19일",
          "11월 20일",
          "11월 21일",
          "11월 22일",
          "11월 23일",
          "11월 24일",
          "11월 25일",
          "11월 26일",
          "11월 27일",
          "11월 28일",
          "11월 29일",
          "11월 30일"
         ],
         "y": [
          6028.2585,
          6131.452499999999,
          5279.5545833333335,
          8605.539583333333,
          6151.949166666666,
          6620.819166666667,
          6681.654166666667,
          6038.8983333333335,
          5791.9375,
          5290.4487500000005,
          5861.584583333333,
          5144.558333333333,
          7338.15125,
          9020.3025,
          7766.759166666667,
          9669.285833333333,
          7990.423750000001,
          7148.167083333334,
          5755.092083333333,
          6686.422083333334,
          6064.8175,
          6511.99125,
          7112.917916666666,
          6232.95625,
          7252.28875,
          5861.609166666666,
          7043.962916666666,
          5218.182083333333,
          5121.974999999999,
          5057.7891666666665,
          4971.6345833333335,
          5691.641666666666,
          5585.067083333334,
          5681.80875,
          8248.075833333334,
          6164.434583333333,
          6508.277916666667,
          6147.506666666667,
          7006.978750000001,
          5599.635833333334,
          5416.797083333333,
          6187.505416666667,
          4935.0391666666665,
          5809.113333333334,
          6055.035833333334,
          27820.162083333333,
          72366.35666666667,
          8716.795,
          6596.57125,
          6940.327499999999,
          6007.157916666667,
          5665.203750000001,
          4892.361666666667,
          5219.483333333334,
          6325.974999999999,
          5807.120416666668,
          7072.389583333334,
          6980.0275,
          9818.995,
          7469.044999999999
         ]
        },
        {
         "mode": "lines+markers",
         "name": "electronics.smartphone",
         "type": "scatter",
         "x": [
          "10월 1일",
          "10월 2일",
          "10월 3일",
          "10월 4일",
          "10월 5일",
          "10월 6일",
          "10월 7일",
          "10월 8일",
          "10월 9일",
          "10월 10일",
          "10월 11일",
          "10월 12일",
          "10월 13일",
          "10월 14일",
          "10월 15일",
          "10월 16일",
          "10월 17일",
          "10월 18일",
          "10월 19일",
          "10월 20일",
          "10월 21일",
          "10월 22일",
          "10월 23일",
          "10월 24일",
          "10월 25일",
          "10월 26일",
          "10월 27일",
          "10월 28일",
          "10월 29일",
          "10월 30일",
          "10월 31일",
          "11월 1일",
          "11월 2일",
          "11월 3일",
          "11월 4일",
          "11월 5일",
          "11월 6일",
          "11월 7일",
          "11월 8일",
          "11월 9일",
          "11월 10일",
          "11월 11일",
          "11월 12일",
          "11월 13일",
          "11월 14일",
          "11월 16일",
          "11월 17일",
          "11월 18일",
          "11월 19일",
          "11월 20일",
          "11월 21일",
          "11월 22일",
          "11월 23일",
          "11월 24일",
          "11월 25일",
          "11월 26일",
          "11월 27일",
          "11월 28일",
          "11월 29일",
          "11월 30일"
         ],
         "y": [
          212290.30899999998,
          182695.6445833333,
          178355.85166666665,
          242316.84708333333,
          205711.70166666666,
          189457.37416666668,
          178596.81916666668,
          193821.37625,
          194007.0375,
          187980.96791666665,
          215180.79416666666,
          200520.21375,
          220671.30416666667,
          273710.06416666665,
          249965.33875,
          278958.45541666663,
          257091.62166666667,
          237706.94125,
          216321.87625,
          212065.68333333335,
          229355.84708333333,
          227347.2725,
          216496.48375,
          214063.60208333333,
          202753.95583333334,
          190494.45333333334,
          201629.63833333334,
          194117.64958333332,
          184465.26125,
          192913.72291666665,
          190673.38083333333,
          197573.06833333333,
          184119.11208333334,
          188349.26333333334,
          233764.83541666667,
          207593.455,
          211789.92666666667,
          200260.7725,
          217508.55166666667,
          183009.15291666667,
          189175.40291666667,
          202985.00375,
          192486.81041666667,
          194376.03208333335,
          208775.00749999998,
          580637.1625,
          1306383.01875,
          240666.27541666664,
          211230.20916666664,
          201694.77958333332,
          197940.35624999998,
          201209.1729166667,
          177782.59916666665,
          184680.22166666668,
          203376.36375000002,
          192783.50666666668,
          203887.07458333333,
          200153.34791666665,
          268813.89958333335,
          219198.65875000003
         ]
        },
        {
         "mode": "lines+markers",
         "name": "computers.notebook",
         "type": "scatter",
         "x": [
          "10월 1일",
          "10월 2일",
          "10월 3일",
          "10월 4일",
          "10월 5일",
          "10월 6일",
          "10월 7일",
          "10월 8일",
          "10월 9일",
          "10월 10일",
          "10월 11일",
          "10월 12일",
          "10월 13일",
          "10월 14일",
          "10월 15일",
          "10월 16일",
          "10월 17일",
          "10월 18일",
          "10월 19일",
          "10월 20일",
          "10월 21일",
          "10월 22일",
          "10월 23일",
          "10월 24일",
          "10월 25일",
          "10월 26일",
          "10월 27일",
          "10월 28일",
          "10월 29일",
          "10월 30일",
          "10월 31일",
          "11월 1일",
          "11월 2일",
          "11월 3일",
          "11월 4일",
          "11월 5일",
          "11월 6일",
          "11월 7일",
          "11월 8일",
          "11월 9일",
          "11월 10일",
          "11월 11일",
          "11월 12일",
          "11월 13일",
          "11월 14일",
          "11월 16일",
          "11월 17일",
          "11월 18일",
          "11월 19일",
          "11월 20일",
          "11월 21일",
          "11월 22일",
          "11월 23일",
          "11월 24일",
          "11월 25일",
          "11월 26일",
          "11월 27일",
          "11월 28일",
          "11월 29일",
          "11월 30일"
         ],
         "y": [
          12979.432,
          9843.293749999999,
          10031.167500000001,
          17513.469999999998,
          13868.542083333334,
          11289.500416666668,
          10614.882916666667,
          9398.683333333332,
          9913.212916666665,
          9458.921666666667,
          12758.562916666668,
          11349.266666666668,
          13378.643750000001,
          15443.95125,
          14007.849999999999,
          18898.877916666668,
          16767.54125,
          12282.584583333335,
          11377.952916666667,
          12141.4125,
          11784.32,
          12747.642916666666,
          13009.416666666666,
          11372.899583333332,
          10743.293333333333,
          11877.6275,
          11836.514583333332,
          10316.083333333334,
          9798.44375,
          9865.164166666667,
          9242.404583333333,
          9260.83375,
          8496.60375,
          10570.96875,
          11691.185833333335,
          11479.523333333333,
          10803.814166666665,
          11445.600416666666,
          13377.318333333335,
          10601.089583333332,
          9994.212083333334,
          11896.764166666668,
          11226.773333333333,
          10895.569166666666,
          10182.307916666667,
          43112.83,
          110609.8775,
          11532.425833333333,
          9592.7675,
          9689.886250000001,
          9519.085000000001,
          11333.887083333333,
          9090.31125,
          9311.478333333334,
          10030.464583333332,
          9516.477916666667,
          11026.764166666668,
          10826.525416666665,
          15252.215833333334,
          12115.263333333334
         ]
        },
        {
         "mode": "lines+markers",
         "name": "computers.desktop",
         "type": "scatter",
         "x": [
          "10월 1일",
          "10월 2일",
          "10월 3일",
          "10월 4일",
          "10월 5일",
          "10월 6일",
          "10월 7일",
          "10월 8일",
          "10월 9일",
          "10월 10일",
          "10월 11일",
          "10월 12일",
          "10월 13일",
          "10월 14일",
          "10월 15일",
          "10월 16일",
          "10월 17일",
          "10월 18일",
          "10월 19일",
          "10월 20일",
          "10월 21일",
          "10월 22일",
          "10월 23일",
          "10월 24일",
          "10월 25일",
          "10월 26일",
          "10월 27일",
          "10월 28일",
          "10월 29일",
          "10월 30일",
          "10월 31일",
          "11월 1일",
          "11월 2일",
          "11월 3일",
          "11월 4일",
          "11월 5일",
          "11월 6일",
          "11월 7일",
          "11월 8일",
          "11월 9일",
          "11월 10일",
          "11월 11일",
          "11월 12일",
          "11월 13일",
          "11월 14일",
          "11월 16일",
          "11월 17일",
          "11월 18일",
          "11월 19일",
          "11월 20일",
          "11월 21일",
          "11월 22일",
          "11월 23일",
          "11월 24일",
          "11월 25일",
          "11월 26일",
          "11월 27일",
          "11월 28일",
          "11월 29일",
          "11월 30일"
         ],
         "y": [
          2469.5985,
          1434.0866666666668,
          1760.30375,
          1496.5191666666667,
          1889.9216666666669,
          1478.22875,
          1270.3208333333334,
          1306.4416666666666,
          1144.8483333333334,
          1517.3070833333334,
          1333.0466666666666,
          1229.1008333333332,
          1419.2150000000001,
          1955.5991666666666,
          1094.96125,
          1937.7041666666667,
          1707.3745833333332,
          1664.8166666666666,
          1425.9866666666667,
          1613.3741666666665,
          1319.3979166666666,
          1136.46125,
          1738.71125,
          1237.4133333333334,
          1309.13625,
          2266.96625,
          1386.8604166666667,
          920.3175,
          1726.5575,
          1302.2875000000001,
          1239.2545833333334,
          2305.1895833333333,
          1828.7908333333332,
          1116.64875,
          1568.9579166666665,
          987.4083333333333,
          1488.8466666666666,
          1242.7766666666666,
          1588.1000000000001,
          1701.48625,
          1503.7258333333332,
          1503.4829166666666,
          1535.99875,
          1707.4658333333334,
          1751.26,
          7071.2175,
          16717.247916666667,
          1418.4208333333333,
          1586.2408333333333,
          1330.31125,
          1144.215,
          1223.4770833333334,
          1246.0233333333333,
          1088.3775,
          1777.0058333333334,
          1681.6033333333335,
          1199.2595833333332,
          1337.5125,
          2305.9504166666666,
          1905.5204166666665
         ]
        },
        {
         "mode": "lines+markers",
         "name": "appliances.kitchen.refrigerators",
         "type": "scatter",
         "x": [
          "10월 1일",
          "10월 2일",
          "10월 3일",
          "10월 4일",
          "10월 5일",
          "10월 6일",
          "10월 7일",
          "10월 8일",
          "10월 9일",
          "10월 10일",
          "10월 11일",
          "10월 12일",
          "10월 13일",
          "10월 14일",
          "10월 15일",
          "10월 16일",
          "10월 17일",
          "10월 18일",
          "10월 19일",
          "10월 20일",
          "10월 21일",
          "10월 22일",
          "10월 23일",
          "10월 24일",
          "10월 25일",
          "10월 26일",
          "10월 27일",
          "10월 28일",
          "10월 29일",
          "10월 30일",
          "10월 31일",
          "11월 1일",
          "11월 2일",
          "11월 3일",
          "11월 4일",
          "11월 5일",
          "11월 6일",
          "11월 7일",
          "11월 8일",
          "11월 9일",
          "11월 10일",
          "11월 11일",
          "11월 12일",
          "11월 13일",
          "11월 14일",
          "11월 16일",
          "11월 17일",
          "11월 18일",
          "11월 19일",
          "11월 20일",
          "11월 21일",
          "11월 22일",
          "11월 23일",
          "11월 24일",
          "11월 25일",
          "11월 26일",
          "11월 27일",
          "11월 28일",
          "11월 29일",
          "11월 30일"
         ],
         "y": [
          3915.6699999999996,
          3136.69875,
          3477.2845833333336,
          5880.916249999999,
          5527.572083333333,
          4842.0525,
          4462.815416666667,
          4103.96875,
          4222.745,
          5092.890416666666,
          5919.5216666666665,
          5342.389583333334,
          7683.892500000001,
          7666.334583333333,
          6551.775416666666,
          6550.925416666666,
          6584.493750000001,
          5959.857083333333,
          6326.739166666666,
          5192.465416666667,
          5041.181666666666,
          4798.89,
          5359.8324999999995,
          4433.515833333334,
          4636.7275,
          6125.147916666666,
          5283.574166666666,
          3931.5070833333334,
          4013.6083333333336,
          4755.6033333333335,
          3390.887083333333,
          4516.443749999999,
          3723.195,
          3562.6941666666667,
          4778.25125,
          3392.5087499999995,
          4569.2300000000005,
          4229.7025,
          4471.244166666666,
          3933.7466666666664,
          4116.653333333333,
          3797.3891666666664,
          3736.2658333333334,
          3675.89875,
          4807.934166666667,
          23788.579166666666,
          66041.28874999999,
          4006.87875,
          3651.550416666667,
          3040.6320833333334,
          3296.19125,
          3138.2116666666666,
          3951.647916666667,
          4030.1091666666666,
          3150.4424999999997,
          3336.235,
          3347.577916666667,
          3428.3116666666665,
          5574.795000000001,
          5616.071666666667
         ]
        },
        {
         "mode": "lines+markers",
         "name": "electronics.video.tv",
         "type": "scatter",
         "x": [
          "10월 1일",
          "10월 2일",
          "10월 3일",
          "10월 4일",
          "10월 5일",
          "10월 6일",
          "10월 7일",
          "10월 8일",
          "10월 9일",
          "10월 10일",
          "10월 11일",
          "10월 12일",
          "10월 13일",
          "10월 14일",
          "10월 15일",
          "10월 16일",
          "10월 17일",
          "10월 18일",
          "10월 19일",
          "10월 20일",
          "10월 21일",
          "10월 22일",
          "10월 23일",
          "10월 24일",
          "10월 25일",
          "10월 26일",
          "10월 27일",
          "10월 28일",
          "10월 29일",
          "10월 30일",
          "10월 31일",
          "11월 1일",
          "11월 2일",
          "11월 3일",
          "11월 4일",
          "11월 5일",
          "11월 6일",
          "11월 7일",
          "11월 8일",
          "11월 9일",
          "11월 10일",
          "11월 11일",
          "11월 12일",
          "11월 13일",
          "11월 14일",
          "11월 16일",
          "11월 17일",
          "11월 18일",
          "11월 19일",
          "11월 20일",
          "11월 21일",
          "11월 22일",
          "11월 23일",
          "11월 24일",
          "11월 25일",
          "11월 26일",
          "11월 27일",
          "11월 28일",
          "11월 29일",
          "11월 30일"
         ],
         "y": [
          9773.259,
          9636.192083333333,
          8901.1,
          13756.448750000001,
          11679.583333333334,
          10754.9425,
          8144.302083333333,
          7802.147916666668,
          8797.952916666667,
          8488.935416666667,
          10124.043333333333,
          12272.53875,
          13206.949999999999,
          14688.415416666665,
          13604.562083333332,
          15267.777916666666,
          13115.832916666666,
          13875.684583333334,
          11992.335833333333,
          13035.574999999999,
          12066.789166666667,
          12166.727916666669,
          12476.205833333333,
          13554.747083333334,
          11884.711666666668,
          11315.61875,
          12181.002916666666,
          9364.287916666666,
          9347.182083333333,
          9444.87875,
          9761.8775,
          9974.018750000001,
          10869.88875,
          10660.4975,
          10722.49625,
          10707.9025,
          10526.754166666668,
          11268.274583333332,
          13035.537083333335,
          13337.995833333334,
          12066.307083333333,
          12621.371666666666,
          11046.127083333333,
          11987.744166666665,
          10768.565833333332,
          53919.206666666665,
          143043.43,
          12887.027083333334,
          10974.175833333333,
          11017.293749999999,
          10989.303333333331,
          10051.993333333334,
          11169.239583333334,
          11331.988333333333,
          10820.086666666666,
          11275.211666666668,
          11595.017083333332,
          11759.642916666666,
          21087.689583333333,
          17270.312916666666
         ]
        },
        {
         "mode": "lines+markers",
         "name": "appliances.kitchen.washer",
         "type": "scatter",
         "x": [
          "10월 1일",
          "10월 2일",
          "10월 3일",
          "10월 4일",
          "10월 5일",
          "10월 6일",
          "10월 7일",
          "10월 8일",
          "10월 9일",
          "10월 10일",
          "10월 11일",
          "10월 12일",
          "10월 13일",
          "10월 14일",
          "10월 15일",
          "10월 16일",
          "10월 17일",
          "10월 18일",
          "10월 19일",
          "10월 20일",
          "10월 21일",
          "10월 22일",
          "10월 23일",
          "10월 24일",
          "10월 25일",
          "10월 26일",
          "10월 27일",
          "10월 28일",
          "10월 29일",
          "10월 30일",
          "10월 31일",
          "11월 1일",
          "11월 2일",
          "11월 3일",
          "11월 4일",
          "11월 5일",
          "11월 6일",
          "11월 7일",
          "11월 8일",
          "11월 9일",
          "11월 10일",
          "11월 11일",
          "11월 12일",
          "11월 13일",
          "11월 14일",
          "11월 16일",
          "11월 17일",
          "11월 18일",
          "11월 19일",
          "11월 20일",
          "11월 21일",
          "11월 22일",
          "11월 23일",
          "11월 24일",
          "11월 25일",
          "11월 26일",
          "11월 27일",
          "11월 28일",
          "11월 29일",
          "11월 30일"
         ],
         "y": [
          4377.279,
          3977.8937499999997,
          4064.3754166666663,
          8936.76125,
          7040.724583333333,
          7407.155833333333,
          4490.04125,
          4745.494583333333,
          4496.971666666667,
          4623.906666666667,
          5139.244166666666,
          5743.899583333333,
          7634.634999999999,
          8658.801666666666,
          7894.62125,
          8239.278333333334,
          7583.496666666667,
          6911.936666666667,
          7219.891666666666,
          7792.877916666667,
          6886.469166666667,
          7033.700833333333,
          7177.045416666667,
          6775.263333333333,
          6571.789583333332,
          7571.141666666666,
          7319.038333333334,
          4843.4070833333335,
          4529.002083333334,
          4615.46125,
          4487.994583333333,
          4849.470833333334,
          4893.459583333333,
          5126.470416666666,
          6238.809166666667,
          5721.904583333333,
          5942.421249999999,
          5534.4158333333335,
          6158.96625,
          5932.31,
          6197.608749999999,
          4924.824166666666,
          5815.874166666667,
          5195.705,
          5702.617916666667,
          25614.162083333333,
          69706.335,
          6205.740833333333,
          4902.503333333333,
          4884.612916666666,
          4591.0824999999995,
          5251.884166666667,
          5125.935833333334,
          5243.935,
          4952.7825,
          4656.33875,
          5160.712916666666,
          4458.78125,
          6862.6970833333335,
          5769.96875
         ]
        }
       ],
       "layout": {
        "autosize": false,
        "height": 450,
        "template": {
         "data": {
          "bar": [
           {
            "error_x": {
             "color": "#2a3f5f"
            },
            "error_y": {
             "color": "#2a3f5f"
            },
            "marker": {
             "line": {
              "color": "#E5ECF6",
              "width": 0.5
             },
             "pattern": {
              "fillmode": "overlay",
              "size": 10,
              "solidity": 0.2
             }
            },
            "type": "bar"
           }
          ],
          "barpolar": [
           {
            "marker": {
             "line": {
              "color": "#E5ECF6",
              "width": 0.5
             },
             "pattern": {
              "fillmode": "overlay",
              "size": 10,
              "solidity": 0.2
             }
            },
            "type": "barpolar"
           }
          ],
          "carpet": [
           {
            "aaxis": {
             "endlinecolor": "#2a3f5f",
             "gridcolor": "white",
             "linecolor": "white",
             "minorgridcolor": "white",
             "startlinecolor": "#2a3f5f"
            },
            "baxis": {
             "endlinecolor": "#2a3f5f",
             "gridcolor": "white",
             "linecolor": "white",
             "minorgridcolor": "white",
             "startlinecolor": "#2a3f5f"
            },
            "type": "carpet"
           }
          ],
          "choropleth": [
           {
            "colorbar": {
             "outlinewidth": 0,
             "ticks": ""
            },
            "type": "choropleth"
           }
          ],
          "contour": [
           {
            "colorbar": {
             "outlinewidth": 0,
             "ticks": ""
            },
            "colorscale": [
             [
              0,
              "#0d0887"
             ],
             [
              0.1111111111111111,
              "#46039f"
             ],
             [
              0.2222222222222222,
              "#7201a8"
             ],
             [
              0.3333333333333333,
              "#9c179e"
             ],
             [
              0.4444444444444444,
              "#bd3786"
             ],
             [
              0.5555555555555556,
              "#d8576b"
             ],
             [
              0.6666666666666666,
              "#ed7953"
             ],
             [
              0.7777777777777778,
              "#fb9f3a"
             ],
             [
              0.8888888888888888,
              "#fdca26"
             ],
             [
              1,
              "#f0f921"
             ]
            ],
            "type": "contour"
           }
          ],
          "contourcarpet": [
           {
            "colorbar": {
             "outlinewidth": 0,
             "ticks": ""
            },
            "type": "contourcarpet"
           }
          ],
          "heatmap": [
           {
            "colorbar": {
             "outlinewidth": 0,
             "ticks": ""
            },
            "colorscale": [
             [
              0,
              "#0d0887"
             ],
             [
              0.1111111111111111,
              "#46039f"
             ],
             [
              0.2222222222222222,
              "#7201a8"
             ],
             [
              0.3333333333333333,
              "#9c179e"
             ],
             [
              0.4444444444444444,
              "#bd3786"
             ],
             [
              0.5555555555555556,
              "#d8576b"
             ],
             [
              0.6666666666666666,
              "#ed7953"
             ],
             [
              0.7777777777777778,
              "#fb9f3a"
             ],
             [
              0.8888888888888888,
              "#fdca26"
             ],
             [
              1,
              "#f0f921"
             ]
            ],
            "type": "heatmap"
           }
          ],
          "heatmapgl": [
           {
            "colorbar": {
             "outlinewidth": 0,
             "ticks": ""
            },
            "colorscale": [
             [
              0,
              "#0d0887"
             ],
             [
              0.1111111111111111,
              "#46039f"
             ],
             [
              0.2222222222222222,
              "#7201a8"
             ],
             [
              0.3333333333333333,
              "#9c179e"
             ],
             [
              0.4444444444444444,
              "#bd3786"
             ],
             [
              0.5555555555555556,
              "#d8576b"
             ],
             [
              0.6666666666666666,
              "#ed7953"
             ],
             [
              0.7777777777777778,
              "#fb9f3a"
             ],
             [
              0.8888888888888888,
              "#fdca26"
             ],
             [
              1,
              "#f0f921"
             ]
            ],
            "type": "heatmapgl"
           }
          ],
          "histogram": [
           {
            "marker": {
             "pattern": {
              "fillmode": "overlay",
              "size": 10,
              "solidity": 0.2
             }
            },
            "type": "histogram"
           }
          ],
          "histogram2d": [
           {
            "colorbar": {
             "outlinewidth": 0,
             "ticks": ""
            },
            "colorscale": [
             [
              0,
              "#0d0887"
             ],
             [
              0.1111111111111111,
              "#46039f"
             ],
             [
              0.2222222222222222,
              "#7201a8"
             ],
             [
              0.3333333333333333,
              "#9c179e"
             ],
             [
              0.4444444444444444,
              "#bd3786"
             ],
             [
              0.5555555555555556,
              "#d8576b"
             ],
             [
              0.6666666666666666,
              "#ed7953"
             ],
             [
              0.7777777777777778,
              "#fb9f3a"
             ],
             [
              0.8888888888888888,
              "#fdca26"
             ],
             [
              1,
              "#f0f921"
             ]
            ],
            "type": "histogram2d"
           }
          ],
          "histogram2dcontour": [
           {
            "colorbar": {
             "outlinewidth": 0,
             "ticks": ""
            },
            "colorscale": [
             [
              0,
              "#0d0887"
             ],
             [
              0.1111111111111111,
              "#46039f"
             ],
             [
              0.2222222222222222,
              "#7201a8"
             ],
             [
              0.3333333333333333,
              "#9c179e"
             ],
             [
              0.4444444444444444,
              "#bd3786"
             ],
             [
              0.5555555555555556,
              "#d8576b"
             ],
             [
              0.6666666666666666,
              "#ed7953"
             ],
             [
              0.7777777777777778,
              "#fb9f3a"
             ],
             [
              0.8888888888888888,
              "#fdca26"
             ],
             [
              1,
              "#f0f921"
             ]
            ],
            "type": "histogram2dcontour"
           }
          ],
          "mesh3d": [
           {
            "colorbar": {
             "outlinewidth": 0,
             "ticks": ""
            },
            "type": "mesh3d"
           }
          ],
          "parcoords": [
           {
            "line": {
             "colorbar": {
              "outlinewidth": 0,
              "ticks": ""
             }
            },
            "type": "parcoords"
           }
          ],
          "pie": [
           {
            "automargin": true,
            "type": "pie"
           }
          ],
          "scatter": [
           {
            "marker": {
             "colorbar": {
              "outlinewidth": 0,
              "ticks": ""
             }
            },
            "type": "scatter"
           }
          ],
          "scatter3d": [
           {
            "line": {
             "colorbar": {
              "outlinewidth": 0,
              "ticks": ""
             }
            },
            "marker": {
             "colorbar": {
              "outlinewidth": 0,
              "ticks": ""
             }
            },
            "type": "scatter3d"
           }
          ],
          "scattercarpet": [
           {
            "marker": {
             "colorbar": {
              "outlinewidth": 0,
              "ticks": ""
             }
            },
            "type": "scattercarpet"
           }
          ],
          "scattergeo": [
           {
            "marker": {
             "colorbar": {
              "outlinewidth": 0,
              "ticks": ""
             }
            },
            "type": "scattergeo"
           }
          ],
          "scattergl": [
           {
            "marker": {
             "colorbar": {
              "outlinewidth": 0,
              "ticks": ""
             }
            },
            "type": "scattergl"
           }
          ],
          "scattermapbox": [
           {
            "marker": {
             "colorbar": {
              "outlinewidth": 0,
              "ticks": ""
             }
            },
            "type": "scattermapbox"
           }
          ],
          "scatterpolar": [
           {
            "marker": {
             "colorbar": {
              "outlinewidth": 0,
              "ticks": ""
             }
            },
            "type": "scatterpolar"
           }
          ],
          "scatterpolargl": [
           {
            "marker": {
             "colorbar": {
              "outlinewidth": 0,
              "ticks": ""
             }
            },
            "type": "scatterpolargl"
           }
          ],
          "scatterternary": [
           {
            "marker": {
             "colorbar": {
              "outlinewidth": 0,
              "ticks": ""
             }
            },
            "type": "scatterternary"
           }
          ],
          "surface": [
           {
            "colorbar": {
             "outlinewidth": 0,
             "ticks": ""
            },
            "colorscale": [
             [
              0,
              "#0d0887"
             ],
             [
              0.1111111111111111,
              "#46039f"
             ],
             [
              0.2222222222222222,
              "#7201a8"
             ],
             [
              0.3333333333333333,
              "#9c179e"
             ],
             [
              0.4444444444444444,
              "#bd3786"
             ],
             [
              0.5555555555555556,
              "#d8576b"
             ],
             [
              0.6666666666666666,
              "#ed7953"
             ],
             [
              0.7777777777777778,
              "#fb9f3a"
             ],
             [
              0.8888888888888888,
              "#fdca26"
             ],
             [
              1,
              "#f0f921"
             ]
            ],
            "type": "surface"
           }
          ],
          "table": [
           {
            "cells": {
             "fill": {
              "color": "#EBF0F8"
             },
             "line": {
              "color": "white"
             }
            },
            "header": {
             "fill": {
              "color": "#C8D4E3"
             },
             "line": {
              "color": "white"
             }
            },
            "type": "table"
           }
          ]
         },
         "layout": {
          "annotationdefaults": {
           "arrowcolor": "#2a3f5f",
           "arrowhead": 0,
           "arrowwidth": 1
          },
          "autotypenumbers": "strict",
          "coloraxis": {
           "colorbar": {
            "outlinewidth": 0,
            "ticks": ""
           }
          },
          "colorscale": {
           "diverging": [
            [
             0,
             "#8e0152"
            ],
            [
             0.1,
             "#c51b7d"
            ],
            [
             0.2,
             "#de77ae"
            ],
            [
             0.3,
             "#f1b6da"
            ],
            [
             0.4,
             "#fde0ef"
            ],
            [
             0.5,
             "#f7f7f7"
            ],
            [
             0.6,
             "#e6f5d0"
            ],
            [
             0.7,
             "#b8e186"
            ],
            [
             0.8,
             "#7fbc41"
            ],
            [
             0.9,
             "#4d9221"
            ],
            [
             1,
             "#276419"
            ]
           ],
           "sequential": [
            [
             0,
             "#0d0887"
            ],
            [
             0.1111111111111111,
             "#46039f"
            ],
            [
             0.2222222222222222,
             "#7201a8"
            ],
            [
             0.3333333333333333,
             "#9c179e"
            ],
            [
             0.4444444444444444,
             "#bd3786"
            ],
            [
             0.5555555555555556,
             "#d8576b"
            ],
            [
             0.6666666666666666,
             "#ed7953"
            ],
            [
             0.7777777777777778,
             "#fb9f3a"
            ],
            [
             0.8888888888888888,
             "#fdca26"
            ],
            [
             1,
             "#f0f921"
            ]
           ],
           "sequentialminus": [
            [
             0,
             "#0d0887"
            ],
            [
             0.1111111111111111,
             "#46039f"
            ],
            [
             0.2222222222222222,
             "#7201a8"
            ],
            [
             0.3333333333333333,
             "#9c179e"
            ],
            [
             0.4444444444444444,
             "#bd3786"
            ],
            [
             0.5555555555555556,
             "#d8576b"
            ],
            [
             0.6666666666666666,
             "#ed7953"
            ],
            [
             0.7777777777777778,
             "#fb9f3a"
            ],
            [
             0.8888888888888888,
             "#fdca26"
            ],
            [
             1,
             "#f0f921"
            ]
           ]
          },
          "colorway": [
           "#636efa",
           "#EF553B",
           "#00cc96",
           "#ab63fa",
           "#FFA15A",
           "#19d3f3",
           "#FF6692",
           "#B6E880",
           "#FF97FF",
           "#FECB52"
          ],
          "font": {
           "color": "#2a3f5f"
          },
          "geo": {
           "bgcolor": "white",
           "lakecolor": "white",
           "landcolor": "#E5ECF6",
           "showlakes": true,
           "showland": true,
           "subunitcolor": "white"
          },
          "hoverlabel": {
           "align": "left"
          },
          "hovermode": "closest",
          "mapbox": {
           "style": "light"
          },
          "paper_bgcolor": "white",
          "plot_bgcolor": "#E5ECF6",
          "polar": {
           "angularaxis": {
            "gridcolor": "white",
            "linecolor": "white",
            "ticks": ""
           },
           "bgcolor": "#E5ECF6",
           "radialaxis": {
            "gridcolor": "white",
            "linecolor": "white",
            "ticks": ""
           }
          },
          "scene": {
           "xaxis": {
            "backgroundcolor": "#E5ECF6",
            "gridcolor": "white",
            "gridwidth": 2,
            "linecolor": "white",
            "showbackground": true,
            "ticks": "",
            "zerolinecolor": "white"
           },
           "yaxis": {
            "backgroundcolor": "#E5ECF6",
            "gridcolor": "white",
            "gridwidth": 2,
            "linecolor": "white",
            "showbackground": true,
            "ticks": "",
            "zerolinecolor": "white"
           },
           "zaxis": {
            "backgroundcolor": "#E5ECF6",
            "gridcolor": "white",
            "gridwidth": 2,
            "linecolor": "white",
            "showbackground": true,
            "ticks": "",
            "zerolinecolor": "white"
           }
          },
          "shapedefaults": {
           "line": {
            "color": "#2a3f5f"
           }
          },
          "ternary": {
           "aaxis": {
            "gridcolor": "white",
            "linecolor": "white",
            "ticks": ""
           },
           "baxis": {
            "gridcolor": "white",
            "linecolor": "white",
            "ticks": ""
           },
           "bgcolor": "#E5ECF6",
           "caxis": {
            "gridcolor": "white",
            "linecolor": "white",
            "ticks": ""
           }
          },
          "title": {
           "x": 0.05
          },
          "xaxis": {
           "automargin": true,
           "gridcolor": "white",
           "linecolor": "white",
           "ticks": "",
           "title": {
            "standoff": 15
           },
           "zerolinecolor": "white",
           "zerolinewidth": 2
          },
          "yaxis": {
           "automargin": true,
           "gridcolor": "white",
           "linecolor": "white",
           "ticks": "",
           "title": {
            "standoff": 15
           },
           "zerolinecolor": "white",
           "zerolinewidth": 2
          }
         }
        },
        "title": {
         "text": "일별 시간당 매출액"
        },
        "width": 900
       }
      }
     },
     "metadata": {},
     "output_type": "display_data"
    }
   ],
   "source": [
    "# 시간에 따른 매출액의 변화\n",
    "temp_df = df.groupby([\"month\", \"day\"]).mean()\n",
    "temp_df = pd.concat([temp_df[\"total_sales\"], temp_df.iloc[:,21:32]],axis=1)\n",
    "temp_df.reset_index(inplace=True)\n",
    "temp_df[\"time\"] = list(zip(temp_df[\"month\"], temp_df[\"day\"]))\n",
    "temp_df[\"time\"] = temp_df[\"time\"].apply(lambda x : f\"{x[0]}월 {x[1]}일\")\n",
    "columns = temp_df.columns.to_list()\n",
    "columns.insert(0, columns.pop())\n",
    "columns.remove(\"month\")\n",
    "columns.remove(\"day\")\n",
    "temp_df = temp_df[columns]\n",
    "temp_df = temp_df.set_index(\"time\")\n",
    "fig = go.Figure()\n",
    "for category in temp_df.columns:\n",
    "    fig.add_trace(go.Scatter(y=temp_df[category],\n",
    "                            x=temp_df.index,\n",
    "                            mode='lines+markers', \n",
    "                            name=f\"{category.split('_')[-1]}\"))                                                                                 \n",
    "fig.update_layout(\n",
    "    autosize=False,\n",
    "    title = \"일별 시간당 매출액\",\n",
    "    width=900,\n",
    "    height=450,)\n",
    "fig.show()"
   ]
  },
  {
   "cell_type": "code",
   "execution_count": 11,
   "metadata": {},
   "outputs": [
    {
     "data": {
      "application/vnd.plotly.v1+json": {
       "config": {
        "plotlyServerURL": "https://plotly.com"
       },
       "data": [
        {
         "mode": "lines+markers",
         "name": "sales",
         "type": "scatter",
         "x": [
          "10월 1일",
          "10월 2일",
          "10월 3일",
          "10월 4일",
          "10월 5일",
          "10월 6일",
          "10월 7일",
          "10월 8일",
          "10월 9일",
          "10월 10일",
          "10월 11일",
          "10월 12일",
          "10월 13일",
          "10월 14일",
          "10월 15일",
          "10월 16일",
          "10월 17일",
          "10월 18일",
          "10월 19일",
          "10월 20일",
          "10월 21일",
          "10월 22일",
          "10월 23일",
          "10월 24일",
          "10월 25일",
          "10월 26일",
          "10월 27일",
          "10월 28일",
          "10월 29일",
          "10월 30일",
          "10월 31일",
          "11월 1일",
          "11월 2일",
          "11월 3일",
          "11월 4일",
          "11월 5일",
          "11월 6일",
          "11월 7일",
          "11월 8일",
          "11월 9일",
          "11월 10일",
          "11월 11일",
          "11월 12일",
          "11월 13일",
          "11월 14일",
          "11월 18일",
          "11월 19일",
          "11월 20일",
          "11월 21일",
          "11월 22일",
          "11월 23일",
          "11월 24일",
          "11월 25일",
          "11월 26일",
          "11월 27일",
          "11월 28일",
          "11월 29일",
          "11월 30일"
         ],
         "y": [
          303379.4585,
          260235.10166666668,
          255916.04708333334,
          359376.6570833333,
          305210.27958333335,
          283231.1279166667,
          265040.52541666664,
          283990.83541666664,
          284375.09500000003,
          275034.7966666667,
          323392.7454166667,
          305062.45166666666,
          347885.32708333334,
          392949.9354166666,
          359592.92208333337,
          406926.76625000004,
          374403.70083333337,
          342872.53750000003,
          314391.12916666665,
          312132.87,
          328705.12833333336,
          328949.4716666667,
          317604.28958333336,
          311310.7375,
          303612.10583333333,
          285760.35000000003,
          300351.60541666666,
          277630.02958333335,
          266881.4745833333,
          276649.35708333337,
          269189.89958333335,
          286102.66041666665,
          268538.2975,
          273416.5341666667,
          338659.46625,
          303768.73666666663,
          305758.46749999997,
          296099.9275,
          320656.105,
          273643.75958333333,
          280191.40750000003,
          302500.64,
          282767.51208333333,
          283887.4629166667,
          300855.59875,
          350123.61125,
          304527.25875,
          293882.29791666666,
          289519.65750000003,
          293010.5354166667,
          263278.97375,
          269501.84249999997,
          295866.88416666666,
          284351.955,
          300383.59041666664,
          294167.7470833333,
          403465.27,
          332125.7216666667
         ]
        },
        {
         "mode": "lines+markers",
         "name": "electronics.audio.headphone",
         "type": "scatter",
         "x": [
          "10월 1일",
          "10월 2일",
          "10월 3일",
          "10월 4일",
          "10월 5일",
          "10월 6일",
          "10월 7일",
          "10월 8일",
          "10월 9일",
          "10월 10일",
          "10월 11일",
          "10월 12일",
          "10월 13일",
          "10월 14일",
          "10월 15일",
          "10월 16일",
          "10월 17일",
          "10월 18일",
          "10월 19일",
          "10월 20일",
          "10월 21일",
          "10월 22일",
          "10월 23일",
          "10월 24일",
          "10월 25일",
          "10월 26일",
          "10월 27일",
          "10월 28일",
          "10월 29일",
          "10월 30일",
          "10월 31일",
          "11월 1일",
          "11월 2일",
          "11월 3일",
          "11월 4일",
          "11월 5일",
          "11월 6일",
          "11월 7일",
          "11월 8일",
          "11월 9일",
          "11월 10일",
          "11월 11일",
          "11월 12일",
          "11월 13일",
          "11월 14일",
          "11월 18일",
          "11월 19일",
          "11월 20일",
          "11월 21일",
          "11월 22일",
          "11월 23일",
          "11월 24일",
          "11월 25일",
          "11월 26일",
          "11월 27일",
          "11월 28일",
          "11월 29일",
          "11월 30일"
         ],
         "y": [
          5179.4974999999995,
          4425.4425,
          4221.260416666667,
          6006.080416666667,
          4717.791666666667,
          4236.702083333334,
          4313.87625,
          3950.7954166666664,
          4167.181666666666,
          3979.9970833333336,
          5068.218333333333,
          4505.88875,
          4891.849583333334,
          6023.359583333334,
          4932.800833333334,
          6822.609166666666,
          6335.748333333333,
          5525.375416666667,
          4628.484166666666,
          4499.182083333333,
          5344.391666666666,
          5536.297916666666,
          4648.955416666667,
          4653.041666666667,
          4648.05375,
          4209.745833333333,
          4527.269583333334,
          4522.10875,
          3695.67,
          3959.327916666667,
          3973.2608333333333,
          4585.37625,
          4192.580416666667,
          4518.940833333333,
          7025.4608333333335,
          5681.139583333334,
          5409.961666666667,
          5102.020833333333,
          5612.940416666667,
          4330.670833333334,
          4914.770416666667,
          5132.0633333333335,
          4296.455416666667,
          4974.537083333334,
          4917.1225,
          9152.750416666668,
          6602.343333333333,
          5747.82125,
          5962.927083333333,
          5746.528333333333,
          5122.08625,
          5112.287916666667,
          5631.400416666666,
          6188.044166666667,
          6096.927083333333,
          6521.852083333334,
          9568.55,
          7284.618750000001
         ]
        },
        {
         "mode": "lines+markers",
         "name": "electronics.tablet",
         "type": "scatter",
         "x": [
          "10월 1일",
          "10월 2일",
          "10월 3일",
          "10월 4일",
          "10월 5일",
          "10월 6일",
          "10월 7일",
          "10월 8일",
          "10월 9일",
          "10월 10일",
          "10월 11일",
          "10월 12일",
          "10월 13일",
          "10월 14일",
          "10월 15일",
          "10월 16일",
          "10월 17일",
          "10월 18일",
          "10월 19일",
          "10월 20일",
          "10월 21일",
          "10월 22일",
          "10월 23일",
          "10월 24일",
          "10월 25일",
          "10월 26일",
          "10월 27일",
          "10월 28일",
          "10월 29일",
          "10월 30일",
          "10월 31일",
          "11월 1일",
          "11월 2일",
          "11월 3일",
          "11월 4일",
          "11월 5일",
          "11월 6일",
          "11월 7일",
          "11월 8일",
          "11월 9일",
          "11월 10일",
          "11월 11일",
          "11월 12일",
          "11월 13일",
          "11월 14일",
          "11월 18일",
          "11월 19일",
          "11월 20일",
          "11월 21일",
          "11월 22일",
          "11월 23일",
          "11월 24일",
          "11월 25일",
          "11월 26일",
          "11월 27일",
          "11월 28일",
          "11월 29일",
          "11월 30일"
         ],
         "y": [
          1481.711,
          1091.4154166666667,
          1350.3033333333333,
          2236.3541666666665,
          2122.497083333333,
          2212.7454166666666,
          1391.5816666666667,
          2172.6375000000003,
          3269.0629166666663,
          3032.736666666666,
          3514.7066666666665,
          2598.9429166666664,
          2987.13625,
          3189.48875,
          2821.48375,
          2340.29875,
          1909.1187499999999,
          1976.32,
          2300.0662500000003,
          1793.8008333333335,
          1892.9558333333334,
          2608.412083333333,
          1838.9120833333334,
          2266.009583333333,
          2836.6375000000003,
          1932.8158333333333,
          2176.5004166666663,
          1446.3616666666667,
          1876.7533333333333,
          1672.8620833333334,
          971.7041666666668,
          1218.3891666666666,
          1432.7325,
          1467.7958333333333,
          1725.2379166666667,
          1732.9929166666668,
          1521.14,
          1249.2437499999999,
          1679.0516666666665,
          1422.9483333333335,
          1314.3958333333333,
          1809.1354166666667,
          1399.2454166666666,
          1023.4804166666667,
          1666.6362500000002,
          1869.60125,
          1923.1899999999998,
          1367.6691666666666,
          1158.5641666666668,
          1226.0391666666667,
          1070.4883333333335,
          1281.4775,
          1080.7795833333332,
          1612.4629166666666,
          1724.6475,
          1592.4475,
          1924.495,
          1648.01875
         ]
        },
        {
         "mode": "lines+markers",
         "name": "apparel.shoes",
         "type": "scatter",
         "x": [
          "10월 1일",
          "10월 2일",
          "10월 3일",
          "10월 4일",
          "10월 5일",
          "10월 6일",
          "10월 7일",
          "10월 8일",
          "10월 9일",
          "10월 10일",
          "10월 11일",
          "10월 12일",
          "10월 13일",
          "10월 14일",
          "10월 15일",
          "10월 16일",
          "10월 17일",
          "10월 18일",
          "10월 19일",
          "10월 20일",
          "10월 21일",
          "10월 22일",
          "10월 23일",
          "10월 24일",
          "10월 25일",
          "10월 26일",
          "10월 27일",
          "10월 28일",
          "10월 29일",
          "10월 30일",
          "10월 31일",
          "11월 1일",
          "11월 2일",
          "11월 3일",
          "11월 4일",
          "11월 5일",
          "11월 6일",
          "11월 7일",
          "11월 8일",
          "11월 9일",
          "11월 10일",
          "11월 11일",
          "11월 12일",
          "11월 13일",
          "11월 14일",
          "11월 18일",
          "11월 19일",
          "11월 20일",
          "11월 21일",
          "11월 22일",
          "11월 23일",
          "11월 24일",
          "11월 25일",
          "11월 26일",
          "11월 27일",
          "11월 28일",
          "11월 29일",
          "11월 30일"
         ],
         "y": [
          352.7885,
          343.5704166666667,
          295.96416666666664,
          234.6341666666667,
          266.2129166666667,
          149.1775,
          261.49208333333337,
          272.57041666666663,
          272.03333333333336,
          264.83958333333334,
          528.5645833333334,
          433.0954166666667,
          546.9920833333333,
          310.86041666666665,
          389.05916666666667,
          485.7266666666667,
          545.57,
          1188.6625000000001,
          933.445,
          874.5070833333333,
          903.1358333333333,
          806.1550000000001,
          698.7641666666667,
          850.9891666666667,
          402.07916666666665,
          514.5604166666667,
          413.705,
          481.23625,
          481.45208333333335,
          363.74375000000003,
          457.55958333333336,
          315.0783333333333,
          584.81875,
          628.6850000000001,
          806.6416666666668,
          926.64,
          889.1391666666667,
          1133.6875,
          915.8233333333334,
          1123.9437500000001,
          976.8841666666667,
          1078.4895833333333,
          913.5583333333333,
          804.2683333333333,
          1130.6575,
          1188.095,
          1033.6183333333333,
          1141.4758333333332,
          1160.5516666666665,
          1213.3754166666668,
          939.9333333333334,
          905.2916666666666,
          1043.4624999999999,
          1103.6320833333332,
          1055.4195833333333,
          879.0645833333333,
          919.9316666666667,
          862.7075
         ]
        },
        {
         "mode": "lines+markers",
         "name": "appliances.environment.vacuum",
         "type": "scatter",
         "x": [
          "10월 1일",
          "10월 2일",
          "10월 3일",
          "10월 4일",
          "10월 5일",
          "10월 6일",
          "10월 7일",
          "10월 8일",
          "10월 9일",
          "10월 10일",
          "10월 11일",
          "10월 12일",
          "10월 13일",
          "10월 14일",
          "10월 15일",
          "10월 16일",
          "10월 17일",
          "10월 18일",
          "10월 19일",
          "10월 20일",
          "10월 21일",
          "10월 22일",
          "10월 23일",
          "10월 24일",
          "10월 25일",
          "10월 26일",
          "10월 27일",
          "10월 28일",
          "10월 29일",
          "10월 30일",
          "10월 31일",
          "11월 1일",
          "11월 2일",
          "11월 3일",
          "11월 4일",
          "11월 5일",
          "11월 6일",
          "11월 7일",
          "11월 8일",
          "11월 9일",
          "11월 10일",
          "11월 11일",
          "11월 12일",
          "11월 13일",
          "11월 14일",
          "11월 18일",
          "11월 19일",
          "11월 20일",
          "11월 21일",
          "11월 22일",
          "11월 23일",
          "11월 24일",
          "11월 25일",
          "11월 26일",
          "11월 27일",
          "11월 28일",
          "11월 29일",
          "11월 30일"
         ],
         "y": [
          1944.5649999999998,
          1761.8408333333334,
          1656.2700000000002,
          2822.0808333333334,
          2409.2991666666667,
          2449.827083333333,
          1746.9712499999998,
          1618.1841666666667,
          1806.8595833333331,
          1407.3149999999998,
          2369.03375,
          2581.1770833333335,
          3268.45875,
          3219.862916666667,
          2699.037083333333,
          2717.474583333333,
          2976.4599999999996,
          2455.8191666666667,
          2483.54,
          2921.3241666666668,
          2499.340833333333,
          2172.8320833333332,
          2624.705,
          2886.76,
          2477.7083333333335,
          2514.9591666666665,
          2962.2708333333335,
          1631.51625,
          1622.0029166666666,
          1728.4895833333333,
          1371.1762499999998,
          1846.0708333333332,
          2044.4825,
          2076.0041666666666,
          2176.153333333333,
          1804.3725000000002,
          1690.945,
          1822.5225,
          2265.395,
          1856.0616666666667,
          1877.8658333333333,
          1918.03,
          1673.6708333333333,
          1808.2816666666668,
          2197.0750000000003,
          2361.0779166666666,
          2206.16375,
          1975.2933333333333,
          1382.45875,
          1848.6000000000001,
          2058.2975,
          2110.76625,
          2074.150416666667,
          2092.4529166666666,
          2004.8970833333333,
          2286.0675,
          3847.2691666666665,
          3233.9858333333336
         ]
        },
        {
         "mode": "lines+markers",
         "name": "electronics.clocks",
         "type": "scatter",
         "x": [
          "10월 1일",
          "10월 2일",
          "10월 3일",
          "10월 4일",
          "10월 5일",
          "10월 6일",
          "10월 7일",
          "10월 8일",
          "10월 9일",
          "10월 10일",
          "10월 11일",
          "10월 12일",
          "10월 13일",
          "10월 14일",
          "10월 15일",
          "10월 16일",
          "10월 17일",
          "10월 18일",
          "10월 19일",
          "10월 20일",
          "10월 21일",
          "10월 22일",
          "10월 23일",
          "10월 24일",
          "10월 25일",
          "10월 26일",
          "10월 27일",
          "10월 28일",
          "10월 29일",
          "10월 30일",
          "10월 31일",
          "11월 1일",
          "11월 2일",
          "11월 3일",
          "11월 4일",
          "11월 5일",
          "11월 6일",
          "11월 7일",
          "11월 8일",
          "11월 9일",
          "11월 10일",
          "11월 11일",
          "11월 12일",
          "11월 13일",
          "11월 14일",
          "11월 18일",
          "11월 19일",
          "11월 20일",
          "11월 21일",
          "11월 22일",
          "11월 23일",
          "11월 24일",
          "11월 25일",
          "11월 26일",
          "11월 27일",
          "11월 28일",
          "11월 29일",
          "11월 30일"
         ],
         "y": [
          6028.2585,
          6131.452499999999,
          5279.5545833333335,
          8605.539583333333,
          6151.949166666666,
          6620.819166666667,
          6681.654166666667,
          6038.8983333333335,
          5791.9375,
          5290.4487500000005,
          5861.584583333333,
          5144.558333333333,
          7338.15125,
          9020.3025,
          7766.759166666667,
          9669.285833333333,
          7990.423750000001,
          7148.167083333334,
          5755.092083333333,
          6686.422083333334,
          6064.8175,
          6511.99125,
          7112.917916666666,
          6232.95625,
          7252.28875,
          5861.609166666666,
          7043.962916666666,
          5218.182083333333,
          5121.974999999999,
          5057.7891666666665,
          4971.6345833333335,
          5691.641666666666,
          5585.067083333334,
          5681.80875,
          8248.075833333334,
          6164.434583333333,
          6508.277916666667,
          6147.506666666667,
          7006.978750000001,
          5599.635833333334,
          5416.797083333333,
          6187.505416666667,
          4935.0391666666665,
          5809.113333333334,
          6055.035833333334,
          8716.795,
          6596.57125,
          6940.327499999999,
          6007.157916666667,
          5665.203750000001,
          4892.361666666667,
          5219.483333333334,
          6325.974999999999,
          5807.120416666668,
          7072.389583333334,
          6980.0275,
          9818.995,
          7469.044999999999
         ]
        },
        {
         "mode": "lines+markers",
         "name": "electronics.smartphone",
         "type": "scatter",
         "x": [
          "10월 1일",
          "10월 2일",
          "10월 3일",
          "10월 4일",
          "10월 5일",
          "10월 6일",
          "10월 7일",
          "10월 8일",
          "10월 9일",
          "10월 10일",
          "10월 11일",
          "10월 12일",
          "10월 13일",
          "10월 14일",
          "10월 15일",
          "10월 16일",
          "10월 17일",
          "10월 18일",
          "10월 19일",
          "10월 20일",
          "10월 21일",
          "10월 22일",
          "10월 23일",
          "10월 24일",
          "10월 25일",
          "10월 26일",
          "10월 27일",
          "10월 28일",
          "10월 29일",
          "10월 30일",
          "10월 31일",
          "11월 1일",
          "11월 2일",
          "11월 3일",
          "11월 4일",
          "11월 5일",
          "11월 6일",
          "11월 7일",
          "11월 8일",
          "11월 9일",
          "11월 10일",
          "11월 11일",
          "11월 12일",
          "11월 13일",
          "11월 14일",
          "11월 18일",
          "11월 19일",
          "11월 20일",
          "11월 21일",
          "11월 22일",
          "11월 23일",
          "11월 24일",
          "11월 25일",
          "11월 26일",
          "11월 27일",
          "11월 28일",
          "11월 29일",
          "11월 30일"
         ],
         "y": [
          212290.30899999998,
          182695.6445833333,
          178355.85166666665,
          242316.84708333333,
          205711.70166666666,
          189457.37416666668,
          178596.81916666668,
          193821.37625,
          194007.0375,
          187980.96791666665,
          215180.79416666666,
          200520.21375,
          220671.30416666667,
          273710.06416666665,
          249965.33875,
          278958.45541666663,
          257091.62166666667,
          237706.94125,
          216321.87625,
          212065.68333333335,
          229355.84708333333,
          227347.2725,
          216496.48375,
          214063.60208333333,
          202753.95583333334,
          190494.45333333334,
          201629.63833333334,
          194117.64958333332,
          184465.26125,
          192913.72291666665,
          190673.38083333333,
          197573.06833333333,
          184119.11208333334,
          188349.26333333334,
          233764.83541666667,
          207593.455,
          211789.92666666667,
          200260.7725,
          217508.55166666667,
          183009.15291666667,
          189175.40291666667,
          202985.00375,
          192486.81041666667,
          194376.03208333335,
          208775.00749999998,
          240666.27541666664,
          211230.20916666664,
          201694.77958333332,
          197940.35624999998,
          201209.1729166667,
          177782.59916666665,
          184680.22166666668,
          203376.36375000002,
          192783.50666666668,
          203887.07458333333,
          200153.34791666665,
          268813.89958333335,
          219198.65875000003
         ]
        },
        {
         "mode": "lines+markers",
         "name": "computers.notebook",
         "type": "scatter",
         "x": [
          "10월 1일",
          "10월 2일",
          "10월 3일",
          "10월 4일",
          "10월 5일",
          "10월 6일",
          "10월 7일",
          "10월 8일",
          "10월 9일",
          "10월 10일",
          "10월 11일",
          "10월 12일",
          "10월 13일",
          "10월 14일",
          "10월 15일",
          "10월 16일",
          "10월 17일",
          "10월 18일",
          "10월 19일",
          "10월 20일",
          "10월 21일",
          "10월 22일",
          "10월 23일",
          "10월 24일",
          "10월 25일",
          "10월 26일",
          "10월 27일",
          "10월 28일",
          "10월 29일",
          "10월 30일",
          "10월 31일",
          "11월 1일",
          "11월 2일",
          "11월 3일",
          "11월 4일",
          "11월 5일",
          "11월 6일",
          "11월 7일",
          "11월 8일",
          "11월 9일",
          "11월 10일",
          "11월 11일",
          "11월 12일",
          "11월 13일",
          "11월 14일",
          "11월 18일",
          "11월 19일",
          "11월 20일",
          "11월 21일",
          "11월 22일",
          "11월 23일",
          "11월 24일",
          "11월 25일",
          "11월 26일",
          "11월 27일",
          "11월 28일",
          "11월 29일",
          "11월 30일"
         ],
         "y": [
          12979.432,
          9843.293749999999,
          10031.167500000001,
          17513.469999999998,
          13868.542083333334,
          11289.500416666668,
          10614.882916666667,
          9398.683333333332,
          9913.212916666665,
          9458.921666666667,
          12758.562916666668,
          11349.266666666668,
          13378.643750000001,
          15443.95125,
          14007.849999999999,
          18898.877916666668,
          16767.54125,
          12282.584583333335,
          11377.952916666667,
          12141.4125,
          11784.32,
          12747.642916666666,
          13009.416666666666,
          11372.899583333332,
          10743.293333333333,
          11877.6275,
          11836.514583333332,
          10316.083333333334,
          9798.44375,
          9865.164166666667,
          9242.404583333333,
          9260.83375,
          8496.60375,
          10570.96875,
          11691.185833333335,
          11479.523333333333,
          10803.814166666665,
          11445.600416666666,
          13377.318333333335,
          10601.089583333332,
          9994.212083333334,
          11896.764166666668,
          11226.773333333333,
          10895.569166666666,
          10182.307916666667,
          11532.425833333333,
          9592.7675,
          9689.886250000001,
          9519.085000000001,
          11333.887083333333,
          9090.31125,
          9311.478333333334,
          10030.464583333332,
          9516.477916666667,
          11026.764166666668,
          10826.525416666665,
          15252.215833333334,
          12115.263333333334
         ]
        },
        {
         "mode": "lines+markers",
         "name": "computers.desktop",
         "type": "scatter",
         "x": [
          "10월 1일",
          "10월 2일",
          "10월 3일",
          "10월 4일",
          "10월 5일",
          "10월 6일",
          "10월 7일",
          "10월 8일",
          "10월 9일",
          "10월 10일",
          "10월 11일",
          "10월 12일",
          "10월 13일",
          "10월 14일",
          "10월 15일",
          "10월 16일",
          "10월 17일",
          "10월 18일",
          "10월 19일",
          "10월 20일",
          "10월 21일",
          "10월 22일",
          "10월 23일",
          "10월 24일",
          "10월 25일",
          "10월 26일",
          "10월 27일",
          "10월 28일",
          "10월 29일",
          "10월 30일",
          "10월 31일",
          "11월 1일",
          "11월 2일",
          "11월 3일",
          "11월 4일",
          "11월 5일",
          "11월 6일",
          "11월 7일",
          "11월 8일",
          "11월 9일",
          "11월 10일",
          "11월 11일",
          "11월 12일",
          "11월 13일",
          "11월 14일",
          "11월 18일",
          "11월 19일",
          "11월 20일",
          "11월 21일",
          "11월 22일",
          "11월 23일",
          "11월 24일",
          "11월 25일",
          "11월 26일",
          "11월 27일",
          "11월 28일",
          "11월 29일",
          "11월 30일"
         ],
         "y": [
          2469.5985,
          1434.0866666666668,
          1760.30375,
          1496.5191666666667,
          1889.9216666666669,
          1478.22875,
          1270.3208333333334,
          1306.4416666666666,
          1144.8483333333334,
          1517.3070833333334,
          1333.0466666666666,
          1229.1008333333332,
          1419.2150000000001,
          1955.5991666666666,
          1094.96125,
          1937.7041666666667,
          1707.3745833333332,
          1664.8166666666666,
          1425.9866666666667,
          1613.3741666666665,
          1319.3979166666666,
          1136.46125,
          1738.71125,
          1237.4133333333334,
          1309.13625,
          2266.96625,
          1386.8604166666667,
          920.3175,
          1726.5575,
          1302.2875000000001,
          1239.2545833333334,
          2305.1895833333333,
          1828.7908333333332,
          1116.64875,
          1568.9579166666665,
          987.4083333333333,
          1488.8466666666666,
          1242.7766666666666,
          1588.1000000000001,
          1701.48625,
          1503.7258333333332,
          1503.4829166666666,
          1535.99875,
          1707.4658333333334,
          1751.26,
          1418.4208333333333,
          1586.2408333333333,
          1330.31125,
          1144.215,
          1223.4770833333334,
          1246.0233333333333,
          1088.3775,
          1777.0058333333334,
          1681.6033333333335,
          1199.2595833333332,
          1337.5125,
          2305.9504166666666,
          1905.5204166666665
         ]
        },
        {
         "mode": "lines+markers",
         "name": "appliances.kitchen.refrigerators",
         "type": "scatter",
         "x": [
          "10월 1일",
          "10월 2일",
          "10월 3일",
          "10월 4일",
          "10월 5일",
          "10월 6일",
          "10월 7일",
          "10월 8일",
          "10월 9일",
          "10월 10일",
          "10월 11일",
          "10월 12일",
          "10월 13일",
          "10월 14일",
          "10월 15일",
          "10월 16일",
          "10월 17일",
          "10월 18일",
          "10월 19일",
          "10월 20일",
          "10월 21일",
          "10월 22일",
          "10월 23일",
          "10월 24일",
          "10월 25일",
          "10월 26일",
          "10월 27일",
          "10월 28일",
          "10월 29일",
          "10월 30일",
          "10월 31일",
          "11월 1일",
          "11월 2일",
          "11월 3일",
          "11월 4일",
          "11월 5일",
          "11월 6일",
          "11월 7일",
          "11월 8일",
          "11월 9일",
          "11월 10일",
          "11월 11일",
          "11월 12일",
          "11월 13일",
          "11월 14일",
          "11월 18일",
          "11월 19일",
          "11월 20일",
          "11월 21일",
          "11월 22일",
          "11월 23일",
          "11월 24일",
          "11월 25일",
          "11월 26일",
          "11월 27일",
          "11월 28일",
          "11월 29일",
          "11월 30일"
         ],
         "y": [
          3915.6699999999996,
          3136.69875,
          3477.2845833333336,
          5880.916249999999,
          5527.572083333333,
          4842.0525,
          4462.815416666667,
          4103.96875,
          4222.745,
          5092.890416666666,
          5919.5216666666665,
          5342.389583333334,
          7683.892500000001,
          7666.334583333333,
          6551.775416666666,
          6550.925416666666,
          6584.493750000001,
          5959.857083333333,
          6326.739166666666,
          5192.465416666667,
          5041.181666666666,
          4798.89,
          5359.8324999999995,
          4433.515833333334,
          4636.7275,
          6125.147916666666,
          5283.574166666666,
          3931.5070833333334,
          4013.6083333333336,
          4755.6033333333335,
          3390.887083333333,
          4516.443749999999,
          3723.195,
          3562.6941666666667,
          4778.25125,
          3392.5087499999995,
          4569.2300000000005,
          4229.7025,
          4471.244166666666,
          3933.7466666666664,
          4116.653333333333,
          3797.3891666666664,
          3736.2658333333334,
          3675.89875,
          4807.934166666667,
          4006.87875,
          3651.550416666667,
          3040.6320833333334,
          3296.19125,
          3138.2116666666666,
          3951.647916666667,
          4030.1091666666666,
          3150.4424999999997,
          3336.235,
          3347.577916666667,
          3428.3116666666665,
          5574.795000000001,
          5616.071666666667
         ]
        },
        {
         "mode": "lines+markers",
         "name": "electronics.video.tv",
         "type": "scatter",
         "x": [
          "10월 1일",
          "10월 2일",
          "10월 3일",
          "10월 4일",
          "10월 5일",
          "10월 6일",
          "10월 7일",
          "10월 8일",
          "10월 9일",
          "10월 10일",
          "10월 11일",
          "10월 12일",
          "10월 13일",
          "10월 14일",
          "10월 15일",
          "10월 16일",
          "10월 17일",
          "10월 18일",
          "10월 19일",
          "10월 20일",
          "10월 21일",
          "10월 22일",
          "10월 23일",
          "10월 24일",
          "10월 25일",
          "10월 26일",
          "10월 27일",
          "10월 28일",
          "10월 29일",
          "10월 30일",
          "10월 31일",
          "11월 1일",
          "11월 2일",
          "11월 3일",
          "11월 4일",
          "11월 5일",
          "11월 6일",
          "11월 7일",
          "11월 8일",
          "11월 9일",
          "11월 10일",
          "11월 11일",
          "11월 12일",
          "11월 13일",
          "11월 14일",
          "11월 18일",
          "11월 19일",
          "11월 20일",
          "11월 21일",
          "11월 22일",
          "11월 23일",
          "11월 24일",
          "11월 25일",
          "11월 26일",
          "11월 27일",
          "11월 28일",
          "11월 29일",
          "11월 30일"
         ],
         "y": [
          9773.259,
          9636.192083333333,
          8901.1,
          13756.448750000001,
          11679.583333333334,
          10754.9425,
          8144.302083333333,
          7802.147916666668,
          8797.952916666667,
          8488.935416666667,
          10124.043333333333,
          12272.53875,
          13206.949999999999,
          14688.415416666665,
          13604.562083333332,
          15267.777916666666,
          13115.832916666666,
          13875.684583333334,
          11992.335833333333,
          13035.574999999999,
          12066.789166666667,
          12166.727916666669,
          12476.205833333333,
          13554.747083333334,
          11884.711666666668,
          11315.61875,
          12181.002916666666,
          9364.287916666666,
          9347.182083333333,
          9444.87875,
          9761.8775,
          9974.018750000001,
          10869.88875,
          10660.4975,
          10722.49625,
          10707.9025,
          10526.754166666668,
          11268.274583333332,
          13035.537083333335,
          13337.995833333334,
          12066.307083333333,
          12621.371666666666,
          11046.127083333333,
          11987.744166666665,
          10768.565833333332,
          12887.027083333334,
          10974.175833333333,
          11017.293749999999,
          10989.303333333331,
          10051.993333333334,
          11169.239583333334,
          11331.988333333333,
          10820.086666666666,
          11275.211666666668,
          11595.017083333332,
          11759.642916666666,
          21087.689583333333,
          17270.312916666666
         ]
        },
        {
         "mode": "lines+markers",
         "name": "appliances.kitchen.washer",
         "type": "scatter",
         "x": [
          "10월 1일",
          "10월 2일",
          "10월 3일",
          "10월 4일",
          "10월 5일",
          "10월 6일",
          "10월 7일",
          "10월 8일",
          "10월 9일",
          "10월 10일",
          "10월 11일",
          "10월 12일",
          "10월 13일",
          "10월 14일",
          "10월 15일",
          "10월 16일",
          "10월 17일",
          "10월 18일",
          "10월 19일",
          "10월 20일",
          "10월 21일",
          "10월 22일",
          "10월 23일",
          "10월 24일",
          "10월 25일",
          "10월 26일",
          "10월 27일",
          "10월 28일",
          "10월 29일",
          "10월 30일",
          "10월 31일",
          "11월 1일",
          "11월 2일",
          "11월 3일",
          "11월 4일",
          "11월 5일",
          "11월 6일",
          "11월 7일",
          "11월 8일",
          "11월 9일",
          "11월 10일",
          "11월 11일",
          "11월 12일",
          "11월 13일",
          "11월 14일",
          "11월 18일",
          "11월 19일",
          "11월 20일",
          "11월 21일",
          "11월 22일",
          "11월 23일",
          "11월 24일",
          "11월 25일",
          "11월 26일",
          "11월 27일",
          "11월 28일",
          "11월 29일",
          "11월 30일"
         ],
         "y": [
          4377.279,
          3977.8937499999997,
          4064.3754166666663,
          8936.76125,
          7040.724583333333,
          7407.155833333333,
          4490.04125,
          4745.494583333333,
          4496.971666666667,
          4623.906666666667,
          5139.244166666666,
          5743.899583333333,
          7634.634999999999,
          8658.801666666666,
          7894.62125,
          8239.278333333334,
          7583.496666666667,
          6911.936666666667,
          7219.891666666666,
          7792.877916666667,
          6886.469166666667,
          7033.700833333333,
          7177.045416666667,
          6775.263333333333,
          6571.789583333332,
          7571.141666666666,
          7319.038333333334,
          4843.4070833333335,
          4529.002083333334,
          4615.46125,
          4487.994583333333,
          4849.470833333334,
          4893.459583333333,
          5126.470416666666,
          6238.809166666667,
          5721.904583333333,
          5942.421249999999,
          5534.4158333333335,
          6158.96625,
          5932.31,
          6197.608749999999,
          4924.824166666666,
          5815.874166666667,
          5195.705,
          5702.617916666667,
          6205.740833333333,
          4902.503333333333,
          4884.612916666666,
          4591.0824999999995,
          5251.884166666667,
          5125.935833333334,
          5243.935,
          4952.7825,
          4656.33875,
          5160.712916666666,
          4458.78125,
          6862.6970833333335,
          5769.96875
         ]
        }
       ],
       "layout": {
        "autosize": false,
        "height": 450,
        "template": {
         "data": {
          "bar": [
           {
            "error_x": {
             "color": "#2a3f5f"
            },
            "error_y": {
             "color": "#2a3f5f"
            },
            "marker": {
             "line": {
              "color": "#E5ECF6",
              "width": 0.5
             },
             "pattern": {
              "fillmode": "overlay",
              "size": 10,
              "solidity": 0.2
             }
            },
            "type": "bar"
           }
          ],
          "barpolar": [
           {
            "marker": {
             "line": {
              "color": "#E5ECF6",
              "width": 0.5
             },
             "pattern": {
              "fillmode": "overlay",
              "size": 10,
              "solidity": 0.2
             }
            },
            "type": "barpolar"
           }
          ],
          "carpet": [
           {
            "aaxis": {
             "endlinecolor": "#2a3f5f",
             "gridcolor": "white",
             "linecolor": "white",
             "minorgridcolor": "white",
             "startlinecolor": "#2a3f5f"
            },
            "baxis": {
             "endlinecolor": "#2a3f5f",
             "gridcolor": "white",
             "linecolor": "white",
             "minorgridcolor": "white",
             "startlinecolor": "#2a3f5f"
            },
            "type": "carpet"
           }
          ],
          "choropleth": [
           {
            "colorbar": {
             "outlinewidth": 0,
             "ticks": ""
            },
            "type": "choropleth"
           }
          ],
          "contour": [
           {
            "colorbar": {
             "outlinewidth": 0,
             "ticks": ""
            },
            "colorscale": [
             [
              0,
              "#0d0887"
             ],
             [
              0.1111111111111111,
              "#46039f"
             ],
             [
              0.2222222222222222,
              "#7201a8"
             ],
             [
              0.3333333333333333,
              "#9c179e"
             ],
             [
              0.4444444444444444,
              "#bd3786"
             ],
             [
              0.5555555555555556,
              "#d8576b"
             ],
             [
              0.6666666666666666,
              "#ed7953"
             ],
             [
              0.7777777777777778,
              "#fb9f3a"
             ],
             [
              0.8888888888888888,
              "#fdca26"
             ],
             [
              1,
              "#f0f921"
             ]
            ],
            "type": "contour"
           }
          ],
          "contourcarpet": [
           {
            "colorbar": {
             "outlinewidth": 0,
             "ticks": ""
            },
            "type": "contourcarpet"
           }
          ],
          "heatmap": [
           {
            "colorbar": {
             "outlinewidth": 0,
             "ticks": ""
            },
            "colorscale": [
             [
              0,
              "#0d0887"
             ],
             [
              0.1111111111111111,
              "#46039f"
             ],
             [
              0.2222222222222222,
              "#7201a8"
             ],
             [
              0.3333333333333333,
              "#9c179e"
             ],
             [
              0.4444444444444444,
              "#bd3786"
             ],
             [
              0.5555555555555556,
              "#d8576b"
             ],
             [
              0.6666666666666666,
              "#ed7953"
             ],
             [
              0.7777777777777778,
              "#fb9f3a"
             ],
             [
              0.8888888888888888,
              "#fdca26"
             ],
             [
              1,
              "#f0f921"
             ]
            ],
            "type": "heatmap"
           }
          ],
          "heatmapgl": [
           {
            "colorbar": {
             "outlinewidth": 0,
             "ticks": ""
            },
            "colorscale": [
             [
              0,
              "#0d0887"
             ],
             [
              0.1111111111111111,
              "#46039f"
             ],
             [
              0.2222222222222222,
              "#7201a8"
             ],
             [
              0.3333333333333333,
              "#9c179e"
             ],
             [
              0.4444444444444444,
              "#bd3786"
             ],
             [
              0.5555555555555556,
              "#d8576b"
             ],
             [
              0.6666666666666666,
              "#ed7953"
             ],
             [
              0.7777777777777778,
              "#fb9f3a"
             ],
             [
              0.8888888888888888,
              "#fdca26"
             ],
             [
              1,
              "#f0f921"
             ]
            ],
            "type": "heatmapgl"
           }
          ],
          "histogram": [
           {
            "marker": {
             "pattern": {
              "fillmode": "overlay",
              "size": 10,
              "solidity": 0.2
             }
            },
            "type": "histogram"
           }
          ],
          "histogram2d": [
           {
            "colorbar": {
             "outlinewidth": 0,
             "ticks": ""
            },
            "colorscale": [
             [
              0,
              "#0d0887"
             ],
             [
              0.1111111111111111,
              "#46039f"
             ],
             [
              0.2222222222222222,
              "#7201a8"
             ],
             [
              0.3333333333333333,
              "#9c179e"
             ],
             [
              0.4444444444444444,
              "#bd3786"
             ],
             [
              0.5555555555555556,
              "#d8576b"
             ],
             [
              0.6666666666666666,
              "#ed7953"
             ],
             [
              0.7777777777777778,
              "#fb9f3a"
             ],
             [
              0.8888888888888888,
              "#fdca26"
             ],
             [
              1,
              "#f0f921"
             ]
            ],
            "type": "histogram2d"
           }
          ],
          "histogram2dcontour": [
           {
            "colorbar": {
             "outlinewidth": 0,
             "ticks": ""
            },
            "colorscale": [
             [
              0,
              "#0d0887"
             ],
             [
              0.1111111111111111,
              "#46039f"
             ],
             [
              0.2222222222222222,
              "#7201a8"
             ],
             [
              0.3333333333333333,
              "#9c179e"
             ],
             [
              0.4444444444444444,
              "#bd3786"
             ],
             [
              0.5555555555555556,
              "#d8576b"
             ],
             [
              0.6666666666666666,
              "#ed7953"
             ],
             [
              0.7777777777777778,
              "#fb9f3a"
             ],
             [
              0.8888888888888888,
              "#fdca26"
             ],
             [
              1,
              "#f0f921"
             ]
            ],
            "type": "histogram2dcontour"
           }
          ],
          "mesh3d": [
           {
            "colorbar": {
             "outlinewidth": 0,
             "ticks": ""
            },
            "type": "mesh3d"
           }
          ],
          "parcoords": [
           {
            "line": {
             "colorbar": {
              "outlinewidth": 0,
              "ticks": ""
             }
            },
            "type": "parcoords"
           }
          ],
          "pie": [
           {
            "automargin": true,
            "type": "pie"
           }
          ],
          "scatter": [
           {
            "marker": {
             "colorbar": {
              "outlinewidth": 0,
              "ticks": ""
             }
            },
            "type": "scatter"
           }
          ],
          "scatter3d": [
           {
            "line": {
             "colorbar": {
              "outlinewidth": 0,
              "ticks": ""
             }
            },
            "marker": {
             "colorbar": {
              "outlinewidth": 0,
              "ticks": ""
             }
            },
            "type": "scatter3d"
           }
          ],
          "scattercarpet": [
           {
            "marker": {
             "colorbar": {
              "outlinewidth": 0,
              "ticks": ""
             }
            },
            "type": "scattercarpet"
           }
          ],
          "scattergeo": [
           {
            "marker": {
             "colorbar": {
              "outlinewidth": 0,
              "ticks": ""
             }
            },
            "type": "scattergeo"
           }
          ],
          "scattergl": [
           {
            "marker": {
             "colorbar": {
              "outlinewidth": 0,
              "ticks": ""
             }
            },
            "type": "scattergl"
           }
          ],
          "scattermapbox": [
           {
            "marker": {
             "colorbar": {
              "outlinewidth": 0,
              "ticks": ""
             }
            },
            "type": "scattermapbox"
           }
          ],
          "scatterpolar": [
           {
            "marker": {
             "colorbar": {
              "outlinewidth": 0,
              "ticks": ""
             }
            },
            "type": "scatterpolar"
           }
          ],
          "scatterpolargl": [
           {
            "marker": {
             "colorbar": {
              "outlinewidth": 0,
              "ticks": ""
             }
            },
            "type": "scatterpolargl"
           }
          ],
          "scatterternary": [
           {
            "marker": {
             "colorbar": {
              "outlinewidth": 0,
              "ticks": ""
             }
            },
            "type": "scatterternary"
           }
          ],
          "surface": [
           {
            "colorbar": {
             "outlinewidth": 0,
             "ticks": ""
            },
            "colorscale": [
             [
              0,
              "#0d0887"
             ],
             [
              0.1111111111111111,
              "#46039f"
             ],
             [
              0.2222222222222222,
              "#7201a8"
             ],
             [
              0.3333333333333333,
              "#9c179e"
             ],
             [
              0.4444444444444444,
              "#bd3786"
             ],
             [
              0.5555555555555556,
              "#d8576b"
             ],
             [
              0.6666666666666666,
              "#ed7953"
             ],
             [
              0.7777777777777778,
              "#fb9f3a"
             ],
             [
              0.8888888888888888,
              "#fdca26"
             ],
             [
              1,
              "#f0f921"
             ]
            ],
            "type": "surface"
           }
          ],
          "table": [
           {
            "cells": {
             "fill": {
              "color": "#EBF0F8"
             },
             "line": {
              "color": "white"
             }
            },
            "header": {
             "fill": {
              "color": "#C8D4E3"
             },
             "line": {
              "color": "white"
             }
            },
            "type": "table"
           }
          ]
         },
         "layout": {
          "annotationdefaults": {
           "arrowcolor": "#2a3f5f",
           "arrowhead": 0,
           "arrowwidth": 1
          },
          "autotypenumbers": "strict",
          "coloraxis": {
           "colorbar": {
            "outlinewidth": 0,
            "ticks": ""
           }
          },
          "colorscale": {
           "diverging": [
            [
             0,
             "#8e0152"
            ],
            [
             0.1,
             "#c51b7d"
            ],
            [
             0.2,
             "#de77ae"
            ],
            [
             0.3,
             "#f1b6da"
            ],
            [
             0.4,
             "#fde0ef"
            ],
            [
             0.5,
             "#f7f7f7"
            ],
            [
             0.6,
             "#e6f5d0"
            ],
            [
             0.7,
             "#b8e186"
            ],
            [
             0.8,
             "#7fbc41"
            ],
            [
             0.9,
             "#4d9221"
            ],
            [
             1,
             "#276419"
            ]
           ],
           "sequential": [
            [
             0,
             "#0d0887"
            ],
            [
             0.1111111111111111,
             "#46039f"
            ],
            [
             0.2222222222222222,
             "#7201a8"
            ],
            [
             0.3333333333333333,
             "#9c179e"
            ],
            [
             0.4444444444444444,
             "#bd3786"
            ],
            [
             0.5555555555555556,
             "#d8576b"
            ],
            [
             0.6666666666666666,
             "#ed7953"
            ],
            [
             0.7777777777777778,
             "#fb9f3a"
            ],
            [
             0.8888888888888888,
             "#fdca26"
            ],
            [
             1,
             "#f0f921"
            ]
           ],
           "sequentialminus": [
            [
             0,
             "#0d0887"
            ],
            [
             0.1111111111111111,
             "#46039f"
            ],
            [
             0.2222222222222222,
             "#7201a8"
            ],
            [
             0.3333333333333333,
             "#9c179e"
            ],
            [
             0.4444444444444444,
             "#bd3786"
            ],
            [
             0.5555555555555556,
             "#d8576b"
            ],
            [
             0.6666666666666666,
             "#ed7953"
            ],
            [
             0.7777777777777778,
             "#fb9f3a"
            ],
            [
             0.8888888888888888,
             "#fdca26"
            ],
            [
             1,
             "#f0f921"
            ]
           ]
          },
          "colorway": [
           "#636efa",
           "#EF553B",
           "#00cc96",
           "#ab63fa",
           "#FFA15A",
           "#19d3f3",
           "#FF6692",
           "#B6E880",
           "#FF97FF",
           "#FECB52"
          ],
          "font": {
           "color": "#2a3f5f"
          },
          "geo": {
           "bgcolor": "white",
           "lakecolor": "white",
           "landcolor": "#E5ECF6",
           "showlakes": true,
           "showland": true,
           "subunitcolor": "white"
          },
          "hoverlabel": {
           "align": "left"
          },
          "hovermode": "closest",
          "mapbox": {
           "style": "light"
          },
          "paper_bgcolor": "white",
          "plot_bgcolor": "#E5ECF6",
          "polar": {
           "angularaxis": {
            "gridcolor": "white",
            "linecolor": "white",
            "ticks": ""
           },
           "bgcolor": "#E5ECF6",
           "radialaxis": {
            "gridcolor": "white",
            "linecolor": "white",
            "ticks": ""
           }
          },
          "scene": {
           "xaxis": {
            "backgroundcolor": "#E5ECF6",
            "gridcolor": "white",
            "gridwidth": 2,
            "linecolor": "white",
            "showbackground": true,
            "ticks": "",
            "zerolinecolor": "white"
           },
           "yaxis": {
            "backgroundcolor": "#E5ECF6",
            "gridcolor": "white",
            "gridwidth": 2,
            "linecolor": "white",
            "showbackground": true,
            "ticks": "",
            "zerolinecolor": "white"
           },
           "zaxis": {
            "backgroundcolor": "#E5ECF6",
            "gridcolor": "white",
            "gridwidth": 2,
            "linecolor": "white",
            "showbackground": true,
            "ticks": "",
            "zerolinecolor": "white"
           }
          },
          "shapedefaults": {
           "line": {
            "color": "#2a3f5f"
           }
          },
          "ternary": {
           "aaxis": {
            "gridcolor": "white",
            "linecolor": "white",
            "ticks": ""
           },
           "baxis": {
            "gridcolor": "white",
            "linecolor": "white",
            "ticks": ""
           },
           "bgcolor": "#E5ECF6",
           "caxis": {
            "gridcolor": "white",
            "linecolor": "white",
            "ticks": ""
           }
          },
          "title": {
           "x": 0.05
          },
          "xaxis": {
           "automargin": true,
           "gridcolor": "white",
           "linecolor": "white",
           "ticks": "",
           "title": {
            "standoff": 15
           },
           "zerolinecolor": "white",
           "zerolinewidth": 2
          },
          "yaxis": {
           "automargin": true,
           "gridcolor": "white",
           "linecolor": "white",
           "ticks": "",
           "title": {
            "standoff": 15
           },
           "zerolinecolor": "white",
           "zerolinewidth": 2
          }
         }
        },
        "title": {
         "text": "일별 시간당 매출액"
        },
        "width": 900
       }
      }
     },
     "metadata": {},
     "output_type": "display_data"
    }
   ],
   "source": [
    "# 11월 16일과 17일은 어떤 행사나 다른 요인이 있을것으로 추정됨 분석에서 제거\n",
    "drop_index = df[(df[\"month\"] == 11) & (df[\"day\"] == 16)].index\n",
    "df = df.drop(drop_index)\n",
    "df = df.reset_index(drop=True)\n",
    "drop_index = df[(df[\"month\"] == 11) & (df[\"day\"] == 17)].index\n",
    "df = df.drop(drop_index)\n",
    "df = df.reset_index(drop=True)\n",
    "\n",
    "# 제거후 다시 시각화\n",
    "temp_df = df.groupby([\"month\", \"day\"]).mean()\n",
    "temp_df = pd.concat([temp_df[\"total_sales\"], temp_df.iloc[:,21:32]],axis=1)\n",
    "temp_df.reset_index(inplace=True)\n",
    "temp_df[\"time\"] = list(zip(temp_df[\"month\"], temp_df[\"day\"]))\n",
    "temp_df[\"time\"] = temp_df[\"time\"].apply(lambda x : f\"{x[0]}월 {x[1]}일\")\n",
    "columns = temp_df.columns.to_list()\n",
    "columns.insert(0, columns.pop())\n",
    "columns.remove(\"month\")\n",
    "columns.remove(\"day\")\n",
    "temp_df = temp_df[columns]\n",
    "temp_df = temp_df.set_index(\"time\")\n",
    "fig = go.Figure()\n",
    "for category in temp_df.columns:\n",
    "    fig.add_trace(go.Scatter(y=temp_df[category],\n",
    "                            x=temp_df.index,\n",
    "                            mode='lines+markers', \n",
    "                            name=f\"{category.split('_')[-1]}\"))                                                                                 \n",
    "fig.update_layout(\n",
    "    autosize=False,\n",
    "    title = \"일별 시간당 매출액\",\n",
    "    width=900,\n",
    "    height=450,)\n",
    "fig.show()"
   ]
  },
  {
   "cell_type": "markdown",
   "metadata": {},
   "source": [
    "## 주요지표별로 월, 시간 등등 다양하게 접근\n",
    "### 시간당, 접속유저수, 접속대비결제유저의 비율, 매출액, 결제횟수\n",
    "\n",
    "### 시간당 접속유저수의 평균은 시간에 따라 차이가 있는가?"
   ]
  },
  {
   "cell_type": "code",
   "execution_count": 12,
   "metadata": {},
   "outputs": [
    {
     "name": "stdout",
     "output_type": "stream",
     "text": [
      "month에 따른 no_of_total_user의 평균차\n"
     ]
    },
    {
     "data": {
      "image/png": "[encoded data removed]",
      "text/plain": [
       "<Figure size 432x288 with 1 Axes>"
      ]
     },
     "metadata": {
      "needs_background": "light"
     },
     "output_type": "display_data"
    },
    {
     "name": "stdout",
     "output_type": "stream",
     "text": [
      "사용한 가설검정 : 독립표본 T 검정 이분산\n",
      "유의확률 = 3.341703572299305e-18\n"
     ]
    },
    {
     "data": {
      "text/plain": [
       "3.341703572299305e-18"
      ]
     },
     "execution_count": 12,
     "metadata": {},
     "output_type": "execute_result"
    }
   ],
   "source": [
    "# 월별로 두 집단의 위치모수 검정\n",
    "target = \"no_of_total_user\"\n",
    "two_sample_test(\"month\", target, df, \"two-sided\", 1)\n",
    "\n",
    "# 월에 따라 시간당 접속유저수의 평균의 차이가 있다"
   ]
  },
  {
   "cell_type": "code",
   "execution_count": 13,
   "metadata": {},
   "outputs": [
    {
     "name": "stdout",
     "output_type": "stream",
     "text": [
      "                            OLS Regression Results                            \n",
      "==============================================================================\n",
      "Dep. Variable:       no_of_total_user   R-squared:                       0.000\n",
      "Model:                            OLS   Adj. R-squared:                 -0.001\n",
      "Method:                 Least Squares   F-statistic:                 0.0001290\n",
      "Date:                Fri, 20 May 2022   Prob (F-statistic):              0.991\n",
      "Time:                        17:01:08   Log-Likelihood:                -14296.\n",
      "No. Observations:                1388   AIC:                         2.860e+04\n",
      "Df Residuals:                    1386   BIC:                         2.861e+04\n",
      "Df Model:                           1                                         \n",
      "Covariance Type:            nonrobust                                         \n",
      "==============================================================================\n",
      "                 coef    std err          t      P>|t|      [0.025      0.975]\n",
      "------------------------------------------------------------------------------\n",
      "Intercept   1.303e+04    389.863     33.416      0.000    1.23e+04    1.38e+04\n",
      "day            0.2437     21.452      0.011      0.991     -41.839      42.326\n",
      "==============================================================================\n",
      "Omnibus:                      312.508   Durbin-Watson:                   0.121\n",
      "Prob(Omnibus):                  0.000   Jarque-Bera (JB):               70.695\n",
      "Skew:                          -0.238   Prob(JB):                     4.45e-16\n",
      "Kurtosis:                       2.002   Cond. No.                         36.7\n",
      "==============================================================================\n",
      "\n",
      "Notes:\n",
      "[1] Standard Errors assume that the covariance matrix of the errors is correctly specified.\n"
     ]
    },
    {
     "data": {
      "image/png": "[encoded data removed]",
      "text/plain": [
       "<Figure size 432x288 with 1 Axes>"
      ]
     },
     "metadata": {
      "needs_background": "light"
     },
     "output_type": "display_data"
    }
   ],
   "source": [
    "# 날자별로 산점도 추세확인\n",
    "df[\"time_days\"] = df[\"time\"].apply(lambda x : (x - df[\"time\"][0]).days)\n",
    "temp_df = df.groupby(\"day\").mean()\n",
    "sns.regplot(y=temp_df[target], x=temp_df.index)\n",
    "model = sm.OLS.from_formula(target + \"~\" + \"day\", data = df)\n",
    "result = model.fit()\n",
    "print(result.summary())\n",
    "\n",
    "# 날자에 따라 시간당 평균 접속 유저수는 선형적인 추세가 나타나지 않는다"
   ]
  },
  {
   "cell_type": "code",
   "execution_count": 14,
   "metadata": {},
   "outputs": [
    {
     "name": "stdout",
     "output_type": "stream",
     "text": [
      "specific_time_category에 따른 no_of_total_user의 평균차\n"
     ]
    },
    {
     "data": {
      "image/png": "[encoded data removed]",
      "text/plain": [
       "<Figure size 432x288 with 1 Axes>"
      ]
     },
     "metadata": {
      "needs_background": "light"
     },
     "output_type": "display_data"
    },
    {
     "name": "stdout",
     "output_type": "stream",
     "text": [
      "정규성 확인완료 등분산검정 실시\n",
      "이분산이 나타난다 welch anova 실시\n",
      "유의확률 = 4.5323096897551695e-207 분산분석의 귀무가설 기각, 다중비교 실시\n",
      "       Multiple Comparison of Means - Tukey HSD, FWER=0.05        \n",
      "==================================================================\n",
      "  group1   group2   meandiff  p-adj    lower       upper    reject\n",
      "------------------------------------------------------------------\n",
      "afternoon bedtime -12953.7066  0.001 -13871.221 -12036.1922   True\n",
      "afternoon evening    979.1322 0.1185  -155.3583   2113.6226  False\n",
      "afternoon morning  -6467.2435  0.001 -7318.1114  -5616.3757   True\n",
      "  bedtime evening  13932.8388  0.001 12768.0813  15097.5963   True\n",
      "  bedtime morning   6486.4631  0.001   5595.639   7377.2872   True\n",
      "  evening morning  -7446.3757  0.001 -8559.3912  -6333.3602   True\n",
      "------------------------------------------------------------------\n"
     ]
    }
   ],
   "source": [
    "# 시간대별로 분산분석\n",
    "ANOVA(\"specific_time_category\", target, df, 1, 0)\n",
    "\n",
    "# 시간대에 따라 시간당 접속 유저수의 평균은 모두 같지는 않다\n",
    "# afternoon 과 evening 은 다르지 않다"
   ]
  },
  {
   "cell_type": "code",
   "execution_count": 15,
   "metadata": {},
   "outputs": [
    {
     "name": "stdout",
     "output_type": "stream",
     "text": [
      "hour에 따른 no_of_total_user의 평균차\n"
     ]
    },
    {
     "data": {
      "image/png": "[encoded data removed]",
      "text/plain": [
       "<Figure size 432x288 with 1 Axes>"
      ]
     },
     "metadata": {
      "needs_background": "light"
     },
     "output_type": "display_data"
    },
    {
     "name": "stdout",
     "output_type": "stream",
     "text": [
      "정규성 확인완료 등분산검정 실시\n",
      "등분산 확인완료 분산분석 실시\n",
      "유의확률 = 5.849528650402992e-10 분산분석의 귀무가설 기각, 다중비교 실시\n",
      "    Multiple Comparison of Means - Tukey HSD, FWER=0.05     \n",
      "============================================================\n",
      "group1 group2  meandiff  p-adj    lower      upper    reject\n",
      "------------------------------------------------------------\n",
      "    12     13  -474.3448    0.9 -2489.8969  1541.2072  False\n",
      "    12     14  -998.8276 0.8459 -3014.3796  1016.7244  False\n",
      "    12     15 -1533.6552 0.3177 -3549.2072   481.8969  False\n",
      "    12     16 -1637.1379 0.2297   -3652.69   378.4141  False\n",
      "    12     17  -290.2586    0.9 -2305.8106  1725.2934  False\n",
      "    12     18  1220.7241  0.632  -794.8279  3236.2762  False\n",
      "    12     19  1716.4483 0.1744  -299.1038  3732.0003  False\n",
      "    12     20   995.6034  0.849 -1019.9486  3011.1555  False\n",
      "    12     21 -1366.1552 0.4915 -3381.7072   649.3969  False\n",
      "    13     14  -524.4828    0.9 -2540.0348  1491.0693  False\n",
      "    13     15 -1059.3103 0.7876 -3074.8624   956.2417  False\n",
      "    13     16 -1162.7931 0.6878 -3178.3451   852.7589  False\n",
      "    13     17   184.0862    0.9 -1831.4658  2199.6382  False\n",
      "    13     18   1695.069 0.1878  -320.4831   3710.621  False\n",
      "    13     19  2190.7931  0.021   175.2411  4206.3451   True\n",
      "    13     20  1469.9483  0.382  -545.6038  3485.5003  False\n",
      "    13     21  -891.8103    0.9 -2907.3624  1123.7417  False\n",
      "    14     15  -534.8276    0.9 -2550.3796  1480.7244  False\n",
      "    14     16  -638.3103    0.9 -2653.8624  1377.2417  False\n",
      "    14     17    708.569    0.9 -1306.9831   2724.121  False\n",
      "    14     18  2219.5517  0.018   203.9997  4235.1038   True\n",
      "    14     19  2715.2759  0.001   699.7238  4730.8279   True\n",
      "    14     20   1994.431 0.0552    -21.121  4009.9831  False\n",
      "    14     21  -367.3276    0.9 -2382.8796  1648.2244  False\n",
      "    15     16  -103.4828    0.9 -2119.0348  1912.0693  False\n",
      "    15     17  1243.3966 0.6101  -772.1555  3258.9486  False\n",
      "    15     18  2754.3793  0.001   738.8273  4769.9313   True\n",
      "    15     19  3250.1034  0.001  1234.5514  5265.6555   True\n",
      "    15     20  2529.2586  0.003   513.7066  4544.8106   True\n",
      "    15     21      167.5    0.9  -1848.052   2183.052  False\n",
      "    16     17  1346.8793 0.5104  -668.6727  3362.4313  False\n",
      "    16     18  2857.8621  0.001     842.31  4873.4141   True\n",
      "    16     19  3353.5862  0.001  1338.0342  5369.1382   True\n",
      "    16     20  2632.7414 0.0016   617.1894  4648.2934   True\n",
      "    16     21   270.9828    0.9 -1744.5693  2286.5348  False\n",
      "    17     18  1510.9828 0.3395  -504.5693  3526.5348  False\n",
      "    17     19  2006.7069 0.0521    -8.8451  4022.2589  False\n",
      "    17     20  1285.8621 0.5692    -729.69  3301.4141  False\n",
      "    17     21 -1075.8966 0.7716 -3091.4486   939.6555  False\n",
      "    18     19   495.7241    0.9 -1519.8279  2511.2762  False\n",
      "    18     20  -225.1207    0.9 -2240.6727  1790.4313  False\n",
      "    18     21 -2586.8793 0.0021 -4602.4313  -571.3273   True\n",
      "    19     20  -720.8448    0.9 -2736.3969  1294.7072  False\n",
      "    19     21 -3082.6034  0.001 -5098.1555 -1067.0514   True\n",
      "    20     21 -2361.7586 0.0082 -4377.3106  -346.2066   True\n",
      "------------------------------------------------------------\n"
     ]
    }
   ],
   "source": [
    "# 시간별로 분산분석\n",
    "# 유의하지 않은 afternoon 과 evening만 확인하도록한다\n",
    "ANOVA(\"hour\", target, df[(df[\"specific_time_category\"] == \"afternoon\") | (df[\"specific_time_category\"] == \"evening\")], 1, 0)\n",
    "\n",
    "# 시간에 따라 시간당 접속 유저수의 평균은 모두 같지는 않다\n",
    "# 17, 18, 19, 20 시는 서로 다르지 않다.\n",
    "# 17시 ~ 20시가 접속 유저수가 가장 많다."
   ]
  },
  {
   "cell_type": "code",
   "execution_count": 16,
   "metadata": {},
   "outputs": [
    {
     "name": "stdout",
     "output_type": "stream",
     "text": [
      "week_day에 따른 no_of_total_user의 평균차\n"
     ]
    },
    {
     "data": {
      "image/png": "[encoded data removed]",
      "text/plain": [
       "<Figure size 432x288 with 1 Axes>"
      ]
     },
     "metadata": {
      "needs_background": "light"
     },
     "output_type": "display_data"
    },
    {
     "name": "stdout",
     "output_type": "stream",
     "text": [
      "정규성 확인완료 등분산검정 실시\n",
      "등분산 확인완료 분산분석 실시\n",
      "유의확률 = 0.8294899254756609분산분석의 귀무가설 기각불가능, week_day별로 평균의 차이가 없다\n"
     ]
    }
   ],
   "source": [
    "# 요일로 분산분석\n",
    "ANOVA(\"week_day\", target, df, 0, 0)\n",
    "\n",
    "# 요일별로 시간당 접속유저수의 평균은 모두 같다."
   ]
  },
  {
   "cell_type": "markdown",
   "metadata": {},
   "source": [
    "### 시간에 따라 시간당 접속유저수 대비 결제유저수의 비율의 평균은 차이가 있는가"
   ]
  },
  {
   "cell_type": "code",
   "execution_count": 17,
   "metadata": {},
   "outputs": [
    {
     "name": "stdout",
     "output_type": "stream",
     "text": [
      "month에 따른 no_of_view_to_purchase_user의 평균차\n"
     ]
    },
    {
     "data": {
      "image/png": "[encoded data removed]",
      "text/plain": [
       "<Figure size 432x288 with 1 Axes>"
      ]
     },
     "metadata": {
      "needs_background": "light"
     },
     "output_type": "display_data"
    },
    {
     "name": "stdout",
     "output_type": "stream",
     "text": [
      "사용한 가설검정 : 독립표본 T 검정 이분산\n",
      "유의확률 = 8.541031887675267e-46\n"
     ]
    },
    {
     "data": {
      "text/plain": [
       "8.541031887675267e-46"
      ]
     },
     "execution_count": 17,
     "metadata": {},
     "output_type": "execute_result"
    }
   ],
   "source": [
    "# 월별로 두 집단의 위치모수 검정\n",
    "target = \"no_of_view_to_purchase_user\"\n",
    "two_sample_test(\"month\", target, df, \"two-sided\", 1)\n",
    "\n",
    "# 월에 따라 시간당 접속유저수 대비 결제유저수의 비율의 평균의 차이가 있다."
   ]
  },
  {
   "cell_type": "code",
   "execution_count": 18,
   "metadata": {},
   "outputs": [
    {
     "name": "stdout",
     "output_type": "stream",
     "text": [
      "                                 OLS Regression Results                                \n",
      "=======================================================================================\n",
      "Dep. Variable:     no_of_view_to_purchase_user   R-squared:                       0.001\n",
      "Model:                                     OLS   Adj. R-squared:                  0.000\n",
      "Method:                          Least Squares   F-statistic:                     1.201\n",
      "Date:                         Fri, 20 May 2022   Prob (F-statistic):              0.273\n",
      "Time:                                 17:01:10   Log-Likelihood:                 3689.7\n",
      "No. Observations:                         1388   AIC:                            -7375.\n",
      "Df Residuals:                             1386   BIC:                            -7365.\n",
      "Df Model:                                    1                                         \n",
      "Covariance Type:                     nonrobust                                         \n",
      "==============================================================================\n",
      "                 coef    std err          t      P>|t|      [0.025      0.975]\n",
      "------------------------------------------------------------------------------\n",
      "Intercept      0.0597      0.001     64.961      0.000       0.058       0.061\n",
      "day          5.54e-05   5.06e-05      1.096      0.273   -4.38e-05       0.000\n",
      "==============================================================================\n",
      "Omnibus:                       19.649   Durbin-Watson:                   0.301\n",
      "Prob(Omnibus):                  0.000   Jarque-Bera (JB):               14.563\n",
      "Skew:                           0.148   Prob(JB):                     0.000688\n",
      "Kurtosis:                       2.594   Cond. No.                         36.7\n",
      "==============================================================================\n",
      "\n",
      "Notes:\n",
      "[1] Standard Errors assume that the covariance matrix of the errors is correctly specified.\n"
     ]
    },
    {
     "data": {
      "image/png": "[encoded data removed]",
      "text/plain": [
       "<Figure size 432x288 with 1 Axes>"
      ]
     },
     "metadata": {
      "needs_background": "light"
     },
     "output_type": "display_data"
    }
   ],
   "source": [
    "# 날자별로 산점도 추세확인\n",
    "temp_df = df.groupby(\"day\").mean()\n",
    "sns.regplot(y=temp_df[target], x=temp_df.index)\n",
    "model = sm.OLS.from_formula(target + \"~\" + \"day\", data = df)\n",
    "result = model.fit()\n",
    "print(result.summary())\n",
    "\n",
    "# 날자에 따라 시간당 접속유저수 대비 결제유저수의 비율의 평균은 선형적인 추세가 나타나지 않는다"
   ]
  },
  {
   "cell_type": "code",
   "execution_count": 19,
   "metadata": {},
   "outputs": [
    {
     "name": "stdout",
     "output_type": "stream",
     "text": [
      "specific_time_category에 따른 no_of_view_to_purchase_user의 평균차\n"
     ]
    },
    {
     "data": {
      "image/png": "[encoded data removed]",
      "text/plain": [
       "<Figure size 432x288 with 1 Axes>"
      ]
     },
     "metadata": {
      "needs_background": "light"
     },
     "output_type": "display_data"
    },
    {
     "name": "stdout",
     "output_type": "stream",
     "text": [
      "정규성 확인완료 등분산검정 실시\n",
      "이분산이 나타난다 welch anova 실시\n",
      "유의확률 = 4.830275314495226e-83 분산분석의 귀무가설 기각, 다중비교 실시\n",
      "  Multiple Comparison of Means - Tukey HSD, FWER=0.05  \n",
      "=======================================================\n",
      "  group1   group2 meandiff p-adj  lower   upper  reject\n",
      "-------------------------------------------------------\n",
      "afternoon bedtime  -0.0134 0.001 -0.0164 -0.0105   True\n",
      "afternoon evening  -0.0201 0.001 -0.0237 -0.0164   True\n",
      "afternoon morning  -0.0083 0.001 -0.0111 -0.0056   True\n",
      "  bedtime evening  -0.0066 0.001 -0.0104 -0.0029   True\n",
      "  bedtime morning   0.0051 0.001  0.0022  0.0079   True\n",
      "  evening morning   0.0117 0.001  0.0081  0.0153   True\n",
      "-------------------------------------------------------\n"
     ]
    }
   ],
   "source": [
    "# 시간대별로 분산분석\n",
    "ANOVA(\"specific_time_category\", target, df, 1, 0)\n",
    "\n",
    "# 시간대에 따라 시간당 접속 유저수 대비 결제 유저수 비율의 평균은 모두 같지는 않다.\n",
    "# 모두 다르게 나타난다"
   ]
  },
  {
   "cell_type": "code",
   "execution_count": 20,
   "metadata": {},
   "outputs": [
    {
     "name": "stdout",
     "output_type": "stream",
     "text": [
      "hour에 따른 no_of_view_to_purchase_user의 평균차\n"
     ]
    },
    {
     "data": {
      "image/png": "[encoded data removed]",
      "text/plain": [
       "<Figure size 432x288 with 1 Axes>"
      ]
     },
     "metadata": {
      "needs_background": "light"
     },
     "output_type": "display_data"
    },
    {
     "name": "stdout",
     "output_type": "stream",
     "text": [
      "정규성 확인완료 등분산검정 실시\n",
      "이분산이 나타난다 welch anova 실시\n",
      "유의확률 = 4.051294869949942e-42 분산분석의 귀무가설 기각, 다중비교 실시\n",
      "Multiple Comparison of Means - Tukey HSD, FWER=0.05 \n",
      "====================================================\n",
      "group1 group2 meandiff p-adj   lower   upper  reject\n",
      "----------------------------------------------------\n",
      "    12     13   0.0008    0.9 -0.0054  0.0069  False\n",
      "    12     14  -0.0014    0.9 -0.0075  0.0048  False\n",
      "    12     15  -0.0052 0.1553 -0.0114  0.0009  False\n",
      "    12     16  -0.0127  0.001 -0.0188 -0.0065   True\n",
      "    12     17  -0.0199  0.001 -0.0261 -0.0138   True\n",
      "    12     18  -0.0256  0.001 -0.0318 -0.0195   True\n",
      "    13     14  -0.0021    0.9 -0.0083   0.004  False\n",
      "    13     15   -0.006 0.0625 -0.0121  0.0002  False\n",
      "    13     16  -0.0134  0.001 -0.0196 -0.0073   True\n",
      "    13     17  -0.0207  0.001 -0.0268 -0.0145   True\n",
      "    13     18  -0.0264  0.001 -0.0325 -0.0202   True\n",
      "    14     15  -0.0039 0.5035   -0.01  0.0023  False\n",
      "    14     16  -0.0113  0.001 -0.0175 -0.0052   True\n",
      "    14     17  -0.0186  0.001 -0.0247 -0.0124   True\n",
      "    14     18  -0.0243  0.001 -0.0304 -0.0181   True\n",
      "    15     16  -0.0074 0.0069 -0.0136 -0.0013   True\n",
      "    15     17  -0.0147  0.001 -0.0208 -0.0085   True\n",
      "    15     18  -0.0204  0.001 -0.0265 -0.0142   True\n",
      "    16     17  -0.0073 0.0094 -0.0134 -0.0011   True\n",
      "    16     18   -0.013  0.001 -0.0191 -0.0068   True\n",
      "    17     18  -0.0057 0.0886 -0.0119  0.0004  False\n",
      "----------------------------------------------------\n"
     ]
    }
   ],
   "source": [
    "# 시간별로 분산분석\n",
    "# 유의미하게 가장 높게 나타난 afternoon만 확인하도록한다\n",
    "ANOVA(\"hour\", target, df[df[\"specific_time_category\"] == \"afternoon\"], 1, 0)\n",
    " \n",
    "# 시간에 따라 시간당 접속 유저수 대비 결제 유저수의 비율의 평균은 모두 같지는 않다\n",
    "# 12, 13, 14, 15 시는 서로 다르지 않다.\n",
    "# 12, 13, 14, 15 시가 시간당 접속 유저수 대비 결제 유저수의 비율의 평균이 유의미하게 다르다."
   ]
  },
  {
   "cell_type": "code",
   "execution_count": 21,
   "metadata": {},
   "outputs": [
    {
     "name": "stdout",
     "output_type": "stream",
     "text": [
      "week_day에 따른 no_of_view_to_purchase_user의 평균차\n"
     ]
    },
    {
     "data": {
      "image/png": "[encoded data removed]",
      "text/plain": [
       "<Figure size 432x288 with 1 Axes>"
      ]
     },
     "metadata": {
      "needs_background": "light"
     },
     "output_type": "display_data"
    },
    {
     "name": "stdout",
     "output_type": "stream",
     "text": [
      "정규성 확인완료 등분산검정 실시\n",
      "등분산 확인완료 분산분석 실시\n",
      "유의확률 = 0.08663684126482003분산분석의 귀무가설 기각불가능, week_day별로 평균의 차이가 없다\n"
     ]
    }
   ],
   "source": [
    "# 요일로 분산분석\n",
    "ANOVA(\"week_day\", target, df, 0, 0)\n",
    "\n",
    "# 요일별로 시간당 접속유저수 대비 결제 유저수의 비율의 평균은 모두 같다."
   ]
  },
  {
   "cell_type": "markdown",
   "metadata": {},
   "source": [
    "### 시간에 따라 시간당 매출액의 평균은 차이가 있는가?"
   ]
  },
  {
   "cell_type": "code",
   "execution_count": 22,
   "metadata": {},
   "outputs": [
    {
     "name": "stdout",
     "output_type": "stream",
     "text": [
      "month에 따른 total_sales의 평균차\n"
     ]
    },
    {
     "data": {
      "image/png": "[encoded data removed]",
      "text/plain": [
       "<Figure size 432x288 with 1 Axes>"
      ]
     },
     "metadata": {
      "needs_background": "light"
     },
     "output_type": "display_data"
    },
    {
     "name": "stdout",
     "output_type": "stream",
     "text": [
      "사용한 가설검정 : 독립표본 T 검정 등분산\n",
      "유의확률 = 0.27491688579477536\n"
     ]
    },
    {
     "data": {
      "text/plain": [
       "0.27491688579477536"
      ]
     },
     "execution_count": 22,
     "metadata": {},
     "output_type": "execute_result"
    }
   ],
   "source": [
    "# 월별로 두 집단의 위치모수 검정\n",
    "target = \"total_sales\"\n",
    "two_sample_test(\"month\", target, df, \"two-sided\", 1)\n",
    "\n",
    "# 월에 따라 시간당 매출액의 평균은 차이가 없다."
   ]
  },
  {
   "cell_type": "code",
   "execution_count": 23,
   "metadata": {},
   "outputs": [
    {
     "name": "stdout",
     "output_type": "stream",
     "text": [
      "                            OLS Regression Results                            \n",
      "==============================================================================\n",
      "Dep. Variable:            total_sales   R-squared:                       0.000\n",
      "Model:                            OLS   Adj. R-squared:                 -0.000\n",
      "Method:                 Least Squares   F-statistic:                    0.4174\n",
      "Date:                Fri, 20 May 2022   Prob (F-statistic):              0.518\n",
      "Time:                        17:01:12   Log-Likelihood:                -18788.\n",
      "No. Observations:                1388   AIC:                         3.758e+04\n",
      "Df Residuals:                    1386   BIC:                         3.759e+04\n",
      "Df Model:                           1                                         \n",
      "Covariance Type:            nonrobust                                         \n",
      "==============================================================================\n",
      "                 coef    std err          t      P>|t|      [0.025      0.975]\n",
      "------------------------------------------------------------------------------\n",
      "Intercept   2.998e+05   9916.353     30.237      0.000     2.8e+05    3.19e+05\n",
      "day          352.5318    545.651      0.646      0.518    -717.859    1422.923\n",
      "==============================================================================\n",
      "Omnibus:                      474.428   Durbin-Watson:                   0.128\n",
      "Prob(Omnibus):                  0.000   Jarque-Bera (JB):               68.789\n",
      "Skew:                          -0.072   Prob(JB):                     1.16e-15\n",
      "Kurtosis:                       1.919   Cond. No.                         36.7\n",
      "==============================================================================\n",
      "\n",
      "Notes:\n",
      "[1] Standard Errors assume that the covariance matrix of the errors is correctly specified.\n"
     ]
    },
    {
     "data": {
      "image/png": "[encoded data removed]",
      "text/plain": [
       "<Figure size 432x288 with 1 Axes>"
      ]
     },
     "metadata": {
      "needs_background": "light"
     },
     "output_type": "display_data"
    }
   ],
   "source": [
    "# 날자별로 산점도 추세확인\n",
    "temp_df = df.groupby(\"day\").mean()\n",
    "sns.regplot(y=temp_df[target], x=temp_df.index)\n",
    "model = sm.OLS.from_formula(target + \"~\" + \"day\", data = df)\n",
    "result = model.fit()\n",
    "print(result.summary())\n",
    "\n",
    "# 날자에 따라 시간당 매출액의 평균은 선형적인 추세가 나타나지 않는다."
   ]
  },
  {
   "cell_type": "code",
   "execution_count": 24,
   "metadata": {},
   "outputs": [
    {
     "name": "stdout",
     "output_type": "stream",
     "text": [
      "specific_time_category에 따른 total_sales의 평균차\n"
     ]
    },
    {
     "data": {
      "image/png": "[encoded data removed]",
      "text/plain": [
       "<Figure size 432x288 with 1 Axes>"
      ]
     },
     "metadata": {
      "needs_background": "light"
     },
     "output_type": "display_data"
    },
    {
     "name": "stdout",
     "output_type": "stream",
     "text": [
      "정규성 확인완료 등분산검정 실시\n",
      "이분산이 나타난다 welch anova 실시\n",
      "유의확률 = 2.2416039986610422e-247 분산분석의 귀무가설 기각, 다중비교 실시\n",
      "         Multiple Comparison of Means - Tukey HSD, FWER=0.05         \n",
      "=====================================================================\n",
      "  group1   group2   meandiff   p-adj    lower        upper     reject\n",
      "---------------------------------------------------------------------\n",
      "afternoon bedtime -344284.0483 0.001  -369145.093 -319423.0035   True\n",
      "afternoon evening -127787.2757 0.001 -158527.5216  -97047.0298   True\n",
      "afternoon morning -178499.3561 0.001 -201554.5405 -155444.1717   True\n",
      "  bedtime evening  216496.7725 0.001  184936.4076  248057.1374   True\n",
      "  bedtime morning  165784.6921 0.001  141646.8496  189922.5347   True\n",
      "  evening morning  -50712.0804 0.001  -80870.4394  -20553.7214   True\n",
      "---------------------------------------------------------------------\n"
     ]
    }
   ],
   "source": [
    "# 시간대별로 분산분석\n",
    "ANOVA(\"specific_time_category\", target, df, 1, 0)\n",
    "\n",
    "# 시간대에 따라 시간당 매출액의 평균은 모두 같지는 않다.\n",
    "# 모두 다르게 나타난다"
   ]
  },
  {
   "cell_type": "code",
   "execution_count": 25,
   "metadata": {},
   "outputs": [
    {
     "name": "stdout",
     "output_type": "stream",
     "text": [
      "hour에 따른 total_sales의 평균차\n"
     ]
    },
    {
     "data": {
      "image/png": "[encoded data removed]",
      "text/plain": [
       "<Figure size 432x288 with 1 Axes>"
      ]
     },
     "metadata": {
      "needs_background": "light"
     },
     "output_type": "display_data"
    },
    {
     "name": "stdout",
     "output_type": "stream",
     "text": [
      "정규성 확인완료 등분산검정 실시\n",
      "등분산 확인완료 분산분석 실시\n",
      "유의확률 = 5.061803339468483e-52 분산분석의 귀무가설 기각, 다중비교 실시\n",
      "       Multiple Comparison of Means - Tukey HSD, FWER=0.05        \n",
      "==================================================================\n",
      "group1 group2   meandiff   p-adj     lower        upper     reject\n",
      "------------------------------------------------------------------\n",
      "    12     13   11733.2566    0.9  -26817.1165   50283.6296  False\n",
      "    12     14  -22568.3786 0.5799  -61118.7517   15981.9944  False\n",
      "    12     15  -62419.4831  0.001 -100969.8562    -23869.11   True\n",
      "    12     16 -121848.2426  0.001 -160398.6157  -83297.8695   True\n",
      "    12     17 -140822.7445  0.001 -179373.1175 -102272.3714   True\n",
      "    12     18 -161171.5981  0.001 -199721.9712  -122621.225   True\n",
      "    13     14  -34301.6352 0.1181  -72852.0082    4248.7379  False\n",
      "    13     15  -74152.7397  0.001 -112703.1127  -35602.3666   True\n",
      "    13     16 -133581.4991  0.001 -172131.8722  -95031.1261   True\n",
      "    13     17  -152556.001  0.001 -191106.3741  -114005.628   True\n",
      "    13     18 -172904.8547  0.001 -211455.2277 -134354.4816   True\n",
      "    14     15  -39851.1045 0.0375  -78401.4775   -1300.7314   True\n",
      "    14     16   -99279.864  0.001  -137830.237  -60729.4909   True\n",
      "    14     17 -118254.3659  0.001 -156804.7389  -79703.9928   True\n",
      "    14     18 -138603.2195  0.001 -177153.5925 -100052.8464   True\n",
      "    15     16  -59428.7595  0.001  -97979.1325  -20878.3864   True\n",
      "    15     17  -78403.2614  0.001 -116953.6344  -39852.8883   True\n",
      "    15     18   -98752.115  0.001 -137302.4881  -60201.7419   True\n",
      "    16     17  -18974.5019 0.7416   -57524.875   19575.8712  False\n",
      "    16     18  -39323.3555 0.0422  -77873.7286    -772.9825   True\n",
      "    17     18  -20348.8536 0.6798  -58899.2267   18201.5194  False\n",
      "------------------------------------------------------------------\n"
     ]
    }
   ],
   "source": [
    "# 시간별로 분산분석\n",
    "# 유의미하게 가장 높게 나타난 afternoon만 확인하도록한다\n",
    "ANOVA(\"hour\", target, df[df[\"specific_time_category\"] == \"afternoon\"], 1, 0)\n",
    "\n",
    "# 시간에 따라 시간당 매출액의 평균은 모두 같지는 않다\n",
    "# 12, 13, 14시는 서로 다르지 않다."
   ]
  },
  {
   "cell_type": "code",
   "execution_count": 26,
   "metadata": {},
   "outputs": [
    {
     "name": "stdout",
     "output_type": "stream",
     "text": [
      "week_day에 따른 total_sales의 평균차\n"
     ]
    },
    {
     "data": {
      "image/png": "[encoded data removed]",
      "text/plain": [
       "<Figure size 432x288 with 1 Axes>"
      ]
     },
     "metadata": {
      "needs_background": "light"
     },
     "output_type": "display_data"
    },
    {
     "name": "stdout",
     "output_type": "stream",
     "text": [
      "정규성 확인완료 등분산검정 실시\n",
      "등분산 확인완료 분산분석 실시\n",
      "유의확률 = 0.3992234009355892분산분석의 귀무가설 기각불가능, week_day별로 평균의 차이가 없다\n"
     ]
    }
   ],
   "source": [
    "# 요일로 분산분석\n",
    "ANOVA(\"week_day\", target, df, 0, 0)\n",
    "# 요일별로 시간당 매출액의 평균은 모두 같다."
   ]
  },
  {
   "cell_type": "markdown",
   "metadata": {},
   "source": [
    "### 시간에 따라 시간당 결제횟수의 평균은 차이가 있는가?"
   ]
  },
  {
   "cell_type": "code",
   "execution_count": 27,
   "metadata": {},
   "outputs": [
    {
     "name": "stdout",
     "output_type": "stream",
     "text": [
      "month에 따른 event_type_purchase의 평균차\n"
     ]
    },
    {
     "data": {
      "image/png": "[encoded data removed]",
      "text/plain": [
       "<Figure size 432x288 with 1 Axes>"
      ]
     },
     "metadata": {
      "needs_background": "light"
     },
     "output_type": "display_data"
    },
    {
     "name": "stdout",
     "output_type": "stream",
     "text": [
      "사용한 가설검정 : 독립표본 T 검정 등분산\n",
      "유의확률 = 0.5067757328877256\n"
     ]
    },
    {
     "data": {
      "text/plain": [
       "0.5067757328877256"
      ]
     },
     "execution_count": 27,
     "metadata": {},
     "output_type": "execute_result"
    }
   ],
   "source": [
    "# 월별로 두 집단의 위치모수 검정\n",
    "target = \"event_type_purchase\"\n",
    "two_sample_test(\"month\", target, df, \"two-sided\", 1)\n",
    "\n",
    "# 월에 따라 시간당 결제 횟수의 평균은 차이가 없다."
   ]
  },
  {
   "cell_type": "code",
   "execution_count": 28,
   "metadata": {},
   "outputs": [
    {
     "name": "stdout",
     "output_type": "stream",
     "text": [
      "                             OLS Regression Results                            \n",
      "===============================================================================\n",
      "Dep. Variable:     event_type_purchase   R-squared:                       0.001\n",
      "Model:                             OLS   Adj. R-squared:                 -0.000\n",
      "Method:                  Least Squares   F-statistic:                    0.7653\n",
      "Date:                 Fri, 20 May 2022   Prob (F-statistic):              0.382\n",
      "Time:                         17:01:13   Log-Likelihood:                -10876.\n",
      "No. Observations:                 1388   AIC:                         2.176e+04\n",
      "Df Residuals:                     1386   BIC:                         2.177e+04\n",
      "Df Model:                            1                                         \n",
      "Covariance Type:             nonrobust                                         \n",
      "==============================================================================\n",
      "                 coef    std err          t      P>|t|      [0.025      0.975]\n",
      "------------------------------------------------------------------------------\n",
      "Intercept    988.0257     33.164     29.792      0.000     922.968    1053.083\n",
      "day            1.5964      1.825      0.875      0.382      -1.983       5.176\n",
      "==============================================================================\n",
      "Omnibus:                     1055.041   Durbin-Watson:                   0.118\n",
      "Prob(Omnibus):                  0.000   Jarque-Bera (JB):               87.761\n",
      "Skew:                          -0.144   Prob(JB):                     8.77e-20\n",
      "Kurtosis:                       1.802   Cond. No.                         36.7\n",
      "==============================================================================\n",
      "\n",
      "Notes:\n",
      "[1] Standard Errors assume that the covariance matrix of the errors is correctly specified.\n"
     ]
    },
    {
     "data": {
      "image/png": "[encoded data removed]",
      "text/plain": [
       "<Figure size 432x288 with 1 Axes>"
      ]
     },
     "metadata": {
      "needs_background": "light"
     },
     "output_type": "display_data"
    }
   ],
   "source": [
    "# 날자별로 산점도 추세확인\n",
    "temp_df = df.groupby(\"day\").mean()\n",
    "sns.regplot(y=temp_df[target], x=temp_df.index)\n",
    "model = sm.OLS.from_formula(target + \"~\" + \"day\", data = df)\n",
    "result = model.fit()\n",
    "print(result.summary())\n",
    "\n",
    "# 날자에 따라 시간당 결제횟수 평균은 선형적인 추세가 나타나지 않는다"
   ]
  },
  {
   "cell_type": "code",
   "execution_count": 29,
   "metadata": {},
   "outputs": [
    {
     "name": "stdout",
     "output_type": "stream",
     "text": [
      "specific_time_category에 따른 event_type_purchase의 평균차\n"
     ]
    },
    {
     "data": {
      "image/png": "[encoded data removed]",
      "text/plain": [
       "<Figure size 432x288 with 1 Axes>"
      ]
     },
     "metadata": {
      "needs_background": "light"
     },
     "output_type": "display_data"
    },
    {
     "name": "stdout",
     "output_type": "stream",
     "text": [
      "정규성 확인완료 등분산검정 실시\n",
      "이분산이 나타난다 welch anova 실시\n",
      "유의확률 = 3.734405371363365e-265 분산분석의 귀무가설 기각, 다중비교 실시\n",
      "      Multiple Comparison of Means - Tukey HSD, FWER=0.05      \n",
      "===============================================================\n",
      "  group1   group2  meandiff  p-adj   lower      upper    reject\n",
      "---------------------------------------------------------------\n",
      "afternoon bedtime -1164.2257 0.001 -1246.4812 -1081.9701   True\n",
      "afternoon evening  -370.3268 0.001  -472.0343  -268.6193   True\n",
      "afternoon morning  -537.9554 0.001   -614.236  -461.6747   True\n",
      "  bedtime evening   793.8989 0.001   689.4779   898.3199   True\n",
      "  bedtime morning   626.2703 0.001   546.4076    706.133   True\n",
      "  evening morning  -167.6286 0.001  -267.4109   -67.8463   True\n",
      "---------------------------------------------------------------\n"
     ]
    }
   ],
   "source": [
    "# 시간대별로 분산분석\n",
    "ANOVA(\"specific_time_category\", target, df, 1, 0)\n",
    "\n",
    "# 시간대에 따라 시간당 결제횟수의 평균은 모두 같지는 않다.\n",
    "# 모두 다르게 나타난다"
   ]
  },
  {
   "cell_type": "code",
   "execution_count": 30,
   "metadata": {},
   "outputs": [
    {
     "name": "stdout",
     "output_type": "stream",
     "text": [
      "hour에 따른 event_type_purchase의 평균차\n"
     ]
    },
    {
     "data": {
      "image/png": "[encoded data removed]",
      "text/plain": [
       "<Figure size 432x288 with 1 Axes>"
      ]
     },
     "metadata": {
      "needs_background": "light"
     },
     "output_type": "display_data"
    },
    {
     "name": "stdout",
     "output_type": "stream",
     "text": [
      "정규성 확인완료 등분산검정 실시\n",
      "등분산 확인완료 분산분석 실시\n",
      "유의확률 = 3.6711129219156875e-53 분산분석의 귀무가설 기각, 다중비교 실시\n",
      "   Multiple Comparison of Means - Tukey HSD, FWER=0.05   \n",
      "=========================================================\n",
      "group1 group2  meandiff p-adj    lower     upper   reject\n",
      "---------------------------------------------------------\n",
      "    12     13   -0.0517    0.9 -120.4009  120.2975  False\n",
      "    12     14 -104.5862 0.1361 -224.9354    15.763  False\n",
      "    12     15 -248.2069  0.001 -368.5561 -127.8577   True\n",
      "    12     16 -424.3966  0.001 -544.7457 -304.0474   True\n",
      "    12     17 -482.9138  0.001  -603.263 -362.5646   True\n",
      "    12     18 -512.6207  0.001 -632.9699 -392.2715   True\n",
      "    13     14 -104.5345 0.1365 -224.8837   15.8147  False\n",
      "    13     15 -248.1552  0.001 -368.5044  -127.806   True\n",
      "    13     16 -424.3448  0.001  -544.694 -303.9956   True\n",
      "    13     17 -482.8621  0.001 -603.2112 -362.5129   True\n",
      "    13     18  -512.569  0.001 -632.9181 -392.2198   True\n",
      "    14     15 -143.6207 0.0082 -263.9699  -23.2715   True\n",
      "    14     16 -319.8103  0.001 -440.1595 -199.4612   True\n",
      "    14     17 -378.3276  0.001 -498.6768 -257.9784   True\n",
      "    14     18 -408.0345  0.001 -528.3837 -287.6853   True\n",
      "    15     16 -176.1897  0.001 -296.5388  -55.8405   True\n",
      "    15     17 -234.7069  0.001 -355.0561 -114.3577   True\n",
      "    15     18 -264.4138  0.001  -384.763 -144.0646   True\n",
      "    16     17  -58.5172 0.7519 -178.8664   61.8319  False\n",
      "    16     18  -88.2241 0.3129 -208.5733    32.125  False\n",
      "    17     18  -29.7069    0.9 -150.0561   90.6423  False\n",
      "---------------------------------------------------------\n"
     ]
    }
   ],
   "source": [
    "# 시간별로 분산분석\n",
    "# 유의미하게 가장 높게 나타난 afternoon만 확인하도록한다\n",
    "ANOVA(\"hour\", target, df[df[\"specific_time_category\"] == \"afternoon\"], 1, 0)\n",
    "\n",
    "# 시간에 따라 시간당 결제횟수 평균은 모두 같지는 않다\n",
    "# 12, 13, 14시는 서로 다르지 않다."
   ]
  },
  {
   "cell_type": "code",
   "execution_count": 31,
   "metadata": {},
   "outputs": [
    {
     "name": "stdout",
     "output_type": "stream",
     "text": [
      "week_day에 따른 event_type_purchase의 평균차\n"
     ]
    },
    {
     "data": {
      "image/png": "[encoded data removed]",
      "text/plain": [
       "<Figure size 432x288 with 1 Axes>"
      ]
     },
     "metadata": {
      "needs_background": "light"
     },
     "output_type": "display_data"
    },
    {
     "name": "stdout",
     "output_type": "stream",
     "text": [
      "정규성 확인완료 등분산검정 실시\n",
      "등분산 확인완료 분산분석 실시\n",
      "유의확률 = 0.593068993377702분산분석의 귀무가설 기각불가능, week_day별로 평균의 차이가 없다\n"
     ]
    }
   ],
   "source": [
    "# 요일로 분산분석\n",
    "ANOVA(\"week_day\", target, df, 0, 0)\n",
    "# 요일별로 시간당 결제횟수의 평균은 모두 같다."
   ]
  },
  {
   "cell_type": "markdown",
   "metadata": {},
   "source": [
    "### 가설검정의 결론\n",
    "1. 월(month)에 따라 시간당 접속 유저수의 평균은 다르다.  \n",
    "2. 날자에 따라 시간당 접속 유저수의 평균은 선형적인 추세가 나타나지 않는다.  \n",
    "3. 시간대에 따라 시간당 접속 유저수의 평균은 모두 같지는 않다. (afternoon과 evening은 같다)  \n",
    "4. 시간(hour)에 따라 시간당 접속 유저수의 평균은 모두 같지는 않다.(17~20시는 같다.)  \n",
    "5. 요일에 따라 시간당 접속유저수의 평균은 모두 같다.  \n",
    "\n",
    "1. 월(month)에 따라 시간당 접속유저수 대비 결제유저수의 비율의 평균은 다르다.  \n",
    "2. 날자에 따라 시간당 접속유저수 대비 결제유저수의 비율의 평균은 선형적인 추세가 나타나지 않는다.  \n",
    "3. 시간대에 따라 시간당 접속 유저수 대비 결제 유저수 비율의 평균은 모두 같지는 않다.  \n",
    "4. 시간(hour)에 따라 시간당 접속 유저수 대비 결제 유저수의 비율의 평균은 모두 같지는 않다(12 ~ 15시는 같다)  \n",
    "5. 요일에 따라 시간당 접속 유저수 대비 결제 유저수의 비율의 평균은 모두 같다.  \n",
    "\n",
    "1. 월(month)에 따라 시간당 매출액의 평균은 같다.  \n",
    "2. 날자에 따라 시간당 매출액의 평균은 선형적인 추세가 나타나지 않는다.  \n",
    "3. 시간대에 따라 시간당 매출액의 평균은 모두 같지는 않다.  \n",
    "4. 시간(hour)에 따라 시간당 매출액 평균은 모두 같지는 않다.(12~14시는 같다.)  \n",
    "5. 요일에 따라 시간당 매출액 평균은 모두 같다.  \n",
    "\n",
    "1. 월(month)에 따라 시간당 결제횟수의 평균은 같다.  \n",
    "2. 날자에 따라 시간당 결제횟수 평균은 선형적인 추세가 나타나지 않는다.  \n",
    "3. 시간대에 따라 시간당 결제횟수 평균은 모두 같지는 않다.  \n",
    "4. 시간(hour)에 따라 시간당 결제횟수의 평균은 모두 같지는 않다.(12~14시는 같다.)  \n",
    "5. 요일에 따라 시간당 결제횟수의 평균은 모두 같다.  "
   ]
  }
 ],
 "metadata": {
  "interpreter": {
   "hash": "81794d4967e6c3204c66dcd87b604927b115b27c00565d3d43f05ba2f3a2cb0d"
  },
  "kernelspec": {
   "display_name": "Python 3.9.6 64-bit",
   "language": "python",
   "name": "python3"
  },
  "language_info": {
   "codemirror_mode": {
    "name": "ipython",
    "version": 3
   },
   "file_extension": ".py",
   "mimetype": "text/x-python",
   "name": "python",
   "nbconvert_exporter": "python",
   "pygments_lexer": "ipython3",
   "version": "3.9.6"
  },
  "orig_nbformat": 4
 },
 "nbformat": 4,
 "nbformat_minor": 2
}
