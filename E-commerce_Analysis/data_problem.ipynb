{
 "cells": [
  {
   "cell_type": "markdown",
   "metadata": {},
   "source": [
    "## 12월 이후의 데이터는 신뢰성에 문제가 있다."
   ]
  },
  {
   "cell_type": "code",
   "execution_count": 14,
   "metadata": {},
   "outputs": [
    {
     "data": {
      "text/html": [
       "<div>\n",
       "<style scoped>\n",
       "    .dataframe tbody tr th:only-of-type {\n",
       "        vertical-align: middle;\n",
       "    }\n",
       "\n",
       "    .dataframe tbody tr th {\n",
       "        vertical-align: top;\n",
       "    }\n",
       "\n",
       "    .dataframe thead th {\n",
       "        text-align: right;\n",
       "    }\n",
       "</style>\n",
       "<table border=\"1\" class=\"dataframe\">\n",
       "  <thead>\n",
       "    <tr style=\"text-align: right;\">\n",
       "      <th></th>\n",
       "      <th>general_time_category</th>\n",
       "      <th>specific_time_category</th>\n",
       "      <th>time</th>\n",
       "      <th>week_day</th>\n",
       "      <th>year</th>\n",
       "      <th>month</th>\n",
       "      <th>day</th>\n",
       "      <th>hour</th>\n",
       "      <th>event_type_view</th>\n",
       "      <th>event_type_purchase</th>\n",
       "      <th>event_type_cart</th>\n",
       "      <th>event_type_total</th>\n",
       "      <th>total_sales</th>\n",
       "      <th>no_of_total_user</th>\n",
       "      <th>no_of_cart_user</th>\n",
       "      <th>no_of_purchase_user</th>\n",
       "      <th>purchase_of_missing</th>\n",
       "      <th>purchase_of_electronics.clocks</th>\n",
       "      <th>purchase_of_electronics.video.tv</th>\n",
       "      <th>purchase_of_appliances.personal.massager</th>\n",
       "      <th>purchase_of_apparel.shoes</th>\n",
       "      <th>purchase_of_sport.bicycle</th>\n",
       "      <th>purchase_of_electronics.audio.headphone</th>\n",
       "      <th>purchase_of_construction.tools.light</th>\n",
       "      <th>purchase_of_electronics.smartphone</th>\n",
       "      <th>sales_of_missing</th>\n",
       "      <th>sales_of_electronics.clocks</th>\n",
       "      <th>sales_of_electronics.video.tv</th>\n",
       "      <th>sales_of_computers.notebook</th>\n",
       "      <th>sales_of_appliances.personal.massager</th>\n",
       "      <th>sales_of_sport.bicycle</th>\n",
       "      <th>sales_of_electronics.audio.headphone</th>\n",
       "      <th>sales_of_construction.tools.light</th>\n",
       "      <th>sales_of_appliances.kitchen.refrigerators</th>\n",
       "      <th>sales_of_electronics.smartphone</th>\n",
       "      <th>purchase_of_st_accessories</th>\n",
       "      <th>purchase_of_st_missing</th>\n",
       "      <th>purchase_of_st_stationery</th>\n",
       "      <th>purchase_of_st_country_yard</th>\n",
       "      <th>purchase_of_st_computers</th>\n",
       "      <th>purchase_of_st_apparel</th>\n",
       "      <th>purchase_of_st_kids</th>\n",
       "      <th>purchase_of_st_furniture</th>\n",
       "      <th>purchase_of_st_electronics</th>\n",
       "      <th>purchase_of_st_auto</th>\n",
       "      <th>purchase_of_st_appliances</th>\n",
       "      <th>purchase_of_st_sport</th>\n",
       "      <th>purchase_of_st_medicine</th>\n",
       "      <th>purchase_of_st_construction</th>\n",
       "      <th>sales_of_st_accessories</th>\n",
       "      <th>sales_of_st_missing</th>\n",
       "      <th>sales_of_st_stationery</th>\n",
       "      <th>sales_of_st_country_yard</th>\n",
       "      <th>sales_of_st_computers</th>\n",
       "      <th>sales_of_st_apparel</th>\n",
       "      <th>sales_of_st_kids</th>\n",
       "      <th>sales_of_st_furniture</th>\n",
       "      <th>sales_of_st_electronics</th>\n",
       "      <th>sales_of_st_auto</th>\n",
       "      <th>sales_of_st_appliances</th>\n",
       "      <th>sales_of_st_sport</th>\n",
       "      <th>sales_of_st_medicine</th>\n",
       "      <th>sales_of_st_construction</th>\n",
       "      <th>cart_of_missing</th>\n",
       "      <th>cart_of_electronics.clocks</th>\n",
       "      <th>cart_of_appliances.kitchen.washer</th>\n",
       "      <th>cart_of_electronics.video.tv</th>\n",
       "      <th>cart_of_appliances.personal.massager</th>\n",
       "      <th>cart_of_apparel.shoes</th>\n",
       "      <th>cart_of_sport.bicycle</th>\n",
       "      <th>cart_of_electronics.audio.headphone</th>\n",
       "      <th>cart_of_construction.tools.light</th>\n",
       "      <th>cart_of_electronics.smartphone</th>\n",
       "      <th>cart_of_st_accessories</th>\n",
       "      <th>cart_of_st_missing</th>\n",
       "      <th>cart_of_st_stationery</th>\n",
       "      <th>cart_of_st_country_yard</th>\n",
       "      <th>cart_of_st_computers</th>\n",
       "      <th>cart_of_st_apparel</th>\n",
       "      <th>cart_of_st_kids</th>\n",
       "      <th>cart_of_st_furniture</th>\n",
       "      <th>cart_of_st_electronics</th>\n",
       "      <th>cart_of_st_auto</th>\n",
       "      <th>cart_of_st_appliances</th>\n",
       "      <th>cart_of_st_sport</th>\n",
       "      <th>cart_of_st_medicine</th>\n",
       "      <th>cart_of_st_construction</th>\n",
       "      <th>view_of_missing</th>\n",
       "      <th>view_of_electronics.clocks</th>\n",
       "      <th>view_of_electronics.video.tv</th>\n",
       "      <th>view_of_computers.notebook</th>\n",
       "      <th>view_of_appliances.personal.massager</th>\n",
       "      <th>view_of_apparel.shoes</th>\n",
       "      <th>view_of_sport.bicycle</th>\n",
       "      <th>view_of_electronics.audio.headphone</th>\n",
       "      <th>view_of_construction.tools.light</th>\n",
       "      <th>view_of_appliances.kitchen.refrigerators</th>\n",
       "      <th>view_of_electronics.smartphone</th>\n",
       "      <th>view_of_st_accessories</th>\n",
       "      <th>view_of_st_missing</th>\n",
       "      <th>view_of_st_stationery</th>\n",
       "      <th>view_of_st_country_yard</th>\n",
       "      <th>view_of_st_computers</th>\n",
       "      <th>view_of_st_apparel</th>\n",
       "      <th>view_of_st_kids</th>\n",
       "      <th>view_of_st_furniture</th>\n",
       "      <th>view_of_st_electronics</th>\n",
       "      <th>view_of_st_auto</th>\n",
       "      <th>view_of_st_appliances</th>\n",
       "      <th>view_of_st_sport</th>\n",
       "      <th>view_of_st_medicine</th>\n",
       "      <th>view_of_st_construction</th>\n",
       "      <th>no_of_view_to_purchase_user</th>\n",
       "      <th>no_of_view_to_cart_user</th>\n",
       "      <th>no_of_cart_to_purchase_user</th>\n",
       "    </tr>\n",
       "  </thead>\n",
       "  <tbody>\n",
       "    <tr>\n",
       "      <th>0</th>\n",
       "      <td>0</td>\n",
       "      <td>1</td>\n",
       "      <td>2019-10-01 04:00:00</td>\n",
       "      <td>1</td>\n",
       "      <td>2019</td>\n",
       "      <td>10</td>\n",
       "      <td>1</td>\n",
       "      <td>4</td>\n",
       "      <td>1070</td>\n",
       "      <td>10</td>\n",
       "      <td>3</td>\n",
       "      <td>1083</td>\n",
       "      <td>2387.84</td>\n",
       "      <td>383</td>\n",
       "      <td>3.0</td>\n",
       "      <td>9.0</td>\n",
       "      <td>1.0</td>\n",
       "      <td>0.0</td>\n",
       "      <td>0.0</td>\n",
       "      <td>0.0</td>\n",
       "      <td>0.0</td>\n",
       "      <td>0.0</td>\n",
       "      <td>3.0</td>\n",
       "      <td>0.0</td>\n",
       "      <td>4.0</td>\n",
       "      <td>29.51</td>\n",
       "      <td>0.00</td>\n",
       "      <td>0.00</td>\n",
       "      <td>0.00</td>\n",
       "      <td>0.0</td>\n",
       "      <td>0.0</td>\n",
       "      <td>523.45</td>\n",
       "      <td>0.0</td>\n",
       "      <td>0.00</td>\n",
       "      <td>1752.43</td>\n",
       "      <td>0.0</td>\n",
       "      <td>1.0</td>\n",
       "      <td>0.0</td>\n",
       "      <td>0.0</td>\n",
       "      <td>0.0</td>\n",
       "      <td>0.0</td>\n",
       "      <td>0.0</td>\n",
       "      <td>1.0</td>\n",
       "      <td>7.0</td>\n",
       "      <td>0.0</td>\n",
       "      <td>1.0</td>\n",
       "      <td>0.0</td>\n",
       "      <td>0.0</td>\n",
       "      <td>0.0</td>\n",
       "      <td>0.00</td>\n",
       "      <td>29.51</td>\n",
       "      <td>0.0</td>\n",
       "      <td>0.0</td>\n",
       "      <td>0.00</td>\n",
       "      <td>0.00</td>\n",
       "      <td>0.00</td>\n",
       "      <td>54.42</td>\n",
       "      <td>2275.88</td>\n",
       "      <td>0.00</td>\n",
       "      <td>28.03</td>\n",
       "      <td>0.0</td>\n",
       "      <td>0.0</td>\n",
       "      <td>0.00</td>\n",
       "      <td>1.0</td>\n",
       "      <td>0.0</td>\n",
       "      <td>0.0</td>\n",
       "      <td>0.0</td>\n",
       "      <td>0.0</td>\n",
       "      <td>0.0</td>\n",
       "      <td>0.0</td>\n",
       "      <td>1.0</td>\n",
       "      <td>0.0</td>\n",
       "      <td>1.0</td>\n",
       "      <td>0.0</td>\n",
       "      <td>1.0</td>\n",
       "      <td>0.0</td>\n",
       "      <td>0.0</td>\n",
       "      <td>0.0</td>\n",
       "      <td>0.0</td>\n",
       "      <td>0.0</td>\n",
       "      <td>0.0</td>\n",
       "      <td>2.0</td>\n",
       "      <td>0.0</td>\n",
       "      <td>0.0</td>\n",
       "      <td>0.0</td>\n",
       "      <td>0.0</td>\n",
       "      <td>0.0</td>\n",
       "      <td>390</td>\n",
       "      <td>20.0</td>\n",
       "      <td>12.0</td>\n",
       "      <td>31.0</td>\n",
       "      <td>0.0</td>\n",
       "      <td>11.0</td>\n",
       "      <td>0.0</td>\n",
       "      <td>32.0</td>\n",
       "      <td>0.0</td>\n",
       "      <td>22.0</td>\n",
       "      <td>301.0</td>\n",
       "      <td>1.0</td>\n",
       "      <td>390</td>\n",
       "      <td>0.0</td>\n",
       "      <td>0.0</td>\n",
       "      <td>60</td>\n",
       "      <td>27</td>\n",
       "      <td>4.0</td>\n",
       "      <td>26.0</td>\n",
       "      <td>379</td>\n",
       "      <td>9.0</td>\n",
       "      <td>156</td>\n",
       "      <td>1.0</td>\n",
       "      <td>0.0</td>\n",
       "      <td>17</td>\n",
       "      <td>0.023499</td>\n",
       "      <td>0.007833</td>\n",
       "      <td>3.000000</td>\n",
       "    </tr>\n",
       "    <tr>\n",
       "      <th>1</th>\n",
       "      <td>0</td>\n",
       "      <td>1</td>\n",
       "      <td>2019-10-01 05:00:00</td>\n",
       "      <td>1</td>\n",
       "      <td>2019</td>\n",
       "      <td>10</td>\n",
       "      <td>1</td>\n",
       "      <td>5</td>\n",
       "      <td>121</td>\n",
       "      <td>0</td>\n",
       "      <td>0</td>\n",
       "      <td>121</td>\n",
       "      <td>0.00</td>\n",
       "      <td>102</td>\n",
       "      <td>0.0</td>\n",
       "      <td>0.0</td>\n",
       "      <td>0.0</td>\n",
       "      <td>0.0</td>\n",
       "      <td>0.0</td>\n",
       "      <td>0.0</td>\n",
       "      <td>0.0</td>\n",
       "      <td>0.0</td>\n",
       "      <td>0.0</td>\n",
       "      <td>0.0</td>\n",
       "      <td>0.0</td>\n",
       "      <td>0.00</td>\n",
       "      <td>0.00</td>\n",
       "      <td>0.00</td>\n",
       "      <td>0.00</td>\n",
       "      <td>0.0</td>\n",
       "      <td>0.0</td>\n",
       "      <td>0.00</td>\n",
       "      <td>0.0</td>\n",
       "      <td>0.00</td>\n",
       "      <td>0.00</td>\n",
       "      <td>0.0</td>\n",
       "      <td>0.0</td>\n",
       "      <td>0.0</td>\n",
       "      <td>0.0</td>\n",
       "      <td>0.0</td>\n",
       "      <td>0.0</td>\n",
       "      <td>0.0</td>\n",
       "      <td>0.0</td>\n",
       "      <td>0.0</td>\n",
       "      <td>0.0</td>\n",
       "      <td>0.0</td>\n",
       "      <td>0.0</td>\n",
       "      <td>0.0</td>\n",
       "      <td>0.0</td>\n",
       "      <td>0.00</td>\n",
       "      <td>0.00</td>\n",
       "      <td>0.0</td>\n",
       "      <td>0.0</td>\n",
       "      <td>0.00</td>\n",
       "      <td>0.00</td>\n",
       "      <td>0.00</td>\n",
       "      <td>0.00</td>\n",
       "      <td>0.00</td>\n",
       "      <td>0.00</td>\n",
       "      <td>0.00</td>\n",
       "      <td>0.0</td>\n",
       "      <td>0.0</td>\n",
       "      <td>0.00</td>\n",
       "      <td>0.0</td>\n",
       "      <td>0.0</td>\n",
       "      <td>0.0</td>\n",
       "      <td>0.0</td>\n",
       "      <td>0.0</td>\n",
       "      <td>0.0</td>\n",
       "      <td>0.0</td>\n",
       "      <td>0.0</td>\n",
       "      <td>0.0</td>\n",
       "      <td>0.0</td>\n",
       "      <td>0.0</td>\n",
       "      <td>0.0</td>\n",
       "      <td>0.0</td>\n",
       "      <td>0.0</td>\n",
       "      <td>0.0</td>\n",
       "      <td>0.0</td>\n",
       "      <td>0.0</td>\n",
       "      <td>0.0</td>\n",
       "      <td>0.0</td>\n",
       "      <td>0.0</td>\n",
       "      <td>0.0</td>\n",
       "      <td>0.0</td>\n",
       "      <td>0.0</td>\n",
       "      <td>0.0</td>\n",
       "      <td>37</td>\n",
       "      <td>9.0</td>\n",
       "      <td>3.0</td>\n",
       "      <td>7.0</td>\n",
       "      <td>0.0</td>\n",
       "      <td>1.0</td>\n",
       "      <td>0.0</td>\n",
       "      <td>3.0</td>\n",
       "      <td>0.0</td>\n",
       "      <td>0.0</td>\n",
       "      <td>38.0</td>\n",
       "      <td>0.0</td>\n",
       "      <td>37</td>\n",
       "      <td>0.0</td>\n",
       "      <td>0.0</td>\n",
       "      <td>10</td>\n",
       "      <td>2</td>\n",
       "      <td>0.0</td>\n",
       "      <td>1.0</td>\n",
       "      <td>56</td>\n",
       "      <td>2.0</td>\n",
       "      <td>8</td>\n",
       "      <td>0.0</td>\n",
       "      <td>1.0</td>\n",
       "      <td>4</td>\n",
       "      <td>0.000000</td>\n",
       "      <td>0.000000</td>\n",
       "      <td>NaN</td>\n",
       "    </tr>\n",
       "    <tr>\n",
       "      <th>2</th>\n",
       "      <td>1</td>\n",
       "      <td>1</td>\n",
       "      <td>2019-10-01 06:00:00</td>\n",
       "      <td>1</td>\n",
       "      <td>2019</td>\n",
       "      <td>10</td>\n",
       "      <td>1</td>\n",
       "      <td>6</td>\n",
       "      <td>22326</td>\n",
       "      <td>316</td>\n",
       "      <td>244</td>\n",
       "      <td>22886</td>\n",
       "      <td>85533.96</td>\n",
       "      <td>5378</td>\n",
       "      <td>156.0</td>\n",
       "      <td>268.0</td>\n",
       "      <td>75.0</td>\n",
       "      <td>8.0</td>\n",
       "      <td>5.0</td>\n",
       "      <td>0.0</td>\n",
       "      <td>2.0</td>\n",
       "      <td>0.0</td>\n",
       "      <td>12.0</td>\n",
       "      <td>0.0</td>\n",
       "      <td>152.0</td>\n",
       "      <td>8548.75</td>\n",
       "      <td>1696.67</td>\n",
       "      <td>1891.97</td>\n",
       "      <td>3378.55</td>\n",
       "      <td>0.0</td>\n",
       "      <td>0.0</td>\n",
       "      <td>848.63</td>\n",
       "      <td>0.0</td>\n",
       "      <td>1774.82</td>\n",
       "      <td>61223.66</td>\n",
       "      <td>3.0</td>\n",
       "      <td>75.0</td>\n",
       "      <td>1.0</td>\n",
       "      <td>0.0</td>\n",
       "      <td>13.0</td>\n",
       "      <td>3.0</td>\n",
       "      <td>1.0</td>\n",
       "      <td>4.0</td>\n",
       "      <td>184.0</td>\n",
       "      <td>2.0</td>\n",
       "      <td>28.0</td>\n",
       "      <td>0.0</td>\n",
       "      <td>0.0</td>\n",
       "      <td>2.0</td>\n",
       "      <td>301.17</td>\n",
       "      <td>8548.75</td>\n",
       "      <td>7.7</td>\n",
       "      <td>0.0</td>\n",
       "      <td>5438.08</td>\n",
       "      <td>213.11</td>\n",
       "      <td>19.92</td>\n",
       "      <td>457.36</td>\n",
       "      <td>65861.26</td>\n",
       "      <td>271.85</td>\n",
       "      <td>4248.47</td>\n",
       "      <td>0.0</td>\n",
       "      <td>0.0</td>\n",
       "      <td>166.29</td>\n",
       "      <td>20.0</td>\n",
       "      <td>5.0</td>\n",
       "      <td>1.0</td>\n",
       "      <td>7.0</td>\n",
       "      <td>0.0</td>\n",
       "      <td>0.0</td>\n",
       "      <td>0.0</td>\n",
       "      <td>10.0</td>\n",
       "      <td>0.0</td>\n",
       "      <td>187.0</td>\n",
       "      <td>0.0</td>\n",
       "      <td>20.0</td>\n",
       "      <td>1.0</td>\n",
       "      <td>0.0</td>\n",
       "      <td>3.0</td>\n",
       "      <td>0.0</td>\n",
       "      <td>0.0</td>\n",
       "      <td>0.0</td>\n",
       "      <td>211.0</td>\n",
       "      <td>0.0</td>\n",
       "      <td>9.0</td>\n",
       "      <td>0.0</td>\n",
       "      <td>0.0</td>\n",
       "      <td>0.0</td>\n",
       "      <td>7366</td>\n",
       "      <td>766.0</td>\n",
       "      <td>334.0</td>\n",
       "      <td>711.0</td>\n",
       "      <td>0.0</td>\n",
       "      <td>297.0</td>\n",
       "      <td>106.0</td>\n",
       "      <td>459.0</td>\n",
       "      <td>35.0</td>\n",
       "      <td>440.0</td>\n",
       "      <td>5835.0</td>\n",
       "      <td>165.0</td>\n",
       "      <td>7366</td>\n",
       "      <td>22.0</td>\n",
       "      <td>11.0</td>\n",
       "      <td>1219</td>\n",
       "      <td>650</td>\n",
       "      <td>254.0</td>\n",
       "      <td>677.0</td>\n",
       "      <td>7924</td>\n",
       "      <td>760.0</td>\n",
       "      <td>2765</td>\n",
       "      <td>116.0</td>\n",
       "      <td>8.0</td>\n",
       "      <td>389</td>\n",
       "      <td>0.049833</td>\n",
       "      <td>0.029007</td>\n",
       "      <td>1.717949</td>\n",
       "    </tr>\n",
       "  </tbody>\n",
       "</table>\n",
       "</div>"
      ],
      "text/plain": [
       "   general_time_category  specific_time_category                time  \\\n",
       "0                      0                       1 2019-10-01 04:00:00   \n",
       "1                      0                       1 2019-10-01 05:00:00   \n",
       "2                      1                       1 2019-10-01 06:00:00   \n",
       "\n",
       "   week_day  year  month  day  hour  event_type_view  event_type_purchase  \\\n",
       "0         1  2019     10    1     4             1070                   10   \n",
       "1         1  2019     10    1     5              121                    0   \n",
       "2         1  2019     10    1     6            22326                  316   \n",
       "\n",
       "   event_type_cart  event_type_total  total_sales  no_of_total_user  \\\n",
       "0                3              1083      2387.84               383   \n",
       "1                0               121         0.00               102   \n",
       "2              244             22886     85533.96              5378   \n",
       "\n",
       "   no_of_cart_user  no_of_purchase_user  purchase_of_missing  \\\n",
       "0              3.0                  9.0                  1.0   \n",
       "1              0.0                  0.0                  0.0   \n",
       "2            156.0                268.0                 75.0   \n",
       "\n",
       "   purchase_of_electronics.clocks  purchase_of_electronics.video.tv  \\\n",
       "0                             0.0                               0.0   \n",
       "1                             0.0                               0.0   \n",
       "2                             8.0                               5.0   \n",
       "\n",
       "   purchase_of_appliances.personal.massager  purchase_of_apparel.shoes  \\\n",
       "0                                       0.0                        0.0   \n",
       "1                                       0.0                        0.0   \n",
       "2                                       0.0                        2.0   \n",
       "\n",
       "   purchase_of_sport.bicycle  purchase_of_electronics.audio.headphone  \\\n",
       "0                        0.0                                      3.0   \n",
       "1                        0.0                                      0.0   \n",
       "2                        0.0                                     12.0   \n",
       "\n",
       "   purchase_of_construction.tools.light  purchase_of_electronics.smartphone  \\\n",
       "0                                   0.0                                 4.0   \n",
       "1                                   0.0                                 0.0   \n",
       "2                                   0.0                               152.0   \n",
       "\n",
       "   sales_of_missing  sales_of_electronics.clocks  \\\n",
       "0             29.51                         0.00   \n",
       "1              0.00                         0.00   \n",
       "2           8548.75                      1696.67   \n",
       "\n",
       "   sales_of_electronics.video.tv  sales_of_computers.notebook  \\\n",
       "0                           0.00                         0.00   \n",
       "1                           0.00                         0.00   \n",
       "2                        1891.97                      3378.55   \n",
       "\n",
       "   sales_of_appliances.personal.massager  sales_of_sport.bicycle  \\\n",
       "0                                    0.0                     0.0   \n",
       "1                                    0.0                     0.0   \n",
       "2                                    0.0                     0.0   \n",
       "\n",
       "   sales_of_electronics.audio.headphone  sales_of_construction.tools.light  \\\n",
       "0                                523.45                                0.0   \n",
       "1                                  0.00                                0.0   \n",
       "2                                848.63                                0.0   \n",
       "\n",
       "   sales_of_appliances.kitchen.refrigerators  sales_of_electronics.smartphone  \\\n",
       "0                                       0.00                          1752.43   \n",
       "1                                       0.00                             0.00   \n",
       "2                                    1774.82                         61223.66   \n",
       "\n",
       "   purchase_of_st_accessories  purchase_of_st_missing  \\\n",
       "0                         0.0                     1.0   \n",
       "1                         0.0                     0.0   \n",
       "2                         3.0                    75.0   \n",
       "\n",
       "   purchase_of_st_stationery  purchase_of_st_country_yard  \\\n",
       "0                        0.0                          0.0   \n",
       "1                        0.0                          0.0   \n",
       "2                        1.0                          0.0   \n",
       "\n",
       "   purchase_of_st_computers  purchase_of_st_apparel  purchase_of_st_kids  \\\n",
       "0                       0.0                     0.0                  0.0   \n",
       "1                       0.0                     0.0                  0.0   \n",
       "2                      13.0                     3.0                  1.0   \n",
       "\n",
       "   purchase_of_st_furniture  purchase_of_st_electronics  purchase_of_st_auto  \\\n",
       "0                       1.0                         7.0                  0.0   \n",
       "1                       0.0                         0.0                  0.0   \n",
       "2                       4.0                       184.0                  2.0   \n",
       "\n",
       "   purchase_of_st_appliances  purchase_of_st_sport  purchase_of_st_medicine  \\\n",
       "0                        1.0                   0.0                      0.0   \n",
       "1                        0.0                   0.0                      0.0   \n",
       "2                       28.0                   0.0                      0.0   \n",
       "\n",
       "   purchase_of_st_construction  sales_of_st_accessories  sales_of_st_missing  \\\n",
       "0                          0.0                     0.00                29.51   \n",
       "1                          0.0                     0.00                 0.00   \n",
       "2                          2.0                   301.17              8548.75   \n",
       "\n",
       "   sales_of_st_stationery  sales_of_st_country_yard  sales_of_st_computers  \\\n",
       "0                     0.0                       0.0                   0.00   \n",
       "1                     0.0                       0.0                   0.00   \n",
       "2                     7.7                       0.0                5438.08   \n",
       "\n",
       "   sales_of_st_apparel  sales_of_st_kids  sales_of_st_furniture  \\\n",
       "0                 0.00              0.00                  54.42   \n",
       "1                 0.00              0.00                   0.00   \n",
       "2               213.11             19.92                 457.36   \n",
       "\n",
       "   sales_of_st_electronics  sales_of_st_auto  sales_of_st_appliances  \\\n",
       "0                  2275.88              0.00                   28.03   \n",
       "1                     0.00              0.00                    0.00   \n",
       "2                 65861.26            271.85                 4248.47   \n",
       "\n",
       "   sales_of_st_sport  sales_of_st_medicine  sales_of_st_construction  \\\n",
       "0                0.0                   0.0                      0.00   \n",
       "1                0.0                   0.0                      0.00   \n",
       "2                0.0                   0.0                    166.29   \n",
       "\n",
       "   cart_of_missing  cart_of_electronics.clocks  \\\n",
       "0              1.0                         0.0   \n",
       "1              0.0                         0.0   \n",
       "2             20.0                         5.0   \n",
       "\n",
       "   cart_of_appliances.kitchen.washer  cart_of_electronics.video.tv  \\\n",
       "0                                0.0                           0.0   \n",
       "1                                0.0                           0.0   \n",
       "2                                1.0                           7.0   \n",
       "\n",
       "   cart_of_appliances.personal.massager  cart_of_apparel.shoes  \\\n",
       "0                                   0.0                    0.0   \n",
       "1                                   0.0                    0.0   \n",
       "2                                   0.0                    0.0   \n",
       "\n",
       "   cart_of_sport.bicycle  cart_of_electronics.audio.headphone  \\\n",
       "0                    0.0                                  1.0   \n",
       "1                    0.0                                  0.0   \n",
       "2                    0.0                                 10.0   \n",
       "\n",
       "   cart_of_construction.tools.light  cart_of_electronics.smartphone  \\\n",
       "0                               0.0                             1.0   \n",
       "1                               0.0                             0.0   \n",
       "2                               0.0                           187.0   \n",
       "\n",
       "   cart_of_st_accessories  cart_of_st_missing  cart_of_st_stationery  \\\n",
       "0                     0.0                 1.0                    0.0   \n",
       "1                     0.0                 0.0                    0.0   \n",
       "2                     0.0                20.0                    1.0   \n",
       "\n",
       "   cart_of_st_country_yard  cart_of_st_computers  cart_of_st_apparel  \\\n",
       "0                      0.0                   0.0                 0.0   \n",
       "1                      0.0                   0.0                 0.0   \n",
       "2                      0.0                   3.0                 0.0   \n",
       "\n",
       "   cart_of_st_kids  cart_of_st_furniture  cart_of_st_electronics  \\\n",
       "0              0.0                   0.0                     2.0   \n",
       "1              0.0                   0.0                     0.0   \n",
       "2              0.0                   0.0                   211.0   \n",
       "\n",
       "   cart_of_st_auto  cart_of_st_appliances  cart_of_st_sport  \\\n",
       "0              0.0                    0.0               0.0   \n",
       "1              0.0                    0.0               0.0   \n",
       "2              0.0                    9.0               0.0   \n",
       "\n",
       "   cart_of_st_medicine  cart_of_st_construction  view_of_missing  \\\n",
       "0                  0.0                      0.0              390   \n",
       "1                  0.0                      0.0               37   \n",
       "2                  0.0                      0.0             7366   \n",
       "\n",
       "   view_of_electronics.clocks  view_of_electronics.video.tv  \\\n",
       "0                        20.0                          12.0   \n",
       "1                         9.0                           3.0   \n",
       "2                       766.0                         334.0   \n",
       "\n",
       "   view_of_computers.notebook  view_of_appliances.personal.massager  \\\n",
       "0                        31.0                                   0.0   \n",
       "1                         7.0                                   0.0   \n",
       "2                       711.0                                   0.0   \n",
       "\n",
       "   view_of_apparel.shoes  view_of_sport.bicycle  \\\n",
       "0                   11.0                    0.0   \n",
       "1                    1.0                    0.0   \n",
       "2                  297.0                  106.0   \n",
       "\n",
       "   view_of_electronics.audio.headphone  view_of_construction.tools.light  \\\n",
       "0                                 32.0                               0.0   \n",
       "1                                  3.0                               0.0   \n",
       "2                                459.0                              35.0   \n",
       "\n",
       "   view_of_appliances.kitchen.refrigerators  view_of_electronics.smartphone  \\\n",
       "0                                      22.0                           301.0   \n",
       "1                                       0.0                            38.0   \n",
       "2                                     440.0                          5835.0   \n",
       "\n",
       "   view_of_st_accessories  view_of_st_missing  view_of_st_stationery  \\\n",
       "0                     1.0                 390                    0.0   \n",
       "1                     0.0                  37                    0.0   \n",
       "2                   165.0                7366                   22.0   \n",
       "\n",
       "   view_of_st_country_yard  view_of_st_computers  view_of_st_apparel  \\\n",
       "0                      0.0                    60                  27   \n",
       "1                      0.0                    10                   2   \n",
       "2                     11.0                  1219                 650   \n",
       "\n",
       "   view_of_st_kids  view_of_st_furniture  view_of_st_electronics  \\\n",
       "0              4.0                  26.0                     379   \n",
       "1              0.0                   1.0                      56   \n",
       "2            254.0                 677.0                    7924   \n",
       "\n",
       "   view_of_st_auto  view_of_st_appliances  view_of_st_sport  \\\n",
       "0              9.0                    156               1.0   \n",
       "1              2.0                      8               0.0   \n",
       "2            760.0                   2765             116.0   \n",
       "\n",
       "   view_of_st_medicine  view_of_st_construction  no_of_view_to_purchase_user  \\\n",
       "0                  0.0                       17                     0.023499   \n",
       "1                  1.0                        4                     0.000000   \n",
       "2                  8.0                      389                     0.049833   \n",
       "\n",
       "   no_of_view_to_cart_user  no_of_cart_to_purchase_user  \n",
       "0                 0.007833                     3.000000  \n",
       "1                 0.000000                          NaN  \n",
       "2                 0.029007                     1.717949  "
      ]
     },
     "execution_count": 14,
     "metadata": {},
     "output_type": "execute_result"
    }
   ],
   "source": [
    "import pandas as pd\n",
    "import plotly.graph_objects as go\n",
    "import plotly.express as px\n",
    "from my_function import to_hour_category\n",
    "pd.options.display.max_columns = None\n",
    "def load_data():\n",
    "    # 데이터 불러오기\n",
    "    df = pd.read_pickle(\"../../discarded_data/groupby_time_data.pkl\")\n",
    "\n",
    "    # 시간대 변수 두가지 생성(general, specific)\n",
    "    df[\"general_time_category\"] = df[\"hour\"].apply(to_hour_category, args=([6,12,18,24],))\n",
    "    df[\"specific_time_category\"] = df[\"hour\"].apply(to_hour_category, args=([4,10,16,22],))\n",
    "    columns = df.columns.to_list()\n",
    "    columns.insert(0, columns.pop())\n",
    "    columns.insert(0, columns.pop())\n",
    "    df = df[columns]\n",
    "\n",
    "    # 시간별 결제 인원의 비율    \n",
    "    df[\"no_of_view_to_purchase_user\"] = df[\"no_of_purchase_user\"] / df[\"no_of_total_user\"]\n",
    "    # 시간별 장바구니에 담은 인원의 비율\n",
    "    df[\"no_of_view_to_cart_user\"] = df[\"no_of_cart_user\"] / df[\"no_of_total_user\"]\n",
    "    # 시간별 장바구니에 담은 인원대비 결제하는 비중\n",
    "    df[\"no_of_cart_to_purchase_user\"] = df[\"no_of_purchase_user\"] / df[\"no_of_cart_user\"]\n",
    "\n",
    "    # 방문이나 장바구니 담기는 있어도 단 한번의 결제 로그도 없는 날자가 존재한다. 해당 날자의 값은 이상치로 생각하고 제거한다.\n",
    "    # 제거되는 날 11월 15일, 1월 2일\n",
    "    drop_index = df[(df[\"month\"] == 11) & (df[\"day\"] == 15)].index\n",
    "    df = df.drop(drop_index)\n",
    "    drop_index = df[(df[\"month\"] == 1) & (df[\"day\"] == 2)].index\n",
    "    df = df.drop(drop_index)\n",
    "    return df\n",
    "df = load_data()\n",
    "df.head(3)    "
   ]
  },
  {
   "cell_type": "code",
   "execution_count": 15,
   "metadata": {},
   "outputs": [
    {
     "data": {
      "application/vnd.plotly.v1+json": {
       "config": {
        "plotlyServerURL": "https://plotly.com"
       },
       "data": [
        {
         "mode": "lines+markers",
         "name": "electronics.clocks",
         "type": "scatter",
         "x": [
          "10월",
          "11월",
          "12월",
          "1월",
          "2월",
          "3월",
          "4월",
          "5월"
         ],
         "y": [
          4.330023221632198,
          4.757805149523112,
          5.262812483854797,
          4.235241641667992,
          4.898057004196551,
          4.390576573345969,
          3.4734841522640845,
          4.7568710359408035
         ]
        },
        {
         "mode": "lines+markers",
         "name": "electronics.video.tv",
         "type": "scatter",
         "x": [
          "10월",
          "11월",
          "12월",
          "1월",
          "2월",
          "3월",
          "4월",
          "5월"
         ],
         "y": [
          5.219661143356652,
          6.203328475292661,
          0.6909099541022429,
          0.7454815009807524,
          0.6288585929445012,
          0.6965433774749622,
          0.6942799592982164,
          0.9513742071881607
         ]
        },
        {
         "mode": "lines+markers",
         "name": "appliances.personal.massager",
         "type": "scatter",
         "x": [
          "10월",
          "11월",
          "12월",
          "1월",
          "2월",
          "3월",
          "4월",
          "5월"
         ],
         "y": [
          0.03946951040856997,
          0.10699988316104712,
          6.371926826100981,
          5.336097354984836,
          4.648785346770952,
          5.745242181296586,
          7.146308511182569,
          4.439746300211417
         ]
        },
        {
         "mode": "lines+markers",
         "name": "apparel.shoes",
         "type": "scatter",
         "x": [
          "10월",
          "11월",
          "12월",
          "1월",
          "2월",
          "3월",
          "4월",
          "5월"
         ],
         "y": [
          1.02983943415735,
          2.076863632543543,
          5.371168612469054,
          4.3549793521001625,
          3.788879263643785,
          3.7609500268948026,
          4.201682264595701,
          4.862579281183932
         ]
        },
        {
         "mode": "lines+markers",
         "name": "sport.bicycle",
         "type": "scatter",
         "x": [
          "10월",
          "11월",
          "12월",
          "1월",
          "2월",
          "3월",
          "4월",
          "5월"
         ],
         "y": [
          0.20291686946246398,
          0.10986961182820165,
          8.203508448566446,
          7.58442422613792,
          9.00735707135136,
          8.412470223611075,
          7.117885477914355,
          10.993657505285412
         ]
        },
        {
         "mode": "lines+markers",
         "name": "electronics.audio.headphone",
         "type": "scatter",
         "x": [
          "10월",
          "11월",
          "12월",
          "1월",
          "2월",
          "3월",
          "4월",
          "5월"
         ],
         "y": [
          7.375955561689876,
          8.36136443299286,
          2.6491397835949377,
          3.0175731085554878,
          3.3326509672539175,
          5.777579980021003,
          7.142139799636564,
          4.545454545454546
         ]
        },
        {
         "mode": "lines+markers",
         "name": "construction.tools.light",
         "type": "scatter",
         "x": [
          "10월",
          "11월",
          "12월",
          "1월",
          "2월",
          "3월",
          "4월",
          "5월"
         ],
         "y": [
          0.026878010155529243,
          0.018448255717421917,
          70.10655484761024,
          74.10192147034252,
          73.6434853595029,
          71.16845111549397,
          70.15884685859162,
          69.23890063424946
         ]
        },
        {
         "mode": "lines+markers",
         "name": "electronics.smartphone",
         "type": "scatter",
         "x": [
          "10월",
          "11월",
          "12월",
          "1월",
          "2월",
          "3월",
          "4월",
          "5월"
         ],
         "y": [
          81.77525624913736,
          78.36532055894115,
          1.3439790437013113,
          0.624281345230326,
          0.05192639433602868,
          0.04818652186163264,
          0.06537297651688992,
          0.21141649048625794
         ]
        }
       ],
       "layout": {
        "autosize": false,
        "height": 450,
        "template": {
         "data": {
          "bar": [
           {
            "error_x": {
             "color": "#2a3f5f"
            },
            "error_y": {
             "color": "#2a3f5f"
            },
            "marker": {
             "line": {
              "color": "#E5ECF6",
              "width": 0.5
             },
             "pattern": {
              "fillmode": "overlay",
              "size": 10,
              "solidity": 0.2
             }
            },
            "type": "bar"
           }
          ],
          "barpolar": [
           {
            "marker": {
             "line": {
              "color": "#E5ECF6",
              "width": 0.5
             },
             "pattern": {
              "fillmode": "overlay",
              "size": 10,
              "solidity": 0.2
             }
            },
            "type": "barpolar"
           }
          ],
          "carpet": [
           {
            "aaxis": {
             "endlinecolor": "#2a3f5f",
             "gridcolor": "white",
             "linecolor": "white",
             "minorgridcolor": "white",
             "startlinecolor": "#2a3f5f"
            },
            "baxis": {
             "endlinecolor": "#2a3f5f",
             "gridcolor": "white",
             "linecolor": "white",
             "minorgridcolor": "white",
             "startlinecolor": "#2a3f5f"
            },
            "type": "carpet"
           }
          ],
          "choropleth": [
           {
            "colorbar": {
             "outlinewidth": 0,
             "ticks": ""
            },
            "type": "choropleth"
           }
          ],
          "contour": [
           {
            "colorbar": {
             "outlinewidth": 0,
             "ticks": ""
            },
            "colorscale": [
             [
              0,
              "#0d0887"
             ],
             [
              0.1111111111111111,
              "#46039f"
             ],
             [
              0.2222222222222222,
              "#7201a8"
             ],
             [
              0.3333333333333333,
              "#9c179e"
             ],
             [
              0.4444444444444444,
              "#bd3786"
             ],
             [
              0.5555555555555556,
              "#d8576b"
             ],
             [
              0.6666666666666666,
              "#ed7953"
             ],
             [
              0.7777777777777778,
              "#fb9f3a"
             ],
             [
              0.8888888888888888,
              "#fdca26"
             ],
             [
              1,
              "#f0f921"
             ]
            ],
            "type": "contour"
           }
          ],
          "contourcarpet": [
           {
            "colorbar": {
             "outlinewidth": 0,
             "ticks": ""
            },
            "type": "contourcarpet"
           }
          ],
          "heatmap": [
           {
            "colorbar": {
             "outlinewidth": 0,
             "ticks": ""
            },
            "colorscale": [
             [
              0,
              "#0d0887"
             ],
             [
              0.1111111111111111,
              "#46039f"
             ],
             [
              0.2222222222222222,
              "#7201a8"
             ],
             [
              0.3333333333333333,
              "#9c179e"
             ],
             [
              0.4444444444444444,
              "#bd3786"
             ],
             [
              0.5555555555555556,
              "#d8576b"
             ],
             [
              0.6666666666666666,
              "#ed7953"
             ],
             [
              0.7777777777777778,
              "#fb9f3a"
             ],
             [
              0.8888888888888888,
              "#fdca26"
             ],
             [
              1,
              "#f0f921"
             ]
            ],
            "type": "heatmap"
           }
          ],
          "heatmapgl": [
           {
            "colorbar": {
             "outlinewidth": 0,
             "ticks": ""
            },
            "colorscale": [
             [
              0,
              "#0d0887"
             ],
             [
              0.1111111111111111,
              "#46039f"
             ],
             [
              0.2222222222222222,
              "#7201a8"
             ],
             [
              0.3333333333333333,
              "#9c179e"
             ],
             [
              0.4444444444444444,
              "#bd3786"
             ],
             [
              0.5555555555555556,
              "#d8576b"
             ],
             [
              0.6666666666666666,
              "#ed7953"
             ],
             [
              0.7777777777777778,
              "#fb9f3a"
             ],
             [
              0.8888888888888888,
              "#fdca26"
             ],
             [
              1,
              "#f0f921"
             ]
            ],
            "type": "heatmapgl"
           }
          ],
          "histogram": [
           {
            "marker": {
             "pattern": {
              "fillmode": "overlay",
              "size": 10,
              "solidity": 0.2
             }
            },
            "type": "histogram"
           }
          ],
          "histogram2d": [
           {
            "colorbar": {
             "outlinewidth": 0,
             "ticks": ""
            },
            "colorscale": [
             [
              0,
              "#0d0887"
             ],
             [
              0.1111111111111111,
              "#46039f"
             ],
             [
              0.2222222222222222,
              "#7201a8"
             ],
             [
              0.3333333333333333,
              "#9c179e"
             ],
             [
              0.4444444444444444,
              "#bd3786"
             ],
             [
              0.5555555555555556,
              "#d8576b"
             ],
             [
              0.6666666666666666,
              "#ed7953"
             ],
             [
              0.7777777777777778,
              "#fb9f3a"
             ],
             [
              0.8888888888888888,
              "#fdca26"
             ],
             [
              1,
              "#f0f921"
             ]
            ],
            "type": "histogram2d"
           }
          ],
          "histogram2dcontour": [
           {
            "colorbar": {
             "outlinewidth": 0,
             "ticks": ""
            },
            "colorscale": [
             [
              0,
              "#0d0887"
             ],
             [
              0.1111111111111111,
              "#46039f"
             ],
             [
              0.2222222222222222,
              "#7201a8"
             ],
             [
              0.3333333333333333,
              "#9c179e"
             ],
             [
              0.4444444444444444,
              "#bd3786"
             ],
             [
              0.5555555555555556,
              "#d8576b"
             ],
             [
              0.6666666666666666,
              "#ed7953"
             ],
             [
              0.7777777777777778,
              "#fb9f3a"
             ],
             [
              0.8888888888888888,
              "#fdca26"
             ],
             [
              1,
              "#f0f921"
             ]
            ],
            "type": "histogram2dcontour"
           }
          ],
          "mesh3d": [
           {
            "colorbar": {
             "outlinewidth": 0,
             "ticks": ""
            },
            "type": "mesh3d"
           }
          ],
          "parcoords": [
           {
            "line": {
             "colorbar": {
              "outlinewidth": 0,
              "ticks": ""
             }
            },
            "type": "parcoords"
           }
          ],
          "pie": [
           {
            "automargin": true,
            "type": "pie"
           }
          ],
          "scatter": [
           {
            "marker": {
             "colorbar": {
              "outlinewidth": 0,
              "ticks": ""
             }
            },
            "type": "scatter"
           }
          ],
          "scatter3d": [
           {
            "line": {
             "colorbar": {
              "outlinewidth": 0,
              "ticks": ""
             }
            },
            "marker": {
             "colorbar": {
              "outlinewidth": 0,
              "ticks": ""
             }
            },
            "type": "scatter3d"
           }
          ],
          "scattercarpet": [
           {
            "marker": {
             "colorbar": {
              "outlinewidth": 0,
              "ticks": ""
             }
            },
            "type": "scattercarpet"
           }
          ],
          "scattergeo": [
           {
            "marker": {
             "colorbar": {
              "outlinewidth": 0,
              "ticks": ""
             }
            },
            "type": "scattergeo"
           }
          ],
          "scattergl": [
           {
            "marker": {
             "colorbar": {
              "outlinewidth": 0,
              "ticks": ""
             }
            },
            "type": "scattergl"
           }
          ],
          "scattermapbox": [
           {
            "marker": {
             "colorbar": {
              "outlinewidth": 0,
              "ticks": ""
             }
            },
            "type": "scattermapbox"
           }
          ],
          "scatterpolar": [
           {
            "marker": {
             "colorbar": {
              "outlinewidth": 0,
              "ticks": ""
             }
            },
            "type": "scatterpolar"
           }
          ],
          "scatterpolargl": [
           {
            "marker": {
             "colorbar": {
              "outlinewidth": 0,
              "ticks": ""
             }
            },
            "type": "scatterpolargl"
           }
          ],
          "scatterternary": [
           {
            "marker": {
             "colorbar": {
              "outlinewidth": 0,
              "ticks": ""
             }
            },
            "type": "scatterternary"
           }
          ],
          "surface": [
           {
            "colorbar": {
             "outlinewidth": 0,
             "ticks": ""
            },
            "colorscale": [
             [
              0,
              "#0d0887"
             ],
             [
              0.1111111111111111,
              "#46039f"
             ],
             [
              0.2222222222222222,
              "#7201a8"
             ],
             [
              0.3333333333333333,
              "#9c179e"
             ],
             [
              0.4444444444444444,
              "#bd3786"
             ],
             [
              0.5555555555555556,
              "#d8576b"
             ],
             [
              0.6666666666666666,
              "#ed7953"
             ],
             [
              0.7777777777777778,
              "#fb9f3a"
             ],
             [
              0.8888888888888888,
              "#fdca26"
             ],
             [
              1,
              "#f0f921"
             ]
            ],
            "type": "surface"
           }
          ],
          "table": [
           {
            "cells": {
             "fill": {
              "color": "#EBF0F8"
             },
             "line": {
              "color": "white"
             }
            },
            "header": {
             "fill": {
              "color": "#C8D4E3"
             },
             "line": {
              "color": "white"
             }
            },
            "type": "table"
           }
          ]
         },
         "layout": {
          "annotationdefaults": {
           "arrowcolor": "#2a3f5f",
           "arrowhead": 0,
           "arrowwidth": 1
          },
          "autotypenumbers": "strict",
          "coloraxis": {
           "colorbar": {
            "outlinewidth": 0,
            "ticks": ""
           }
          },
          "colorscale": {
           "diverging": [
            [
             0,
             "#8e0152"
            ],
            [
             0.1,
             "#c51b7d"
            ],
            [
             0.2,
             "#de77ae"
            ],
            [
             0.3,
             "#f1b6da"
            ],
            [
             0.4,
             "#fde0ef"
            ],
            [
             0.5,
             "#f7f7f7"
            ],
            [
             0.6,
             "#e6f5d0"
            ],
            [
             0.7,
             "#b8e186"
            ],
            [
             0.8,
             "#7fbc41"
            ],
            [
             0.9,
             "#4d9221"
            ],
            [
             1,
             "#276419"
            ]
           ],
           "sequential": [
            [
             0,
             "#0d0887"
            ],
            [
             0.1111111111111111,
             "#46039f"
            ],
            [
             0.2222222222222222,
             "#7201a8"
            ],
            [
             0.3333333333333333,
             "#9c179e"
            ],
            [
             0.4444444444444444,
             "#bd3786"
            ],
            [
             0.5555555555555556,
             "#d8576b"
            ],
            [
             0.6666666666666666,
             "#ed7953"
            ],
            [
             0.7777777777777778,
             "#fb9f3a"
            ],
            [
             0.8888888888888888,
             "#fdca26"
            ],
            [
             1,
             "#f0f921"
            ]
           ],
           "sequentialminus": [
            [
             0,
             "#0d0887"
            ],
            [
             0.1111111111111111,
             "#46039f"
            ],
            [
             0.2222222222222222,
             "#7201a8"
            ],
            [
             0.3333333333333333,
             "#9c179e"
            ],
            [
             0.4444444444444444,
             "#bd3786"
            ],
            [
             0.5555555555555556,
             "#d8576b"
            ],
            [
             0.6666666666666666,
             "#ed7953"
            ],
            [
             0.7777777777777778,
             "#fb9f3a"
            ],
            [
             0.8888888888888888,
             "#fdca26"
            ],
            [
             1,
             "#f0f921"
            ]
           ]
          },
          "colorway": [
           "#636efa",
           "#EF553B",
           "#00cc96",
           "#ab63fa",
           "#FFA15A",
           "#19d3f3",
           "#FF6692",
           "#B6E880",
           "#FF97FF",
           "#FECB52"
          ],
          "font": {
           "color": "#2a3f5f"
          },
          "geo": {
           "bgcolor": "white",
           "lakecolor": "white",
           "landcolor": "#E5ECF6",
           "showlakes": true,
           "showland": true,
           "subunitcolor": "white"
          },
          "hoverlabel": {
           "align": "left"
          },
          "hovermode": "closest",
          "mapbox": {
           "style": "light"
          },
          "paper_bgcolor": "white",
          "plot_bgcolor": "#E5ECF6",
          "polar": {
           "angularaxis": {
            "gridcolor": "white",
            "linecolor": "white",
            "ticks": ""
           },
           "bgcolor": "#E5ECF6",
           "radialaxis": {
            "gridcolor": "white",
            "linecolor": "white",
            "ticks": ""
           }
          },
          "scene": {
           "xaxis": {
            "backgroundcolor": "#E5ECF6",
            "gridcolor": "white",
            "gridwidth": 2,
            "linecolor": "white",
            "showbackground": true,
            "ticks": "",
            "zerolinecolor": "white"
           },
           "yaxis": {
            "backgroundcolor": "#E5ECF6",
            "gridcolor": "white",
            "gridwidth": 2,
            "linecolor": "white",
            "showbackground": true,
            "ticks": "",
            "zerolinecolor": "white"
           },
           "zaxis": {
            "backgroundcolor": "#E5ECF6",
            "gridcolor": "white",
            "gridwidth": 2,
            "linecolor": "white",
            "showbackground": true,
            "ticks": "",
            "zerolinecolor": "white"
           }
          },
          "shapedefaults": {
           "line": {
            "color": "#2a3f5f"
           }
          },
          "ternary": {
           "aaxis": {
            "gridcolor": "white",
            "linecolor": "white",
            "ticks": ""
           },
           "baxis": {
            "gridcolor": "white",
            "linecolor": "white",
            "ticks": ""
           },
           "bgcolor": "#E5ECF6",
           "caxis": {
            "gridcolor": "white",
            "linecolor": "white",
            "ticks": ""
           }
          },
          "title": {
           "x": 0.05
          },
          "xaxis": {
           "automargin": true,
           "gridcolor": "white",
           "linecolor": "white",
           "ticks": "",
           "title": {
            "standoff": 15
           },
           "zerolinecolor": "white",
           "zerolinewidth": 2
          },
          "yaxis": {
           "automargin": true,
           "gridcolor": "white",
           "linecolor": "white",
           "ticks": "",
           "title": {
            "standoff": 15
           },
           "zerolinecolor": "white",
           "zerolinewidth": 2
          }
         }
        },
        "title": {
         "text": "결제 로그의 월별 카테고리 비중"
        },
        "width": 900
       }
      }
     },
     "metadata": {},
     "output_type": "display_data"
    }
   ],
   "source": [
    "# 구매한 로그의 카테고리의 비중은 월마다 다르다\n",
    "# 시각화\n",
    "temp_df = df.groupby(\"month\").sum().iloc[:,15:23].T\n",
    "temp_df = temp_df/temp_df.sum() * 100\n",
    "temp_df = temp_df.T\n",
    "temp_df = temp_df.reset_index()\n",
    "temp_df[\"month\"] = temp_df[\"month\"].apply(lambda x : x + 12 if x < 10 else x)\n",
    "#temp_df = temp_df.set_index(\"month\")\n",
    "temp_df = temp_df.sort_values(\"month\")\n",
    "temp_df[\"month\"] = temp_df[\"month\"].apply(lambda x : f\"{x - 12}월\" if x > 12 else f\"{x}월\")\n",
    "fig = go.Figure()\n",
    "for category in temp_df.columns[1:]:\n",
    "    fig.add_trace(go.Scatter(y=temp_df[category], x=temp_df[\"month\"],mode='lines+markers',  name=f\"{category.split('_')[-1]}\"))                                                                                 \n",
    "fig.update_layout(autosize=False,title = \"결제 로그의 월별 카테고리 비중\",width=900,height=450,)\n",
    "fig.show()\n",
    "del temp_df"
   ]
  },
  {
   "cell_type": "markdown",
   "metadata": {},
   "source": [
    "<img src=\"purchase_ratio_by_category.png\">"
   ]
  },
  {
   "cell_type": "markdown",
   "metadata": {},
   "source": [
    "데이터를 확인해보니 스마트폰이 전체 결제로그에서 차지하는 비중은 12월부터 급감하고 construction.tools.light는 12월부터 급등한다.\n",
    "\n",
    "12월부터 어떤 construction.tools.light 브랜드의 제품이 팔렸는가 확인해보도록한다."
   ]
  },
  {
   "cell_type": "code",
   "execution_count": 16,
   "metadata": {},
   "outputs": [
    {
     "data": {
      "text/plain": [
       "samsung    0.404113\n",
       "apple      0.305418\n",
       "xiaomi     0.144640\n",
       "huawei     0.081118\n",
       "oppo       0.039245\n",
       "Name: brand, dtype: float64"
      ]
     },
     "execution_count": 16,
     "metadata": {},
     "output_type": "execute_result"
    }
   ],
   "source": [
    "# 12월에 팔린 로그만 모아둔 데이터를 불러와서 브랜드를 확인해보자\n",
    "df = pd.read_parquet(\"../../discarded_data/purchase_2019-Dec.parquet.gzip\")\n",
    "df[df[\"category_code\"] == \"construction.tools.light\"][\"brand\"].value_counts(normalize=True)[:5]"
   ]
  },
  {
   "cell_type": "markdown",
   "metadata": {},
   "source": [
    "스마트폰 브랜드가 많이 나와있다.\n",
    "\n",
    "category_code가 스마트폰과 뒤바뀐건지 확인하기위해 스마트폰 카테고리를 확인해본다."
   ]
  },
  {
   "cell_type": "code",
   "execution_count": 17,
   "metadata": {},
   "outputs": [
    {
     "data": {
      "text/plain": [
       "apple      0.443702\n",
       "samsung    0.239559\n",
       "xiaomi     0.108364\n",
       "huawei     0.033745\n",
       "nokia      0.033189\n",
       "Name: brand, dtype: float64"
      ]
     },
     "execution_count": 17,
     "metadata": {},
     "output_type": "execute_result"
    }
   ],
   "source": [
    "df[df[\"category_code\"] == \"electronics.smartphone\"][\"brand\"].value_counts(normalize=True)[:5]"
   ]
  },
  {
   "cell_type": "markdown",
   "metadata": {},
   "source": [
    "스마트폰 브랜드는 정상적으로 나온다. 따라서 construction.tools.light 의 데이터는 신뢰할 수 없다.\n",
    "\n",
    "다른 카테고리를 추가로 살펴보자"
   ]
  },
  {
   "cell_type": "code",
   "execution_count": 18,
   "metadata": {},
   "outputs": [
    {
     "data": {
      "text/plain": [
       "xiaomi      0.274027\n",
       "sony        0.243889\n",
       "missing     0.048601\n",
       "starline    0.045975\n",
       "lg          0.043088\n",
       "Name: brand, dtype: float64"
      ]
     },
     "execution_count": 18,
     "metadata": {},
     "output_type": "execute_result"
    }
   ],
   "source": [
    "df[df[\"category_code\"] == \"apparel.shoes\"][\"brand\"].value_counts(normalize=True)[:5]"
   ]
  },
  {
   "cell_type": "code",
   "execution_count": 19,
   "metadata": {},
   "outputs": [
    {
     "data": {
      "text/plain": [
       "apple      0.564102\n",
       "xiaomi     0.145055\n",
       "samsung    0.084085\n",
       "jbl        0.046196\n",
       "huawei     0.024136\n",
       "Name: brand, dtype: float64"
      ]
     },
     "execution_count": 19,
     "metadata": {},
     "output_type": "execute_result"
    }
   ],
   "source": [
    "df[df[\"category_code\"] == \"sport.bicycle\"][\"brand\"].value_counts(normalize=True)[:5]"
   ]
  },
  {
   "cell_type": "markdown",
   "metadata": {},
   "source": [
    "12월 데이터는 신뢰할 수 없다.\n",
    "\n",
    "12월 이후의 데이터에서도 동일한 문제가 나타나는지 확인한다."
   ]
  },
  {
   "cell_type": "code",
   "execution_count": 20,
   "metadata": {},
   "outputs": [
    {
     "data": {
      "text/plain": [
       "samsung    0.407055\n",
       "apple      0.323304\n",
       "xiaomi     0.137259\n",
       "huawei     0.074777\n",
       "oppo       0.031670\n",
       "Name: brand, dtype: float64"
      ]
     },
     "execution_count": 20,
     "metadata": {},
     "output_type": "execute_result"
    }
   ],
   "source": [
    "df = pd.read_parquet(\"../../discarded_data/purchase_2020-Jan.parquet.gzip\")\n",
    "df[df[\"category_code\"] == \"construction.tools.light\"][\"brand\"].value_counts(normalize=True)[:5]"
   ]
  },
  {
   "cell_type": "code",
   "execution_count": 21,
   "metadata": {},
   "outputs": [
    {
     "data": {
      "text/plain": [
       "apple      0.579606\n",
       "xiaomi     0.149047\n",
       "samsung    0.068419\n",
       "jbl        0.041383\n",
       "huawei     0.027084\n",
       "Name: brand, dtype: float64"
      ]
     },
     "execution_count": 21,
     "metadata": {},
     "output_type": "execute_result"
    }
   ],
   "source": [
    "df[df[\"category_code\"] == \"sport.bicycle\"][\"brand\"].value_counts(normalize=True)[:5]"
   ]
  },
  {
   "cell_type": "code",
   "execution_count": 22,
   "metadata": {},
   "outputs": [
    {
     "data": {
      "text/plain": [
       "samsung    0.394505\n",
       "apple      0.349810\n",
       "xiaomi     0.134557\n",
       "huawei     0.062384\n",
       "oppo       0.031572\n",
       "Name: brand, dtype: float64"
      ]
     },
     "execution_count": 22,
     "metadata": {},
     "output_type": "execute_result"
    }
   ],
   "source": [
    "df = pd.read_parquet(\"../../discarded_data/purchase_2020-Feb.parquet.gzip\")\n",
    "df[df[\"category_code\"] == \"construction.tools.light\"][\"brand\"].value_counts(normalize=True)[:5]"
   ]
  },
  {
   "cell_type": "code",
   "execution_count": 23,
   "metadata": {},
   "outputs": [
    {
     "data": {
      "text/plain": [
       "apple      0.581902\n",
       "xiaomi     0.136829\n",
       "samsung    0.085499\n",
       "jbl        0.035347\n",
       "huawei     0.027030\n",
       "Name: brand, dtype: float64"
      ]
     },
     "execution_count": 23,
     "metadata": {},
     "output_type": "execute_result"
    }
   ],
   "source": [
    "df[df[\"category_code\"] == \"sport.bicycle\"][\"brand\"].value_counts(normalize=True)[:5]"
   ]
  },
  {
   "cell_type": "code",
   "execution_count": 24,
   "metadata": {},
   "outputs": [
    {
     "data": {
      "text/plain": [
       "samsung    0.436787\n",
       "apple      0.327265\n",
       "xiaomi     0.103694\n",
       "huawei     0.060678\n",
       "oppo       0.039550\n",
       "Name: brand, dtype: float64"
      ]
     },
     "execution_count": 24,
     "metadata": {},
     "output_type": "execute_result"
    }
   ],
   "source": [
    "df = pd.read_parquet(\"../../discarded_data/purchase_2020-MAR.parquet.gzip\")\n",
    "df[df[\"category_code\"] == \"construction.tools.light\"][\"brand\"].value_counts(normalize=True)[:5]"
   ]
  },
  {
   "cell_type": "code",
   "execution_count": 25,
   "metadata": {},
   "outputs": [
    {
     "data": {
      "text/plain": [
       "apple      0.554019\n",
       "xiaomi     0.137704\n",
       "samsung    0.089021\n",
       "jbl        0.042719\n",
       "huawei     0.025914\n",
       "Name: brand, dtype: float64"
      ]
     },
     "execution_count": 25,
     "metadata": {},
     "output_type": "execute_result"
    }
   ],
   "source": [
    "df[df[\"category_code\"] == \"sport.bicycle\"][\"brand\"].value_counts(normalize=True)[:5]"
   ]
  },
  {
   "cell_type": "code",
   "execution_count": 26,
   "metadata": {},
   "outputs": [
    {
     "data": {
      "text/plain": [
       "samsung    0.496711\n",
       "apple      0.202413\n",
       "xiaomi     0.122654\n",
       "huawei     0.074956\n",
       "oppo       0.065964\n",
       "Name: brand, dtype: float64"
      ]
     },
     "execution_count": 26,
     "metadata": {},
     "output_type": "execute_result"
    }
   ],
   "source": [
    "df = pd.read_parquet(\"../../discarded_data/purchase_2020-Apr.parquet.gzip\")\n",
    "df[df[\"category_code\"] == \"construction.tools.light\"][\"brand\"].value_counts(normalize=True)[:5]"
   ]
  },
  {
   "cell_type": "code",
   "execution_count": 27,
   "metadata": {},
   "outputs": [
    {
     "data": {
      "text/plain": [
       "apple      0.349932\n",
       "xiaomi     0.163234\n",
       "samsung    0.095926\n",
       "jbl        0.071214\n",
       "sony       0.034836\n",
       "Name: brand, dtype: float64"
      ]
     },
     "execution_count": 27,
     "metadata": {},
     "output_type": "execute_result"
    }
   ],
   "source": [
    "df[df[\"category_code\"] == \"sport.bicycle\"][\"brand\"].value_counts(normalize=True)[:5]"
   ]
  },
  {
   "cell_type": "markdown",
   "metadata": {},
   "source": [
    "12월 이후의 로그 데이터는 구매된 상품의 카테고리 혹은 브랜드에 문제가 있다.\n",
    "\n",
    "따라서 분석에서 사용하지 않는다."
   ]
  }
 ],
 "metadata": {
  "interpreter": {
   "hash": "81794d4967e6c3204c66dcd87b604927b115b27c00565d3d43f05ba2f3a2cb0d"
  },
  "kernelspec": {
   "display_name": "Python 3.9.6 64-bit",
   "language": "python",
   "name": "python3"
  },
  "language_info": {
   "codemirror_mode": {
    "name": "ipython",
    "version": 3
   },
   "file_extension": ".py",
   "mimetype": "text/x-python",
   "name": "python",
   "nbconvert_exporter": "python",
   "pygments_lexer": "ipython3",
   "version": "3.9.6"
  },
  "orig_nbformat": 4
 },
 "nbformat": 4,
 "nbformat_minor": 2
}
