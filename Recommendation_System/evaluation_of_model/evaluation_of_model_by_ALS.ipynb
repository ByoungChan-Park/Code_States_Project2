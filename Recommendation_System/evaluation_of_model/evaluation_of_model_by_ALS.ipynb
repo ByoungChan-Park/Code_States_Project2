{
  "cells": [
    {
      "cell_type": "markdown",
      "metadata": {
        "id": "1EnUNu9FHfzj"
      },
      "source": [
        "# implicit 라이브러리를 사용한 ALS model의 정당성 확인\n"
      ]
    },
    {
      "cell_type": "code",
      "execution_count": null,
      "metadata": {
        "colab": {
          "base_uri": "https://localhost:8080/"
        },
        "id": "hDccSrVUnJdK",
        "outputId": "9b576af2-04f6-41e3-cf78-9b9621f0c30f"
      },
      "outputs": [
        {
          "name": "stdout",
          "output_type": "stream",
          "text": [
            "Looking in indexes: https://pypi.org/simple, https://us-python.pkg.dev/colab-wheels/public/simple/\n",
            "Collecting implicit\n",
            "  Downloading implicit-0.5.2-cp37-cp37m-manylinux2014_x86_64.whl (18.5 MB)\n",
            "\u001b[K     |████████████████████████████████| 18.5 MB 337 kB/s \n",
            "\u001b[?25hRequirement already satisfied: tqdm>=4.27 in /usr/local/lib/python3.7/dist-packages (from implicit) (4.64.0)\n",
            "Requirement already satisfied: numpy in /usr/local/lib/python3.7/dist-packages (from implicit) (1.21.6)\n",
            "Requirement already satisfied: scipy>=0.16 in /usr/local/lib/python3.7/dist-packages (from implicit) (1.4.1)\n",
            "Installing collected packages: implicit\n",
            "Successfully installed implicit-0.5.2\n"
          ]
        }
      ],
      "source": [
        "# implicit 설치\n",
        "! pip install implicit"
      ]
    },
    {
      "cell_type": "code",
      "execution_count": 12,
      "metadata": {
        "colab": {
          "base_uri": "https://localhost:8080/"
        },
        "id": "k0WqTwX9nVKe",
        "outputId": "f15e526e-b368-4dec-c3a1-a2c56729bacc"
      },
      "outputs": [],
      "source": [
        "# 필요 모듈 불러오기\n",
        "import numpy as np\n",
        "import pandas as pd\n",
        "import scipy.sparse as sparse\n",
        "import random\n",
        "import implicit\n",
        "from scipy.sparse import csr_matrix\n",
        "import matplotlib.pyplot as plt\n",
        "from sklearn import metrics\n",
        "from tqdm.notebook import tqdm\n",
        "import os"
      ]
    },
    {
      "cell_type": "code",
      "execution_count": 4,
      "metadata": {
        "id": "cGaz5Yh4nXm-"
      },
      "outputs": [],
      "source": [
        "# implicit 에서 권장하는 부분\n",
        "os.environ['OPENBLAS_NUM_THREADS']='1'\n",
        "os.environ['KMP_DUPLICATE_LIB_OK']='True'\n",
        "os.environ['MKL_NUM_THREADS']='1'\n",
        "DATA_PATH = \"../../../data/\""
      ]
    },
    {
      "cell_type": "code",
      "execution_count": 8,
      "metadata": {},
      "outputs": [],
      "source": [
        "# 데이터 가공\n",
        "df = pd.read_parquet(DATA_PATH + \"2019-Oct.parquet.gzip\", columns = [\"event_type\", \"user_id\", \"product_id\", \"category_code\"])\n",
        "df = df.fillna(\"missing\")\n",
        "df[\"category_code\"] = df[\"category_code\"].apply(lambda x : x.split(\".\")[0])\n",
        "df = df[df[\"event_type\"] == \"view\"]\n",
        "df.to_parquet(DATA_PATH + \"Oct_view.parquet.gzip\")"
      ]
    },
    {
      "cell_type": "code",
      "execution_count": 9,
      "metadata": {
        "id": "_WpMnUnFnfHs"
      },
      "outputs": [],
      "source": [
        "# 데이터를 불러오는 함수\n",
        "# 9hz_Oct_view : 10월달에서 view 로그만 가져온 파일 \n",
        "def df_by_category(target_category = \"all\", upper = 10):\n",
        "    \"\"\"\n",
        "    매개변수\n",
        "    target_category : 1차 카테고리 코드를 지정해준다. all이면 모든 카테고리를 가져온다.\n",
        "    upper : upper 개 초과의 product를 view한 user만 가져온다. \n",
        "    \"\"\"\n",
        "    df = pd.read_parquet(DATA_PATH + \"Oct_view.parquet.gzip\")\n",
        "    if target_category != \"all\" :\n",
        "        df = df[df[\"category_code\"] == target_category]\n",
        "    gb = df[[\"user_id\", \"product_id\"]].groupby(\"user_id\").nunique()  \n",
        "    upper_users = gb[gb[\"product_id\"] > upper].index\n",
        "    del gb\n",
        "    df = df[df[\"user_id\"].isin(upper_users)]  \n",
        "    df = df.drop(\"category_code\",axis=1)\n",
        "    df = df.groupby([\"user_id\", \"product_id\"]).count().reset_index()\n",
        "    return df"
      ]
    },
    {
      "cell_type": "code",
      "execution_count": 10,
      "metadata": {
        "id": "N74m0wBHnhCG"
      },
      "outputs": [],
      "source": [
        "def sampling(df, sample_size = 100):\n",
        "    if sample_size > df[\"user_id\"].nunique():\n",
        "        raise Exception(\"sample size is bigger than users\")\n",
        "    sample_user_ids = np.random.choice(df[\"user_id\"].unique(), sample_size)\n",
        "    df = df[df[\"user_id\"].isin(sample_user_ids)].reset_index(drop=True)\n",
        "    del sample_user_ids\n",
        "    return df"
      ]
    },
    {
      "cell_type": "code",
      "execution_count": 11,
      "metadata": {
        "id": "_hjKtBFMnlaj"
      },
      "outputs": [],
      "source": [
        "def to_csr_matrix(df):\n",
        "\n",
        "    user_unique = df['user_id'].unique()\n",
        "    product_unique = df['product_id'].unique()\n",
        "\n",
        "    global idx_to_user\n",
        "    global idx_to_product\n",
        "    global user_to_idx\n",
        "    global product_to_idx\n",
        "\n",
        "    user_to_idx = {v:k for k,v in enumerate(user_unique)}\n",
        "    product_to_idx = {v:k for k,v in enumerate(product_unique)}\n",
        "    idx_to_user = {k:v for k,v in enumerate(user_unique)}\n",
        "    idx_to_product = {k:v for k,v in enumerate(product_unique)}\n",
        "\n",
        "    print(f\"user = {len(user_unique)}, product = {len(product_unique)}\")\n",
        "\n",
        "    temp_user_data = df['user_id'].map(user_to_idx.get).dropna()\n",
        "    if len(temp_user_data) == len(df):   \n",
        "        print('user_id column indexing OK!!')\n",
        "        df['user_id'] = temp_user_data   \n",
        "    else:\n",
        "        print('user_id column indexing Fail!!')\n",
        "\n",
        "    temp_product_data = df['product_id'].map(product_to_idx.get).dropna()\n",
        "    if len(temp_product_data) == len(df):\n",
        "        print('artist column indexing OK!!')\n",
        "        df['product_id'] = temp_product_data\n",
        "    else:\n",
        "        print('artist column indexing Fail!!')\n",
        "\n",
        "    # user-item 희소행렬 만들기\n",
        "    num_user = df['user_id'].nunique()\n",
        "    num_product = df['product_id'].nunique()\n",
        "\n",
        "    csr_data = csr_matrix((df.event_type, (df.user_id, df.product_id)), shape= (num_user, num_product))\n",
        "    print(f\"희소행렬에서 0 값의 비중 : {100 - (csr_data.count_nonzero() / (num_user * num_product) * 100)}\")\n",
        "\n",
        "    return csr_data"
      ]
    },
    {
      "cell_type": "code",
      "execution_count": 13,
      "metadata": {
        "colab": {
          "base_uri": "https://localhost:8080/"
        },
        "id": "Salx4NhLnnkG",
        "outputId": "81ffb727-7547-4463-ab14-1599a7ed7214"
      },
      "outputs": [
        {
          "name": "stdout",
          "output_type": "stream",
          "text": [
            "user = 581148, product = 161179\n",
            "user_id column indexing OK!!\n",
            "artist column indexing OK!!\n",
            "희소행렬에서 0 값의 비중 : 99.98300450533286\n"
          ]
        }
      ],
      "source": [
        "df = df_by_category(\"all\", 10)\n",
        "df = to_csr_matrix(df)"
      ]
    },
    {
      "cell_type": "code",
      "execution_count": 14,
      "metadata": {
        "id": "CCa7PE91nrDa"
      },
      "outputs": [],
      "source": [
        "# 훈련데이터와 검증데이터 분리\n",
        "\n",
        "test_set = df.copy()\n",
        "test_set[test_set !=0] = 1 # binary하게 만들기\n",
        "\n",
        "training_set = df.copy()\n",
        "nonzero_inds = training_set.nonzero()\n",
        "nonzero_pairs = list(zip(nonzero_inds[0], nonzero_inds[1]))\n",
        "\n",
        "random.seed(0)\n",
        "num_samples = int(np.ceil(0.2 * len(nonzero_pairs)))\n",
        "samples = random.sample(nonzero_pairs, num_samples)\n",
        "\n",
        "user_inds = [index[0] for index in samples]\n",
        "item_inds = [index[1] for index in samples]\n",
        "\n",
        "training_set[user_inds, item_inds] = 0\n",
        "training_set.eliminate_zeros()"
      ]
    },
    {
      "cell_type": "code",
      "execution_count": 15,
      "metadata": {
        "colab": {
          "base_uri": "https://localhost:8080/",
          "height": 49,
          "referenced_widgets": [
            "90e123d78d5640b0a1d2fb5ca702506a",
            "d949e8d28fe249358dc53c2bd90092ee",
            "83c70b2eeb2a45409904e45c13140a2d",
            "f5b93ba6f6df458e9dad58ff21f2fdd3",
            "0fd03485a54c4b438703dbc541119372",
            "6bec907f192844c0bca269fb77bf33c3",
            "30f0f2ff7f684a96a2711bff935cf9f6",
            "612750a8ad2544cb9d8842a5b1451397",
            "00d55e98960843b2b75ac19e632223fe",
            "81865489186d49c3b4a60321ba4d2a85",
            "ed7d141eed46475d8c78b72b3bf9ae0e"
          ]
        },
        "id": "foGygpannstN",
        "outputId": "db884713-7b9f-4528-ce91-110e9476235a"
      },
      "outputs": [
        {
          "name": "stderr",
          "output_type": "stream",
          "text": [
            "100%|██████████| 10/10 [01:47<00:00, 10.76s/it]\n"
          ]
        }
      ],
      "source": [
        "# 모델 적합\n",
        "alpha = 40\n",
        "als_model = implicit.als.AlternatingLeastSquares(factors=20, regularization=20, use_gpu=False, iterations=10, dtype=np.float32)\n",
        "als_model.fit((training_set * alpha).astype(\"double\"))"
      ]
    },
    {
      "cell_type": "code",
      "execution_count": 16,
      "metadata": {
        "colab": {
          "base_uri": "https://localhost:8080/"
        },
        "id": "S7N6rBfbnyaN",
        "outputId": "43eff7dc-a369-4871-e026-859d0a22b8d5"
      },
      "outputs": [
        {
          "name": "stdout",
          "output_type": "stream",
          "text": [
            "MSE of ALS = 6.330435415321184\n",
            "MSE of just use mean of view = 7.70689074146425\n"
          ]
        }
      ],
      "source": [
        "# 실제 값과 모델이 예측한 값 그리고 전체 평균으로 예측한 값을 저장 \n",
        "real = []\n",
        "for user_index, product_index in samples:\n",
        "    real.append(df[user_index, product_index])\n",
        "pred = []\n",
        "for user_index, product_index in samples:\n",
        "    pred.append(np.matmul(als_model.user_factors[user_index], als_model.item_factors[product_index].T))  \n",
        "all_pred = []\n",
        "all_pred_matrix = np.mean(df,axis=0)\n",
        "for user_index, product_index in samples:\n",
        "    all_pred.append(all_pred_matrix[0,product_index])\n",
        "\n",
        "# 각각 MSE를 출력\n",
        "print(f\"MSE of ALS = {np.mean(np.square(np.array(real) - np.array(pred)))}\")\n",
        "print(f\"MSE of just use mean of view = {np.mean(np.square(np.array(real) - np.array(all_pred)))}\")"
      ]
    },
    {
      "cell_type": "code",
      "execution_count": 17,
      "metadata": {},
      "outputs": [
        {
          "data": {
            "application/vnd.jupyter.widget-view+json": {
              "model_id": "4b57cf85b4ab4372b61ed7e92e017dbc",
              "version_major": 2,
              "version_minor": 0
            },
            "text/plain": [
              "  0%|          | 0/565957 [00:00<?, ?it/s]"
            ]
          },
          "metadata": {},
          "output_type": "display_data"
        },
        {
          "name": "stdout",
          "output_type": "stream",
          "text": [
            "mean_of_auc_by_ALS = 0.9578862018178596, mean_of_auc_by_pop = 0.9316881859163778\n"
          ]
        }
      ],
      "source": [
        "# AUC를 구해보자\n",
        "\n",
        "from sklearn import metrics\n",
        "\n",
        "def auc_score (test, predictions):\n",
        "    '''\n",
        "    fpr, tpr를 이용해서 AUC를 계산하는 함수\n",
        "    '''\n",
        "    fpr, tpr, thresholds = metrics.roc_curve(test, predictions)\n",
        "    return metrics.auc(fpr,tpr)\n",
        "\n",
        "# 가려진 유저의 리스트\n",
        "manipulated_users = np.unique(user_inds)\n",
        "\n",
        "# als로 구해진 유저별 auc 를 담는 list\n",
        "store_auc_als = []\n",
        "\n",
        "# 제품별 조회인원으로 구한 유저별 auc를 담는 list\n",
        "store_auc_pop = []\n",
        "\n",
        "# 반복되는 계산을 피하기위해 제품별 조회인원을 가지고 있는 array\n",
        "pop_pred = np.array(np.sum(test_set,axis=0)).reshape(-1)\n",
        "\n",
        "# manipulated_users : 0으로 가려진 유저들\n",
        "for user in tqdm(manipulated_users):\n",
        "    \n",
        "    training_row = training_set[user,:].toarray().reshape(-1)\n",
        "    zero_inds = np.where(training_row == 0)[0]\n",
        "    # 실제값\n",
        "    real = test_set[user,:].toarray().reshape(-1)[zero_inds]\n",
        "    # als로 예측한 값\n",
        "    predict_als = np.matmul(als_model.user_factors[user], als_model.item_factors.T)[zero_inds]\n",
        "    # 모델사용 없이 조회유저의 수로 예측하는 값\n",
        "    predict_pop = pop_pred[zero_inds]\n",
        "\n",
        "    # 각자 auc를 계산해서 넣음\n",
        "    store_auc_als.append(auc_score(real, predict_als))\n",
        "    store_auc_pop.append(auc_score(real, predict_pop))\n",
        "\n",
        "# 출력    \n",
        "print(f\"mean_of_auc_by_ALS = {np.mean(store_auc_als)}, mean_of_auc_by_pop = {np.mean(store_auc_pop)}\")    "
      ]
    }
  ],
  "metadata": {
    "colab": {
      "collapsed_sections": [],
      "name": " ALS 모델의 정당성.ipynb",
      "provenance": []
    },
    "interpreter": {
      "hash": "81794d4967e6c3204c66dcd87b604927b115b27c00565d3d43f05ba2f3a2cb0d"
    },
    "kernelspec": {
      "display_name": "Python 3.9.6 64-bit",
      "language": "python",
      "name": "python3"
    },
    "language_info": {
      "codemirror_mode": {
        "name": "ipython",
        "version": 3
      },
      "file_extension": ".py",
      "mimetype": "text/x-python",
      "name": "python",
      "nbconvert_exporter": "python",
      "pygments_lexer": "ipython3",
      "version": "3.9.6"
    },
    "widgets": {
      "application/vnd.jupyter.widget-state+json": {
        "00d55e98960843b2b75ac19e632223fe": {
          "model_module": "@jupyter-widgets/controls",
          "model_module_version": "1.5.0",
          "model_name": "ProgressStyleModel",
          "state": {
            "_model_module": "@jupyter-widgets/controls",
            "_model_module_version": "1.5.0",
            "_model_name": "ProgressStyleModel",
            "_view_count": null,
            "_view_module": "@jupyter-widgets/base",
            "_view_module_version": "1.2.0",
            "_view_name": "StyleView",
            "bar_color": null,
            "description_width": ""
          }
        },
        "0fd03485a54c4b438703dbc541119372": {
          "model_module": "@jupyter-widgets/base",
          "model_module_version": "1.2.0",
          "model_name": "LayoutModel",
          "state": {
            "_model_module": "@jupyter-widgets/base",
            "_model_module_version": "1.2.0",
            "_model_name": "LayoutModel",
            "_view_count": null,
            "_view_module": "@jupyter-widgets/base",
            "_view_module_version": "1.2.0",
            "_view_name": "LayoutView",
            "align_content": null,
            "align_items": null,
            "align_self": null,
            "border": null,
            "bottom": null,
            "display": null,
            "flex": null,
            "flex_flow": null,
            "grid_area": null,
            "grid_auto_columns": null,
            "grid_auto_flow": null,
            "grid_auto_rows": null,
            "grid_column": null,
            "grid_gap": null,
            "grid_row": null,
            "grid_template_areas": null,
            "grid_template_columns": null,
            "grid_template_rows": null,
            "height": null,
            "justify_content": null,
            "justify_items": null,
            "left": null,
            "margin": null,
            "max_height": null,
            "max_width": null,
            "min_height": null,
            "min_width": null,
            "object_fit": null,
            "object_position": null,
            "order": null,
            "overflow": null,
            "overflow_x": null,
            "overflow_y": null,
            "padding": null,
            "right": null,
            "top": null,
            "visibility": null,
            "width": null
          }
        },
        "30f0f2ff7f684a96a2711bff935cf9f6": {
          "model_module": "@jupyter-widgets/controls",
          "model_module_version": "1.5.0",
          "model_name": "DescriptionStyleModel",
          "state": {
            "_model_module": "@jupyter-widgets/controls",
            "_model_module_version": "1.5.0",
            "_model_name": "DescriptionStyleModel",
            "_view_count": null,
            "_view_module": "@jupyter-widgets/base",
            "_view_module_version": "1.2.0",
            "_view_name": "StyleView",
            "description_width": ""
          }
        },
        "612750a8ad2544cb9d8842a5b1451397": {
          "model_module": "@jupyter-widgets/base",
          "model_module_version": "1.2.0",
          "model_name": "LayoutModel",
          "state": {
            "_model_module": "@jupyter-widgets/base",
            "_model_module_version": "1.2.0",
            "_model_name": "LayoutModel",
            "_view_count": null,
            "_view_module": "@jupyter-widgets/base",
            "_view_module_version": "1.2.0",
            "_view_name": "LayoutView",
            "align_content": null,
            "align_items": null,
            "align_self": null,
            "border": null,
            "bottom": null,
            "display": null,
            "flex": null,
            "flex_flow": null,
            "grid_area": null,
            "grid_auto_columns": null,
            "grid_auto_flow": null,
            "grid_auto_rows": null,
            "grid_column": null,
            "grid_gap": null,
            "grid_row": null,
            "grid_template_areas": null,
            "grid_template_columns": null,
            "grid_template_rows": null,
            "height": null,
            "justify_content": null,
            "justify_items": null,
            "left": null,
            "margin": null,
            "max_height": null,
            "max_width": null,
            "min_height": null,
            "min_width": null,
            "object_fit": null,
            "object_position": null,
            "order": null,
            "overflow": null,
            "overflow_x": null,
            "overflow_y": null,
            "padding": null,
            "right": null,
            "top": null,
            "visibility": null,
            "width": null
          }
        },
        "6bec907f192844c0bca269fb77bf33c3": {
          "model_module": "@jupyter-widgets/base",
          "model_module_version": "1.2.0",
          "model_name": "LayoutModel",
          "state": {
            "_model_module": "@jupyter-widgets/base",
            "_model_module_version": "1.2.0",
            "_model_name": "LayoutModel",
            "_view_count": null,
            "_view_module": "@jupyter-widgets/base",
            "_view_module_version": "1.2.0",
            "_view_name": "LayoutView",
            "align_content": null,
            "align_items": null,
            "align_self": null,
            "border": null,
            "bottom": null,
            "display": null,
            "flex": null,
            "flex_flow": null,
            "grid_area": null,
            "grid_auto_columns": null,
            "grid_auto_flow": null,
            "grid_auto_rows": null,
            "grid_column": null,
            "grid_gap": null,
            "grid_row": null,
            "grid_template_areas": null,
            "grid_template_columns": null,
            "grid_template_rows": null,
            "height": null,
            "justify_content": null,
            "justify_items": null,
            "left": null,
            "margin": null,
            "max_height": null,
            "max_width": null,
            "min_height": null,
            "min_width": null,
            "object_fit": null,
            "object_position": null,
            "order": null,
            "overflow": null,
            "overflow_x": null,
            "overflow_y": null,
            "padding": null,
            "right": null,
            "top": null,
            "visibility": null,
            "width": null
          }
        },
        "81865489186d49c3b4a60321ba4d2a85": {
          "model_module": "@jupyter-widgets/base",
          "model_module_version": "1.2.0",
          "model_name": "LayoutModel",
          "state": {
            "_model_module": "@jupyter-widgets/base",
            "_model_module_version": "1.2.0",
            "_model_name": "LayoutModel",
            "_view_count": null,
            "_view_module": "@jupyter-widgets/base",
            "_view_module_version": "1.2.0",
            "_view_name": "LayoutView",
            "align_content": null,
            "align_items": null,
            "align_self": null,
            "border": null,
            "bottom": null,
            "display": null,
            "flex": null,
            "flex_flow": null,
            "grid_area": null,
            "grid_auto_columns": null,
            "grid_auto_flow": null,
            "grid_auto_rows": null,
            "grid_column": null,
            "grid_gap": null,
            "grid_row": null,
            "grid_template_areas": null,
            "grid_template_columns": null,
            "grid_template_rows": null,
            "height": null,
            "justify_content": null,
            "justify_items": null,
            "left": null,
            "margin": null,
            "max_height": null,
            "max_width": null,
            "min_height": null,
            "min_width": null,
            "object_fit": null,
            "object_position": null,
            "order": null,
            "overflow": null,
            "overflow_x": null,
            "overflow_y": null,
            "padding": null,
            "right": null,
            "top": null,
            "visibility": null,
            "width": null
          }
        },
        "83c70b2eeb2a45409904e45c13140a2d": {
          "model_module": "@jupyter-widgets/controls",
          "model_module_version": "1.5.0",
          "model_name": "FloatProgressModel",
          "state": {
            "_dom_classes": [],
            "_model_module": "@jupyter-widgets/controls",
            "_model_module_version": "1.5.0",
            "_model_name": "FloatProgressModel",
            "_view_count": null,
            "_view_module": "@jupyter-widgets/controls",
            "_view_module_version": "1.5.0",
            "_view_name": "ProgressView",
            "bar_style": "success",
            "description": "",
            "description_tooltip": null,
            "layout": "IPY_MODEL_612750a8ad2544cb9d8842a5b1451397",
            "max": 10,
            "min": 0,
            "orientation": "horizontal",
            "style": "IPY_MODEL_00d55e98960843b2b75ac19e632223fe",
            "value": 10
          }
        },
        "90e123d78d5640b0a1d2fb5ca702506a": {
          "model_module": "@jupyter-widgets/controls",
          "model_module_version": "1.5.0",
          "model_name": "HBoxModel",
          "state": {
            "_dom_classes": [],
            "_model_module": "@jupyter-widgets/controls",
            "_model_module_version": "1.5.0",
            "_model_name": "HBoxModel",
            "_view_count": null,
            "_view_module": "@jupyter-widgets/controls",
            "_view_module_version": "1.5.0",
            "_view_name": "HBoxView",
            "box_style": "",
            "children": [
              "IPY_MODEL_d949e8d28fe249358dc53c2bd90092ee",
              "IPY_MODEL_83c70b2eeb2a45409904e45c13140a2d",
              "IPY_MODEL_f5b93ba6f6df458e9dad58ff21f2fdd3"
            ],
            "layout": "IPY_MODEL_0fd03485a54c4b438703dbc541119372"
          }
        },
        "d949e8d28fe249358dc53c2bd90092ee": {
          "model_module": "@jupyter-widgets/controls",
          "model_module_version": "1.5.0",
          "model_name": "HTMLModel",
          "state": {
            "_dom_classes": [],
            "_model_module": "@jupyter-widgets/controls",
            "_model_module_version": "1.5.0",
            "_model_name": "HTMLModel",
            "_view_count": null,
            "_view_module": "@jupyter-widgets/controls",
            "_view_module_version": "1.5.0",
            "_view_name": "HTMLView",
            "description": "",
            "description_tooltip": null,
            "layout": "IPY_MODEL_6bec907f192844c0bca269fb77bf33c3",
            "placeholder": "​",
            "style": "IPY_MODEL_30f0f2ff7f684a96a2711bff935cf9f6",
            "value": "100%"
          }
        },
        "ed7d141eed46475d8c78b72b3bf9ae0e": {
          "model_module": "@jupyter-widgets/controls",
          "model_module_version": "1.5.0",
          "model_name": "DescriptionStyleModel",
          "state": {
            "_model_module": "@jupyter-widgets/controls",
            "_model_module_version": "1.5.0",
            "_model_name": "DescriptionStyleModel",
            "_view_count": null,
            "_view_module": "@jupyter-widgets/base",
            "_view_module_version": "1.2.0",
            "_view_name": "StyleView",
            "description_width": ""
          }
        },
        "f5b93ba6f6df458e9dad58ff21f2fdd3": {
          "model_module": "@jupyter-widgets/controls",
          "model_module_version": "1.5.0",
          "model_name": "HTMLModel",
          "state": {
            "_dom_classes": [],
            "_model_module": "@jupyter-widgets/controls",
            "_model_module_version": "1.5.0",
            "_model_name": "HTMLModel",
            "_view_count": null,
            "_view_module": "@jupyter-widgets/controls",
            "_view_module_version": "1.5.0",
            "_view_name": "HTMLView",
            "description": "",
            "description_tooltip": null,
            "layout": "IPY_MODEL_81865489186d49c3b4a60321ba4d2a85",
            "placeholder": "​",
            "style": "IPY_MODEL_ed7d141eed46475d8c78b72b3bf9ae0e",
            "value": " 10/10 [01:14&lt;00:00,  7.40s/it]"
          }
        }
      }
    }
  },
  "nbformat": 4,
  "nbformat_minor": 0
}
