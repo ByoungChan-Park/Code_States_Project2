{
 "cells": [
  {
   "cell_type": "code",
   "execution_count": 5,
   "metadata": {},
   "outputs": [],
   "source": [
    "import Bns\n",
    "\n",
    "model = Bns.Bns()\n",
    "\n",
    "# model.fit(\"../../../data/2019-Oct.csv\")"
   ]
  },
  {
   "cell_type": "code",
   "execution_count": 6,
   "metadata": {},
   "outputs": [
    {
     "name": "stdout",
     "output_type": "stream",
     "text": [
      "user_id = 512477553 는 로그데이터 안에 있습니다.\n",
      "user_id = 512477553 는 view 한 product의 개수가 23으로  10보다 큽니다. CF 기반의 추천을 사용합니다.\n",
      "1번째 추천 product_id = 1004767, category_code = electronics.smartphone, brand = samsung, mean_of_price = 248.97\n",
      "2번째 추천 product_id = 1305977, category_code = computers.notebook, brand = apple, mean_of_price = 2496.59\n",
      "3번째 추천 product_id = 1305975, category_code = computers.notebook, brand = apple, mean_of_price = 2510.44\n",
      "4번째 추천 product_id = 11500195, category_code = missing, brand = jbl, mean_of_price = 174.95\n",
      "5번째 추천 product_id = 1307053, category_code = computers.notebook, brand = apple, mean_of_price = 1827.92\n",
      "6번째 추천 product_id = 51200012, category_code = missing, brand = scierra, mean_of_price = 234.43\n",
      "7번째 추천 product_id = 28719643, category_code = apparel.shoes, brand = salamander, mean_of_price = 53.49\n",
      "8번째 추천 product_id = 1307050, category_code = computers.notebook, brand = apple, mean_of_price = 1583.05\n",
      "9번째 추천 product_id = 1306451, category_code = computers.notebook, brand = apple, mean_of_price = 1228.15\n",
      "10번째 추천 product_id = 55000007, category_code = apparel.costume, brand = missing, mean_of_price = 212.28\n"
     ]
    }
   ],
   "source": [
    "user_id = 512477553\n",
    "recommended_product_id = model.recommend(user_id)\n",
    "Bns.explain_products(recommended_product_id)"
   ]
  },
  {
   "cell_type": "code",
   "execution_count": 7,
   "metadata": {},
   "outputs": [
    {
     "name": "stdout",
     "output_type": "stream",
     "text": [
      "user_id = 33869381 는 로그데이터 안에 있습니다.\n",
      "user_id = 33869381 는 view 한 product의 개수가 1으로 10이하입니다. CB 기반의 추천을 사용합니다.\n",
      "해당 유저가 가장 많이 본 product_id = 7002639\n",
      "해당 유저가 가장 많이 본 product의 category_code = kids\n",
      "1번째 추천 product_id = 7002082, category_code = kids.carriage, brand = bumbleride, mean_of_price = 589.46\n",
      "2번째 추천 product_id = 7000143, category_code = kids.carriage, brand = bumbleride, mean_of_price = 589.46\n",
      "3번째 추천 product_id = 7002566, category_code = kids.carriage, brand = bumbleride, mean_of_price = 512.24\n",
      "4번째 추천 product_id = 7006242, category_code = kids.carriage, brand = bumbleride, mean_of_price = 476.79\n",
      "5번째 추천 product_id = 7006240, category_code = kids.carriage, brand = bumbleride, mean_of_price = 476.79\n",
      "6번째 추천 product_id = 7006248, category_code = kids.carriage, brand = bumbleride, mean_of_price = 476.79\n",
      "7번째 추천 product_id = 7006245, category_code = kids.carriage, brand = bumbleride, mean_of_price = 476.79\n",
      "8번째 추천 product_id = 7006244, category_code = kids.carriage, brand = bumbleride, mean_of_price = 476.79\n",
      "9번째 추천 product_id = 7006239, category_code = kids.carriage, brand = bumbleride, mean_of_price = 476.79\n",
      "10번째 추천 product_id = 7006246, category_code = kids.carriage, brand = bumbleride, mean_of_price = 476.79\n"
     ]
    }
   ],
   "source": [
    "user_id = 33869381\n",
    "recommended_product_id = model.recommend(user_id)\n",
    "Bns.explain_products(recommended_product_id)"
   ]
  },
  {
   "cell_type": "code",
   "execution_count": 8,
   "metadata": {},
   "outputs": [
    {
     "name": "stdout",
     "output_type": "stream",
     "text": [
      "로그에 없는 신규유저입니다. 가장 view가 많은 product 10개를 추천합니다.\n",
      "1번째 추천 product_id = 1004856, category_code = electronics.smartphone, brand = samsung, mean_of_price = 131.23\n",
      "2번째 추천 product_id = 1004767, category_code = electronics.smartphone, brand = samsung, mean_of_price = 248.97\n",
      "3번째 추천 product_id = 1005115, category_code = electronics.smartphone, brand = apple, mean_of_price = 989.25\n",
      "4번째 추천 product_id = 1004249, category_code = electronics.smartphone, brand = apple, mean_of_price = 739.92\n",
      "5번째 추천 product_id = 1004833, category_code = electronics.smartphone, brand = samsung, mean_of_price = 172.02\n",
      "6번째 추천 product_id = 1005105, category_code = electronics.smartphone, brand = apple, mean_of_price = 1405.65\n",
      "7번째 추천 product_id = 1004870, category_code = electronics.smartphone, brand = samsung, mean_of_price = 285.03\n",
      "8번째 추천 product_id = 1002544, category_code = electronics.smartphone, brand = apple, mean_of_price = 460.3\n",
      "9번째 추천 product_id = 4804056, category_code = electronics.audio.headphone, brand = apple, mean_of_price = 160.73\n",
      "10번째 추천 product_id = 5100816, category_code = missing, brand = xiaomi, mean_of_price = 28.68\n"
     ]
    }
   ],
   "source": [
    "user_id = 3\n",
    "recommended_product_id = model.recommend(user_id)\n",
    "Bns.explain_products(recommended_product_id)"
   ]
  }
 ],
 "metadata": {
  "interpreter": {
   "hash": "81794d4967e6c3204c66dcd87b604927b115b27c00565d3d43f05ba2f3a2cb0d"
  },
  "kernelspec": {
   "display_name": "Python 3.9.6 64-bit",
   "language": "python",
   "name": "python3"
  },
  "language_info": {
   "codemirror_mode": {
    "name": "ipython",
    "version": 3
   },
   "file_extension": ".py",
   "mimetype": "text/x-python",
   "name": "python",
   "nbconvert_exporter": "python",
   "pygments_lexer": "ipython3",
   "version": "3.9.6"
  },
  "orig_nbformat": 4
 },
 "nbformat": 4,
 "nbformat_minor": 2
}
