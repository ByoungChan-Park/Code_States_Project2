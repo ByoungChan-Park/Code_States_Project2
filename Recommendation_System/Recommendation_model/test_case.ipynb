{
 "cells": [
  {
   "cell_type": "code",
   "execution_count": 1,
   "metadata": {},
   "outputs": [
    {
     "name": "stdout",
     "output_type": "stream",
     "text": [
      "users.pkl로 pickling 완료\n",
      "popular_product_id_list.pkl로 pickling 완료\n",
      "user_unique_product_dict.pkl로 pickling 완료\n",
      "als_user_to_index.pkl로 pickling 완료\n",
      "als_index_to_user.pkl로 pickling 완료\n",
      "als_product_to_index.pkl로 pickling 완료\n",
      "als_index_to_product.pkl로 pickling 완료\n",
      "user_item_matrix.pkl로 pickling 완료\n"
     ]
    },
    {
     "name": "stderr",
     "output_type": "stream",
     "text": [
      "c:\\Python39\\lib\\site-packages\\implicit\\utils.py:26: UserWarning: OpenBLAS detected. Its highly recommend to set the environment variable 'export OPENBLAS_NUM_THREADS=1' to disable its internal multithreading\n",
      "  warnings.warn(\n",
      "100%|██████████| 10/10 [00:59<00:00,  5.97s/it]\n"
     ]
    },
    {
     "name": "stdout",
     "output_type": "stream",
     "text": [
      "als_model.pkl로 pickling 완료\n",
      "cb_user_to_index.pkl로 pickling 완료\n",
      "cb_index_to_user.pkl로 pickling 완료\n",
      "cb_product_to_index.pkl로 pickling 완료\n",
      "cb_index_to_product.pkl로 pickling 완료\n",
      "lower_user_item_matrix.pkl로 pickling 완료\n",
      "user_to_most_viewed_product_id.pkl로 pickling 완료\n",
      "appliances_pearson_table.pkl로 pickling 완료\n",
      "computers_pearson_table.pkl로 pickling 완료\n",
      "electronics_pearson_table.pkl로 pickling 완료\n",
      "apparel_pearson_table.pkl로 pickling 완료\n",
      "furniture_pearson_table.pkl로 pickling 완료\n",
      "construction_pearson_table.pkl로 pickling 완료\n",
      "kids_pearson_table.pkl로 pickling 완료\n",
      "auto_pearson_table.pkl로 pickling 완료\n",
      "sport_pearson_table.pkl로 pickling 완료\n",
      "accessories_pearson_table.pkl로 pickling 완료\n",
      "medicine_pearson_table.pkl로 pickling 완료\n",
      "stationery_pearson_table.pkl로 pickling 완료\n",
      "country_yard_pearson_table.pkl로 pickling 완료\n",
      "product_id_to_category_code_0.pkl로 pickling 완료\n",
      "explain.pkl로 pickling 완료\n"
     ]
    }
   ],
   "source": [
    "import Bns\n",
    "\n",
    "model = Bns.Bns()\n",
    "\n",
    "model.fit(\"../../../data/2019-Oct.csv\")"
   ]
  },
  {
   "cell_type": "code",
   "execution_count": 2,
   "metadata": {},
   "outputs": [
    {
     "name": "stdout",
     "output_type": "stream",
     "text": [
      "user_id = 512477553 는 로그데이터 안에 있습니다.\n",
      "user_id = 512477553 는 view 한 product의 개수가 23으로  10보다 큽니다. CF 기반의 추천을 사용합니다.\n",
      "1번째 추천 product_id = 4804055, category_code = electronics.audio.headphone, brand = apple, mean_of_price = 190.53\n",
      "2번째 추천 product_id = 4804056, category_code = electronics.audio.headphone, brand = apple, mean_of_price = 160.73\n",
      "3번째 추천 product_id = 4802036, category_code = electronics.audio.headphone, brand = apple, mean_of_price = 175.16\n",
      "4번째 추천 product_id = 4804572, category_code = electronics.audio.headphone, brand = apple, mean_of_price = 217.24\n",
      "5번째 추천 product_id = 4804295, category_code = electronics.audio.headphone, brand = xiaomi, mean_of_price = 22.88\n",
      "6번째 추천 product_id = 4803976, category_code = electronics.audio.headphone, brand = samsung, mean_of_price = 116.58\n",
      "7번째 추천 product_id = 4804409, category_code = electronics.audio.headphone, brand = elari, mean_of_price = 65.45\n",
      "8번째 추천 product_id = 4803878, category_code = electronics.audio.headphone, brand = xiaomi, mean_of_price = 43.12\n",
      "9번째 추천 product_id = 4803879, category_code = electronics.audio.headphone, brand = xiaomi, mean_of_price = 71.16\n",
      "10번째 추천 product_id = 1003306, category_code = electronics.smartphone, brand = apple, mean_of_price = 583.43\n"
     ]
    }
   ],
   "source": [
    "user_id = 512477553\n",
    "recommended_product_id = model.recommend(user_id)\n",
    "Bns.explain_products(recommended_product_id)"
   ]
  },
  {
   "cell_type": "code",
   "execution_count": 3,
   "metadata": {},
   "outputs": [
    {
     "name": "stdout",
     "output_type": "stream",
     "text": [
      "user_id = 266203246 는 로그데이터 안에 있습니다.\n",
      "user_id = 266203246 는 view 한 product의 개수가 1으로 10이하입니다. CB 기반의 추천을 사용합니다.\n",
      "해당 유저가 가장 많이 본 product_id = 3900896\n",
      "해당 유저가 가장 많이 본 product의 category_code = appliances.environment.water_heater\n",
      "해당 유저가 가장 많이 본 product의 brand = klima\n",
      "해당 유저가 가장 많이 본 product의 mean of price = 76.5377049180328\n",
      "1번째 추천 product_id = 3900894, category_code = appliances.environment.water_heater, brand = klima, mean_of_price = 88.38\n",
      "2번째 추천 product_id = 3900945, category_code = appliances.environment.water_heater, brand = klima, mean_of_price = 97.79\n",
      "3번째 추천 product_id = 3900895, category_code = appliances.environment.water_heater, brand = klima, mean_of_price = 102.0\n",
      "4번째 추천 product_id = 3900897, category_code = appliances.environment.water_heater, brand = klima, mean_of_price = 125.53\n",
      "5번째 추천 product_id = 3900898, category_code = appliances.environment.water_heater, brand = klima, mean_of_price = 139.07\n",
      "6번째 추천 product_id = 3900172, category_code = appliances.environment.water_heater, brand = ariston, mean_of_price = 92.92\n",
      "7번째 추천 product_id = 3901016, category_code = appliances.environment.water_heater, brand = atlantic, mean_of_price = 92.67\n",
      "8번째 추천 product_id = 3901021, category_code = appliances.environment.water_heater, brand = atlantic, mean_of_price = 92.67\n",
      "9번째 추천 product_id = 3900850, category_code = appliances.environment.water_heater, brand = zerten, mean_of_price = 92.64\n",
      "10번째 추천 product_id = 3900846, category_code = appliances.environment.water_heater, brand = garanterm, mean_of_price = 92.64\n"
     ]
    }
   ],
   "source": [
    "user_id = 266203246\n",
    "recommended_product_id = model.recommend(user_id)\n",
    "Bns.explain_products(recommended_product_id)"
   ]
  },
  {
   "cell_type": "code",
   "execution_count": 4,
   "metadata": {},
   "outputs": [
    {
     "name": "stdout",
     "output_type": "stream",
     "text": [
      "로그에 없는 신규유저입니다. 가장 view가 많은 product 10개를 추천합니다.\n",
      "1번째 추천 product_id = 1004856, category_code = electronics.smartphone, brand = samsung, mean_of_price = 131.23\n",
      "2번째 추천 product_id = 1004767, category_code = electronics.smartphone, brand = samsung, mean_of_price = 248.97\n",
      "3번째 추천 product_id = 1005115, category_code = electronics.smartphone, brand = apple, mean_of_price = 989.25\n",
      "4번째 추천 product_id = 1004249, category_code = electronics.smartphone, brand = apple, mean_of_price = 739.92\n",
      "5번째 추천 product_id = 1004833, category_code = electronics.smartphone, brand = samsung, mean_of_price = 172.02\n",
      "6번째 추천 product_id = 1005105, category_code = electronics.smartphone, brand = apple, mean_of_price = 1405.65\n",
      "7번째 추천 product_id = 1004870, category_code = electronics.smartphone, brand = samsung, mean_of_price = 285.03\n",
      "8번째 추천 product_id = 1002544, category_code = electronics.smartphone, brand = apple, mean_of_price = 460.3\n",
      "9번째 추천 product_id = 4804056, category_code = electronics.audio.headphone, brand = apple, mean_of_price = 160.73\n",
      "10번째 추천 product_id = 1004741, category_code = electronics.smartphone, brand = xiaomi, mean_of_price = 190.52\n"
     ]
    }
   ],
   "source": [
    "user_id = 3\n",
    "recommended_product_id = model.recommend(user_id)\n",
    "Bns.explain_products(recommended_product_id)"
   ]
  }
 ],
 "metadata": {
  "interpreter": {
   "hash": "81794d4967e6c3204c66dcd87b604927b115b27c00565d3d43f05ba2f3a2cb0d"
  },
  "kernelspec": {
   "display_name": "Python 3.9.6 64-bit",
   "language": "python",
   "name": "python3"
  },
  "language_info": {
   "codemirror_mode": {
    "name": "ipython",
    "version": 3
   },
   "file_extension": ".py",
   "mimetype": "text/x-python",
   "name": "python",
   "nbconvert_exporter": "python",
   "pygments_lexer": "ipython3",
   "version": "3.9.6"
  },
  "orig_nbformat": 4
 },
 "nbformat": 4,
 "nbformat_minor": 2
}
